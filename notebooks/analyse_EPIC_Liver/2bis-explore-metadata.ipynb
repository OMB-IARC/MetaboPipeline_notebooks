{
 "cells": [
  {
   "cell_type": "code",
   "execution_count": null,
   "id": "1573b942-abeb-4812-9a6d-8439efb2ec4b",
   "metadata": {},
   "outputs": [],
   "source": []
  },
  {
   "cell_type": "markdown",
   "id": "7c551cec-32d0-4a7c-b201-fc54964e4bb7",
   "metadata": {},
   "source": [
    "# Import modules"
   ]
  },
  {
   "cell_type": "code",
   "execution_count": 18,
   "id": "2a227b95-37ec-481e-9ff7-c462c94a9248",
   "metadata": {},
   "outputs": [],
   "source": [
    "import pandas as pd\n",
    "import os\n",
    "import numpy as np"
   ]
  },
  {
   "cell_type": "code",
   "execution_count": 5,
   "id": "bd89b13a-1767-4c66-adeb-d7c0358be760",
   "metadata": {},
   "outputs": [
    {
     "data": {
      "text/plain": [
       "'/home/jovyan/work/'"
      ]
     },
     "execution_count": 5,
     "metadata": {},
     "output_type": "execute_result"
    }
   ],
   "source": [
    "import re\n",
    "pwd = ! pwd\n",
    "pwd = re.sub('notebooks', '', pwd[0])\n",
    "pwd"
   ]
  },
  {
   "cell_type": "code",
   "execution_count": null,
   "id": "3f22d5f0-4d05-4212-82a2-ff456c6ba365",
   "metadata": {},
   "outputs": [],
   "source": []
  },
  {
   "cell_type": "markdown",
   "id": "65b34866-0377-49fc-a9d1-912ef4a03c3b",
   "metadata": {},
   "source": [
    "# Import data\n",
    "\n",
    "## Below are all the peak tables we prepared in the previous notebooks"
   ]
  },
  {
   "cell_type": "code",
   "execution_count": 31,
   "id": "4106a7b6-3566-4d71-83b6-c22c03136cb2",
   "metadata": {},
   "outputs": [
    {
     "name": "stdout",
     "output_type": "stream",
     "text": [
      "peakTable-Agilent-186_samples.csv\n",
      "shape : (189, 2160)\n",
      "\n",
      "peakTable-Agilent_and_metadata-final-inner_merge.csv\n",
      "shape : (229, 2160)\n",
      "\n",
      "peakTable-Agilent_and_metadata-final-outer_merge.csv\n",
      "shape : (937, 2160)\n",
      "\n",
      "peakTable-Agilent_and_metadata-original-inner_merge.csv\n",
      "shape : (258, 1245)\n",
      "\n",
      "peakTable-Agilent_and_metadata-original-outer_merge.csv\n",
      "shape : (934, 1245)\n",
      "\n",
      "peakTable-Agilent_and_metadata-unfiltered-inner_merge.csv\n",
      "shape : (258, 2303)\n",
      "\n",
      "peakTable-Agilent_and_metadata-unfiltered-outer_merge.csv\n",
      "shape : (934, 2303)\n",
      "\n",
      "peakTable-metaboigniter-186_samples-remove_corr.csv\n",
      "shape : (186, 1281)\n",
      "\n",
      "peakTable-metaboigniter-186_samples.csv\n",
      "shape : (186, 1501)\n",
      "\n",
      "peakTable-metaboigniter_and_metadata-inner_merge.csv\n",
      "shape : (186, 1501)\n",
      "\n",
      "peakTable-metaboigniter_and_metadata-outer_merge.csv\n",
      "shape : (934, 1501)\n",
      "\n"
     ]
    }
   ],
   "source": [
    "for file in os.listdir(pwd + 'data/prepare_HCC_data/usable_peakTables'):\n",
    "    \n",
    "    if file.endswith('.csv') :\n",
    "        \n",
    "        print(file)\n",
    "        print(f\"shape : {pd.read_csv(pwd + 'data/prepare_HCC_data/usable_peakTables/' + file, sep=',', decimal='.', na_values=np.nan, low_memory=False).shape}\")\n",
    "        print()"
   ]
  },
  {
   "cell_type": "markdown",
   "id": "20cf2480-9ac2-41f9-9e60-d8956b369d7d",
   "metadata": {},
   "source": [
    "## For further analysis, we will use :\n",
    "\n",
    "- ### <code>peakTable-Agilent-186_samples.csv</code> : Agilent peak table and all metadata (189 rows for 186 samples + 3 Blanks)\n",
    "- ### <code>peakTable-metaboigniter-186_samples.csv</code> : metaboigniter peak table and all metadata (same 186 samples)\n",
    "- ### <code>peakTable-metaboigniter-186_samples-remove_corr.csv</code> : metaboigniter peak table and all metadata (same 186 samples and strongly correlated features removed)"
   ]
  },
  {
   "cell_type": "code",
   "execution_count": null,
   "id": "0072900c-e30f-45b4-bd50-0381740e379a",
   "metadata": {},
   "outputs": [],
   "source": []
  },
  {
   "cell_type": "code",
   "execution_count": null,
   "id": "f53753ad-a1b8-40e5-8a3e-e53f43497f59",
   "metadata": {},
   "outputs": [],
   "source": []
  },
  {
   "cell_type": "code",
   "execution_count": null,
   "id": "f833c6da-0288-4da3-b6e4-ebf9e2526ca6",
   "metadata": {},
   "outputs": [],
   "source": []
  },
  {
   "cell_type": "code",
   "execution_count": null,
   "id": "46b42ffe-82e5-45a6-a377-3c0055760221",
   "metadata": {},
   "outputs": [],
   "source": []
  },
  {
   "cell_type": "code",
   "execution_count": null,
   "id": "327fa8e6-2424-4e23-9c5b-3e6fbf07c307",
   "metadata": {},
   "outputs": [],
   "source": []
  },
  {
   "cell_type": "code",
   "execution_count": null,
   "id": "1bf09049-c875-4b07-9f3c-fe3e17d0b451",
   "metadata": {},
   "outputs": [],
   "source": []
  },
  {
   "cell_type": "code",
   "execution_count": null,
   "id": "f6acc19b-0878-4d2d-bff6-d776bd889abc",
   "metadata": {},
   "outputs": [],
   "source": []
  },
  {
   "cell_type": "code",
   "execution_count": null,
   "id": "c1228046-497d-472d-9446-6555c976aa69",
   "metadata": {},
   "outputs": [],
   "source": []
  },
  {
   "cell_type": "code",
   "execution_count": null,
   "id": "2269a5fc-2479-446b-a567-f365dca24759",
   "metadata": {},
   "outputs": [],
   "source": []
  },
  {
   "cell_type": "code",
   "execution_count": null,
   "id": "21b283a0-6363-40f9-9ddd-68c76e374701",
   "metadata": {},
   "outputs": [],
   "source": []
  },
  {
   "cell_type": "code",
   "execution_count": null,
   "id": "9d097b41-5b41-47aa-8723-80c7f534f35f",
   "metadata": {},
   "outputs": [],
   "source": []
  }
 ],
 "metadata": {
  "kernelspec": {
   "display_name": "Python 3 (ipykernel)",
   "language": "python",
   "name": "python3"
  },
  "language_info": {
   "codemirror_mode": {
    "name": "ipython",
    "version": 3
   },
   "file_extension": ".py",
   "mimetype": "text/x-python",
   "name": "python",
   "nbconvert_exporter": "python",
   "pygments_lexer": "ipython3",
   "version": "3.9.10"
  }
 },
 "nbformat": 4,
 "nbformat_minor": 5
}
