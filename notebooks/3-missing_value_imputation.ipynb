{
 "cells": [
  {
   "cell_type": "markdown",
   "id": "8958b45e-784d-471b-af81-c49a71771e85",
   "metadata": {},
   "source": [
    "<div style=\"background-color: #eee3d3\">\n",
    "<h1> 3-missing_value_imputation.ipynb </h1>\n",
    "</div>"
   ]
  },
  {
   "cell_type": "markdown",
   "id": "5d7611d4-b774-4036-a710-ffd43288874f",
   "metadata": {},
   "source": [
    "# Missing value imputation with Python\n",
    "\n",
    "---\n",
    "\n",
    "### The purpose of this notebook is to use different methods to fill the missing values in our peak table :\n",
    "\n",
    "- __Univariate__ feature imputation\n",
    "    - __zero__ (or __one__ or any other constant value to avoid further analytical problems)\n",
    "    - __mean__\n",
    "    - __median__\n",
    "    - __mode__ (most frequent)\n",
    "    - __minimum__\n",
    "    - __half minimum__\n",
    "- __Multivariate__ feature imputation\n",
    "    - __MICE__ (inspired by the R <code>MICE</code> package)\n",
    "- __KNN imputation__\n",
    "\n",
    "\n",
    "These methods come from the scikitlearn documentation : [cf. doc scikitlearn](https://scikit-learn.org/stable/modules/impute.html#marking-imputed-values)\n",
    "\n",
    "One type of imputation algorithm is __univariate__, which imputes values in the i-th feature dimension __using only non-missing values in that feature dimension__ (e.g. <code>impute.SimpleImputer</code>). By contrast, __multivariate__ imputation algorithms __use the entire set of available feature dimensions__ to estimate the missing values (e.g. <code>impute.IterativeImputer</code>).\n",
    "\n",
    "---\n",
    "\n",
    "### The scikitlearn <code>IterativeImputer</code> is still experimental, so we will also use directly the R <code>MICE</code> package ([documentation](https://www.rdocumentation.org/packages/mice/versions/3.13.0/topics/mice)) in the R script <code>3.2-missing_value_imputation_MICE</code> (in this directory)\n",
    "\n",
    "---"
   ]
  },
  {
   "cell_type": "code",
   "execution_count": null,
   "id": "fbd70150-77bf-4d43-9304-c6cf6a9bc5b7",
   "metadata": {},
   "outputs": [],
   "source": []
  },
  {
   "cell_type": "markdown",
   "id": "15b0ce09-aa4f-400e-bb46-44bf2821b3f8",
   "metadata": {},
   "source": [
    "# Import modules"
   ]
  },
  {
   "cell_type": "code",
   "execution_count": 1,
   "id": "3bdbc1e3-c273-4bfd-adc9-a05c08993fdf",
   "metadata": {},
   "outputs": [],
   "source": [
    "import pandas as pd\n",
    "import matplotlib.pyplot as plt\n",
    "import seaborn as sns\n",
    "\n",
    "import random\n",
    "import numpy as np\n",
    "import sklearn\n",
    "import math"
   ]
  },
  {
   "cell_type": "code",
   "execution_count": 5,
   "id": "1fb94318-2783-4a1d-9043-b58b9661fa2e",
   "metadata": {},
   "outputs": [],
   "source": [
    "import sys\n",
    "sys.path.append('/home/vincentm/MLnotebooks/metabopipeline_notebooks/bin/')\n",
    "\n",
    "from missing_value_imputation_functions import *"
   ]
  },
  {
   "cell_type": "code",
   "execution_count": null,
   "id": "6b9ab7f0-4edb-4a0c-8fa7-2acf563b7a55",
   "metadata": {},
   "outputs": [],
   "source": []
  },
  {
   "cell_type": "markdown",
   "id": "c214f575-9c3f-4711-82a0-29e0f95b5b84",
   "metadata": {},
   "source": [
    "# Import data"
   ]
  },
  {
   "cell_type": "code",
   "execution_count": 6,
   "id": "86795142-5720-4c55-9472-e47a397c04fc",
   "metadata": {},
   "outputs": [],
   "source": [
    "# path_peakTable = input('Enter absolute path to the peak table csv file : ')\n",
    "# /home/vincentm/MLnotebooks/metabopipeline_notebooks/data/peakTable/original_peak_table/peakTable_HILIC_POS.csv\n",
    "path_peakTable = '/home/vincentm/MLnotebooks/metabopipeline_notebooks/data/peakTable/original_peak_table/peakTable_HILIC_POS.csv'\n",
    "\n",
    "peakTable_HILIC_POS = pd.read_csv(path_peakTable, sep=',', decimal='.', na_values='NA')"
   ]
  },
  {
   "cell_type": "code",
   "execution_count": 7,
   "id": "2ca7f2cf-8426-466c-aac4-072f3d691ed9",
   "metadata": {},
   "outputs": [
    {
     "data": {
      "text/html": [
       "<div>\n",
       "<style scoped>\n",
       "    .dataframe tbody tr th:only-of-type {\n",
       "        vertical-align: middle;\n",
       "    }\n",
       "\n",
       "    .dataframe tbody tr th {\n",
       "        vertical-align: top;\n",
       "    }\n",
       "\n",
       "    .dataframe thead th {\n",
       "        text-align: right;\n",
       "    }\n",
       "</style>\n",
       "<table border=\"1\" class=\"dataframe\">\n",
       "  <thead>\n",
       "    <tr style=\"text-align: right;\">\n",
       "      <th></th>\n",
       "      <th>SampleID</th>\n",
       "      <th>Groups</th>\n",
       "      <th>MatchCaseset</th>\n",
       "      <th>TypTumo</th>\n",
       "      <th>CaseHCCWide</th>\n",
       "      <th>EPICID</th>\n",
       "      <th>EPICBioID</th>\n",
       "      <th>AliquotID</th>\n",
       "      <th>variable_3</th>\n",
       "      <th>variable_5</th>\n",
       "      <th>...</th>\n",
       "      <th>variable_2339</th>\n",
       "      <th>variable_2340</th>\n",
       "      <th>variable_2350</th>\n",
       "      <th>variable_2353</th>\n",
       "      <th>variable_2364</th>\n",
       "      <th>variable_2365</th>\n",
       "      <th>variable_2368</th>\n",
       "      <th>variable_2370</th>\n",
       "      <th>variable_2375</th>\n",
       "      <th>variable_2379</th>\n",
       "    </tr>\n",
       "  </thead>\n",
       "  <tbody>\n",
       "    <tr>\n",
       "      <th>0</th>\n",
       "      <td>LivCan_153</td>\n",
       "      <td>Incident</td>\n",
       "      <td>82</td>\n",
       "      <td>HCC/</td>\n",
       "      <td>Yes</td>\n",
       "      <td>41____41041872</td>\n",
       "      <td>41____41041872</td>\n",
       "      <td>41041872-s2#C</td>\n",
       "      <td>19.761786</td>\n",
       "      <td>14.635833</td>\n",
       "      <td>...</td>\n",
       "      <td>12.052252</td>\n",
       "      <td>12.568647</td>\n",
       "      <td>13.192848</td>\n",
       "      <td>13.230752</td>\n",
       "      <td>12.248590</td>\n",
       "      <td>12.114328</td>\n",
       "      <td>14.269258</td>\n",
       "      <td>12.355017</td>\n",
       "      <td>13.114289</td>\n",
       "      <td>13.882526</td>\n",
       "    </tr>\n",
       "    <tr>\n",
       "      <th>1</th>\n",
       "      <td>LivCan_154</td>\n",
       "      <td>Non-case</td>\n",
       "      <td>82</td>\n",
       "      <td>NaN</td>\n",
       "      <td>No</td>\n",
       "      <td>41____41046868</td>\n",
       "      <td>41____41046868</td>\n",
       "      <td>41046868-s2#C</td>\n",
       "      <td>19.735279</td>\n",
       "      <td>15.193396</td>\n",
       "      <td>...</td>\n",
       "      <td>13.020365</td>\n",
       "      <td>12.928643</td>\n",
       "      <td>13.697314</td>\n",
       "      <td>NaN</td>\n",
       "      <td>12.604052</td>\n",
       "      <td>NaN</td>\n",
       "      <td>NaN</td>\n",
       "      <td>12.208084</td>\n",
       "      <td>NaN</td>\n",
       "      <td>NaN</td>\n",
       "    </tr>\n",
       "    <tr>\n",
       "      <th>2</th>\n",
       "      <td>LivCan_267</td>\n",
       "      <td>Incident</td>\n",
       "      <td>427</td>\n",
       "      <td>HCC/</td>\n",
       "      <td>Yes</td>\n",
       "      <td>41____41074588</td>\n",
       "      <td>41____41074588</td>\n",
       "      <td>41074588-s1#B</td>\n",
       "      <td>19.116076</td>\n",
       "      <td>15.446714</td>\n",
       "      <td>...</td>\n",
       "      <td>NaN</td>\n",
       "      <td>NaN</td>\n",
       "      <td>NaN</td>\n",
       "      <td>13.330175</td>\n",
       "      <td>NaN</td>\n",
       "      <td>NaN</td>\n",
       "      <td>14.215988</td>\n",
       "      <td>NaN</td>\n",
       "      <td>12.955618</td>\n",
       "      <td>13.778398</td>\n",
       "    </tr>\n",
       "    <tr>\n",
       "      <th>3</th>\n",
       "      <td>LivCan_268</td>\n",
       "      <td>Non-case</td>\n",
       "      <td>427</td>\n",
       "      <td>NaN</td>\n",
       "      <td>No</td>\n",
       "      <td>41____41089214</td>\n",
       "      <td>41____41089214</td>\n",
       "      <td>41089214-s1#B</td>\n",
       "      <td>19.376875</td>\n",
       "      <td>15.460525</td>\n",
       "      <td>...</td>\n",
       "      <td>NaN</td>\n",
       "      <td>NaN</td>\n",
       "      <td>13.086805</td>\n",
       "      <td>13.304171</td>\n",
       "      <td>NaN</td>\n",
       "      <td>11.605353</td>\n",
       "      <td>14.284148</td>\n",
       "      <td>12.319119</td>\n",
       "      <td>13.058285</td>\n",
       "      <td>13.812829</td>\n",
       "    </tr>\n",
       "    <tr>\n",
       "      <th>4</th>\n",
       "      <td>LivCan_299</td>\n",
       "      <td>Incident</td>\n",
       "      <td>376</td>\n",
       "      <td>HCC_Wide/</td>\n",
       "      <td>Yes</td>\n",
       "      <td>21____21103888</td>\n",
       "      <td>21____21103888</td>\n",
       "      <td>21103888-s1#B</td>\n",
       "      <td>19.555938</td>\n",
       "      <td>14.515536</td>\n",
       "      <td>...</td>\n",
       "      <td>NaN</td>\n",
       "      <td>NaN</td>\n",
       "      <td>NaN</td>\n",
       "      <td>13.306722</td>\n",
       "      <td>12.349830</td>\n",
       "      <td>11.926237</td>\n",
       "      <td>14.192775</td>\n",
       "      <td>NaN</td>\n",
       "      <td>13.006556</td>\n",
       "      <td>13.841201</td>\n",
       "    </tr>\n",
       "    <tr>\n",
       "      <th>...</th>\n",
       "      <td>...</td>\n",
       "      <td>...</td>\n",
       "      <td>...</td>\n",
       "      <td>...</td>\n",
       "      <td>...</td>\n",
       "      <td>...</td>\n",
       "      <td>...</td>\n",
       "      <td>...</td>\n",
       "      <td>...</td>\n",
       "      <td>...</td>\n",
       "      <td>...</td>\n",
       "      <td>...</td>\n",
       "      <td>...</td>\n",
       "      <td>...</td>\n",
       "      <td>...</td>\n",
       "      <td>...</td>\n",
       "      <td>...</td>\n",
       "      <td>...</td>\n",
       "      <td>...</td>\n",
       "      <td>...</td>\n",
       "      <td>...</td>\n",
       "    </tr>\n",
       "    <tr>\n",
       "      <th>181</th>\n",
       "      <td>LivCan_080</td>\n",
       "      <td>Non-case</td>\n",
       "      <td>56</td>\n",
       "      <td>NaN</td>\n",
       "      <td>No</td>\n",
       "      <td>32____3208004E</td>\n",
       "      <td>32____32253231</td>\n",
       "      <td>32253231-s3#C</td>\n",
       "      <td>19.664978</td>\n",
       "      <td>14.447858</td>\n",
       "      <td>...</td>\n",
       "      <td>12.349299</td>\n",
       "      <td>11.505004</td>\n",
       "      <td>13.189121</td>\n",
       "      <td>NaN</td>\n",
       "      <td>NaN</td>\n",
       "      <td>NaN</td>\n",
       "      <td>NaN</td>\n",
       "      <td>NaN</td>\n",
       "      <td>NaN</td>\n",
       "      <td>NaN</td>\n",
       "    </tr>\n",
       "    <tr>\n",
       "      <th>182</th>\n",
       "      <td>LivCan_375</td>\n",
       "      <td>Incident</td>\n",
       "      <td>383</td>\n",
       "      <td>HCC/</td>\n",
       "      <td>Yes</td>\n",
       "      <td>22____22281416</td>\n",
       "      <td>22____22281416</td>\n",
       "      <td>22281416-s1#B</td>\n",
       "      <td>19.301954</td>\n",
       "      <td>14.839941</td>\n",
       "      <td>...</td>\n",
       "      <td>12.909283</td>\n",
       "      <td>12.642143</td>\n",
       "      <td>NaN</td>\n",
       "      <td>NaN</td>\n",
       "      <td>12.708850</td>\n",
       "      <td>12.462751</td>\n",
       "      <td>12.175110</td>\n",
       "      <td>12.635066</td>\n",
       "      <td>NaN</td>\n",
       "      <td>NaN</td>\n",
       "    </tr>\n",
       "    <tr>\n",
       "      <th>183</th>\n",
       "      <td>LivCan_376</td>\n",
       "      <td>Non-case</td>\n",
       "      <td>383</td>\n",
       "      <td>NaN</td>\n",
       "      <td>No</td>\n",
       "      <td>22____22281701</td>\n",
       "      <td>22____22281701</td>\n",
       "      <td>22281701-s1#B</td>\n",
       "      <td>19.170626</td>\n",
       "      <td>14.291711</td>\n",
       "      <td>...</td>\n",
       "      <td>12.846355</td>\n",
       "      <td>13.243400</td>\n",
       "      <td>NaN</td>\n",
       "      <td>NaN</td>\n",
       "      <td>12.199647</td>\n",
       "      <td>NaN</td>\n",
       "      <td>NaN</td>\n",
       "      <td>12.258149</td>\n",
       "      <td>NaN</td>\n",
       "      <td>NaN</td>\n",
       "    </tr>\n",
       "    <tr>\n",
       "      <th>184</th>\n",
       "      <td>LivCan_165</td>\n",
       "      <td>Incident</td>\n",
       "      <td>147</td>\n",
       "      <td>HCC/</td>\n",
       "      <td>Yes</td>\n",
       "      <td>71____71000825</td>\n",
       "      <td>71____71000065</td>\n",
       "      <td>71000065-s2#C</td>\n",
       "      <td>18.869505</td>\n",
       "      <td>14.440576</td>\n",
       "      <td>...</td>\n",
       "      <td>12.477753</td>\n",
       "      <td>11.789382</td>\n",
       "      <td>NaN</td>\n",
       "      <td>NaN</td>\n",
       "      <td>11.628154</td>\n",
       "      <td>NaN</td>\n",
       "      <td>NaN</td>\n",
       "      <td>NaN</td>\n",
       "      <td>NaN</td>\n",
       "      <td>NaN</td>\n",
       "    </tr>\n",
       "    <tr>\n",
       "      <th>185</th>\n",
       "      <td>LivCan_166</td>\n",
       "      <td>Non-case</td>\n",
       "      <td>147</td>\n",
       "      <td>NaN</td>\n",
       "      <td>No</td>\n",
       "      <td>71____71001996</td>\n",
       "      <td>71____71000216</td>\n",
       "      <td>71000216-s2#C</td>\n",
       "      <td>18.954904</td>\n",
       "      <td>NaN</td>\n",
       "      <td>...</td>\n",
       "      <td>13.225899</td>\n",
       "      <td>12.978890</td>\n",
       "      <td>11.596877</td>\n",
       "      <td>NaN</td>\n",
       "      <td>NaN</td>\n",
       "      <td>NaN</td>\n",
       "      <td>NaN</td>\n",
       "      <td>12.158923</td>\n",
       "      <td>NaN</td>\n",
       "      <td>NaN</td>\n",
       "    </tr>\n",
       "  </tbody>\n",
       "</table>\n",
       "<p>186 rows × 565 columns</p>\n",
       "</div>"
      ],
      "text/plain": [
       "       SampleID    Groups  MatchCaseset    TypTumo CaseHCCWide  \\\n",
       "0    LivCan_153  Incident            82       HCC/         Yes   \n",
       "1    LivCan_154  Non-case            82        NaN          No   \n",
       "2    LivCan_267  Incident           427       HCC/         Yes   \n",
       "3    LivCan_268  Non-case           427        NaN          No   \n",
       "4    LivCan_299  Incident           376  HCC_Wide/         Yes   \n",
       "..          ...       ...           ...        ...         ...   \n",
       "181  LivCan_080  Non-case            56        NaN          No   \n",
       "182  LivCan_375  Incident           383       HCC/         Yes   \n",
       "183  LivCan_376  Non-case           383        NaN          No   \n",
       "184  LivCan_165  Incident           147       HCC/         Yes   \n",
       "185  LivCan_166  Non-case           147        NaN          No   \n",
       "\n",
       "             EPICID       EPICBioID      AliquotID  variable_3  variable_5  \\\n",
       "0    41____41041872  41____41041872  41041872-s2#C   19.761786   14.635833   \n",
       "1    41____41046868  41____41046868  41046868-s2#C   19.735279   15.193396   \n",
       "2    41____41074588  41____41074588  41074588-s1#B   19.116076   15.446714   \n",
       "3    41____41089214  41____41089214  41089214-s1#B   19.376875   15.460525   \n",
       "4    21____21103888  21____21103888  21103888-s1#B   19.555938   14.515536   \n",
       "..              ...             ...            ...         ...         ...   \n",
       "181  32____3208004E  32____32253231  32253231-s3#C   19.664978   14.447858   \n",
       "182  22____22281416  22____22281416  22281416-s1#B   19.301954   14.839941   \n",
       "183  22____22281701  22____22281701  22281701-s1#B   19.170626   14.291711   \n",
       "184  71____71000825  71____71000065  71000065-s2#C   18.869505   14.440576   \n",
       "185  71____71001996  71____71000216  71000216-s2#C   18.954904         NaN   \n",
       "\n",
       "     ...  variable_2339  variable_2340  variable_2350  variable_2353  \\\n",
       "0    ...      12.052252      12.568647      13.192848      13.230752   \n",
       "1    ...      13.020365      12.928643      13.697314            NaN   \n",
       "2    ...            NaN            NaN            NaN      13.330175   \n",
       "3    ...            NaN            NaN      13.086805      13.304171   \n",
       "4    ...            NaN            NaN            NaN      13.306722   \n",
       "..   ...            ...            ...            ...            ...   \n",
       "181  ...      12.349299      11.505004      13.189121            NaN   \n",
       "182  ...      12.909283      12.642143            NaN            NaN   \n",
       "183  ...      12.846355      13.243400            NaN            NaN   \n",
       "184  ...      12.477753      11.789382            NaN            NaN   \n",
       "185  ...      13.225899      12.978890      11.596877            NaN   \n",
       "\n",
       "     variable_2364  variable_2365  variable_2368  variable_2370  \\\n",
       "0        12.248590      12.114328      14.269258      12.355017   \n",
       "1        12.604052            NaN            NaN      12.208084   \n",
       "2              NaN            NaN      14.215988            NaN   \n",
       "3              NaN      11.605353      14.284148      12.319119   \n",
       "4        12.349830      11.926237      14.192775            NaN   \n",
       "..             ...            ...            ...            ...   \n",
       "181            NaN            NaN            NaN            NaN   \n",
       "182      12.708850      12.462751      12.175110      12.635066   \n",
       "183      12.199647            NaN            NaN      12.258149   \n",
       "184      11.628154            NaN            NaN            NaN   \n",
       "185            NaN            NaN            NaN      12.158923   \n",
       "\n",
       "     variable_2375  variable_2379  \n",
       "0        13.114289      13.882526  \n",
       "1              NaN            NaN  \n",
       "2        12.955618      13.778398  \n",
       "3        13.058285      13.812829  \n",
       "4        13.006556      13.841201  \n",
       "..             ...            ...  \n",
       "181            NaN            NaN  \n",
       "182            NaN            NaN  \n",
       "183            NaN            NaN  \n",
       "184            NaN            NaN  \n",
       "185            NaN            NaN  \n",
       "\n",
       "[186 rows x 565 columns]"
      ]
     },
     "execution_count": 7,
     "metadata": {},
     "output_type": "execute_result"
    }
   ],
   "source": [
    "peakTable_HILIC_POS"
   ]
  },
  {
   "cell_type": "code",
   "execution_count": null,
   "id": "f20408e8-2b54-4c73-8b40-adca23f5fed3",
   "metadata": {},
   "outputs": [],
   "source": []
  },
  {
   "cell_type": "code",
   "execution_count": 8,
   "id": "10c64735-488e-4990-a363-2d77b0db564d",
   "metadata": {},
   "outputs": [
    {
     "data": {
      "text/html": [
       "<div>\n",
       "<style scoped>\n",
       "    .dataframe tbody tr th:only-of-type {\n",
       "        vertical-align: middle;\n",
       "    }\n",
       "\n",
       "    .dataframe tbody tr th {\n",
       "        vertical-align: top;\n",
       "    }\n",
       "\n",
       "    .dataframe thead th {\n",
       "        text-align: right;\n",
       "    }\n",
       "</style>\n",
       "<table border=\"1\" class=\"dataframe\">\n",
       "  <thead>\n",
       "    <tr style=\"text-align: right;\">\n",
       "      <th></th>\n",
       "      <th>variable_3</th>\n",
       "      <th>variable_5</th>\n",
       "      <th>variable_6</th>\n",
       "      <th>variable_7</th>\n",
       "      <th>variable_8</th>\n",
       "      <th>variable_10</th>\n",
       "      <th>variable_11</th>\n",
       "      <th>variable_14</th>\n",
       "      <th>variable_22</th>\n",
       "      <th>variable_23</th>\n",
       "      <th>...</th>\n",
       "      <th>variable_2339</th>\n",
       "      <th>variable_2340</th>\n",
       "      <th>variable_2350</th>\n",
       "      <th>variable_2353</th>\n",
       "      <th>variable_2364</th>\n",
       "      <th>variable_2365</th>\n",
       "      <th>variable_2368</th>\n",
       "      <th>variable_2370</th>\n",
       "      <th>variable_2375</th>\n",
       "      <th>variable_2379</th>\n",
       "    </tr>\n",
       "  </thead>\n",
       "  <tbody>\n",
       "    <tr>\n",
       "      <th>0</th>\n",
       "      <td>19.761786</td>\n",
       "      <td>14.635833</td>\n",
       "      <td>22.185582</td>\n",
       "      <td>16.414744</td>\n",
       "      <td>12.615143</td>\n",
       "      <td>15.580604</td>\n",
       "      <td>15.881437</td>\n",
       "      <td>17.500899</td>\n",
       "      <td>12.792893</td>\n",
       "      <td>16.805604</td>\n",
       "      <td>...</td>\n",
       "      <td>12.052252</td>\n",
       "      <td>12.568647</td>\n",
       "      <td>13.192848</td>\n",
       "      <td>13.230752</td>\n",
       "      <td>12.248590</td>\n",
       "      <td>12.114328</td>\n",
       "      <td>14.269258</td>\n",
       "      <td>12.355017</td>\n",
       "      <td>13.114289</td>\n",
       "      <td>13.882526</td>\n",
       "    </tr>\n",
       "    <tr>\n",
       "      <th>1</th>\n",
       "      <td>19.735279</td>\n",
       "      <td>15.193396</td>\n",
       "      <td>20.831414</td>\n",
       "      <td>15.052533</td>\n",
       "      <td>NaN</td>\n",
       "      <td>15.145423</td>\n",
       "      <td>14.034654</td>\n",
       "      <td>17.953780</td>\n",
       "      <td>NaN</td>\n",
       "      <td>15.907714</td>\n",
       "      <td>...</td>\n",
       "      <td>13.020365</td>\n",
       "      <td>12.928643</td>\n",
       "      <td>13.697314</td>\n",
       "      <td>NaN</td>\n",
       "      <td>12.604052</td>\n",
       "      <td>NaN</td>\n",
       "      <td>NaN</td>\n",
       "      <td>12.208084</td>\n",
       "      <td>NaN</td>\n",
       "      <td>NaN</td>\n",
       "    </tr>\n",
       "    <tr>\n",
       "      <th>2</th>\n",
       "      <td>19.116076</td>\n",
       "      <td>15.446714</td>\n",
       "      <td>22.152604</td>\n",
       "      <td>16.410827</td>\n",
       "      <td>NaN</td>\n",
       "      <td>14.628890</td>\n",
       "      <td>15.316772</td>\n",
       "      <td>17.404715</td>\n",
       "      <td>12.786407</td>\n",
       "      <td>15.947176</td>\n",
       "      <td>...</td>\n",
       "      <td>NaN</td>\n",
       "      <td>NaN</td>\n",
       "      <td>NaN</td>\n",
       "      <td>13.330175</td>\n",
       "      <td>NaN</td>\n",
       "      <td>NaN</td>\n",
       "      <td>14.215988</td>\n",
       "      <td>NaN</td>\n",
       "      <td>12.955618</td>\n",
       "      <td>13.778398</td>\n",
       "    </tr>\n",
       "    <tr>\n",
       "      <th>3</th>\n",
       "      <td>19.376875</td>\n",
       "      <td>15.460525</td>\n",
       "      <td>22.169389</td>\n",
       "      <td>16.403964</td>\n",
       "      <td>12.720767</td>\n",
       "      <td>15.937169</td>\n",
       "      <td>15.967749</td>\n",
       "      <td>15.836957</td>\n",
       "      <td>NaN</td>\n",
       "      <td>16.371211</td>\n",
       "      <td>...</td>\n",
       "      <td>NaN</td>\n",
       "      <td>NaN</td>\n",
       "      <td>13.086805</td>\n",
       "      <td>13.304171</td>\n",
       "      <td>NaN</td>\n",
       "      <td>11.605353</td>\n",
       "      <td>14.284148</td>\n",
       "      <td>12.319119</td>\n",
       "      <td>13.058285</td>\n",
       "      <td>13.812829</td>\n",
       "    </tr>\n",
       "    <tr>\n",
       "      <th>4</th>\n",
       "      <td>19.555938</td>\n",
       "      <td>14.515536</td>\n",
       "      <td>22.150249</td>\n",
       "      <td>16.372219</td>\n",
       "      <td>12.314019</td>\n",
       "      <td>14.950203</td>\n",
       "      <td>15.294906</td>\n",
       "      <td>16.610171</td>\n",
       "      <td>12.214057</td>\n",
       "      <td>16.171763</td>\n",
       "      <td>...</td>\n",
       "      <td>NaN</td>\n",
       "      <td>NaN</td>\n",
       "      <td>NaN</td>\n",
       "      <td>13.306722</td>\n",
       "      <td>12.349830</td>\n",
       "      <td>11.926237</td>\n",
       "      <td>14.192775</td>\n",
       "      <td>NaN</td>\n",
       "      <td>13.006556</td>\n",
       "      <td>13.841201</td>\n",
       "    </tr>\n",
       "    <tr>\n",
       "      <th>...</th>\n",
       "      <td>...</td>\n",
       "      <td>...</td>\n",
       "      <td>...</td>\n",
       "      <td>...</td>\n",
       "      <td>...</td>\n",
       "      <td>...</td>\n",
       "      <td>...</td>\n",
       "      <td>...</td>\n",
       "      <td>...</td>\n",
       "      <td>...</td>\n",
       "      <td>...</td>\n",
       "      <td>...</td>\n",
       "      <td>...</td>\n",
       "      <td>...</td>\n",
       "      <td>...</td>\n",
       "      <td>...</td>\n",
       "      <td>...</td>\n",
       "      <td>...</td>\n",
       "      <td>...</td>\n",
       "      <td>...</td>\n",
       "      <td>...</td>\n",
       "    </tr>\n",
       "    <tr>\n",
       "      <th>181</th>\n",
       "      <td>19.664978</td>\n",
       "      <td>14.447858</td>\n",
       "      <td>20.808503</td>\n",
       "      <td>15.027154</td>\n",
       "      <td>12.648327</td>\n",
       "      <td>14.806952</td>\n",
       "      <td>14.244917</td>\n",
       "      <td>17.126579</td>\n",
       "      <td>12.080710</td>\n",
       "      <td>15.388376</td>\n",
       "      <td>...</td>\n",
       "      <td>12.349299</td>\n",
       "      <td>11.505004</td>\n",
       "      <td>13.189121</td>\n",
       "      <td>NaN</td>\n",
       "      <td>NaN</td>\n",
       "      <td>NaN</td>\n",
       "      <td>NaN</td>\n",
       "      <td>NaN</td>\n",
       "      <td>NaN</td>\n",
       "      <td>NaN</td>\n",
       "    </tr>\n",
       "    <tr>\n",
       "      <th>182</th>\n",
       "      <td>19.301954</td>\n",
       "      <td>14.839941</td>\n",
       "      <td>21.085175</td>\n",
       "      <td>15.321075</td>\n",
       "      <td>12.510670</td>\n",
       "      <td>14.488147</td>\n",
       "      <td>15.163197</td>\n",
       "      <td>16.816591</td>\n",
       "      <td>12.452644</td>\n",
       "      <td>16.474456</td>\n",
       "      <td>...</td>\n",
       "      <td>12.909283</td>\n",
       "      <td>12.642143</td>\n",
       "      <td>NaN</td>\n",
       "      <td>NaN</td>\n",
       "      <td>12.708850</td>\n",
       "      <td>12.462751</td>\n",
       "      <td>12.175110</td>\n",
       "      <td>12.635066</td>\n",
       "      <td>NaN</td>\n",
       "      <td>NaN</td>\n",
       "    </tr>\n",
       "    <tr>\n",
       "      <th>183</th>\n",
       "      <td>19.170626</td>\n",
       "      <td>14.291711</td>\n",
       "      <td>21.381912</td>\n",
       "      <td>15.197205</td>\n",
       "      <td>12.499558</td>\n",
       "      <td>14.434959</td>\n",
       "      <td>14.520558</td>\n",
       "      <td>16.315887</td>\n",
       "      <td>12.808417</td>\n",
       "      <td>15.613263</td>\n",
       "      <td>...</td>\n",
       "      <td>12.846355</td>\n",
       "      <td>13.243400</td>\n",
       "      <td>NaN</td>\n",
       "      <td>NaN</td>\n",
       "      <td>12.199647</td>\n",
       "      <td>NaN</td>\n",
       "      <td>NaN</td>\n",
       "      <td>12.258149</td>\n",
       "      <td>NaN</td>\n",
       "      <td>NaN</td>\n",
       "    </tr>\n",
       "    <tr>\n",
       "      <th>184</th>\n",
       "      <td>18.869505</td>\n",
       "      <td>14.440576</td>\n",
       "      <td>20.961485</td>\n",
       "      <td>14.829978</td>\n",
       "      <td>12.312338</td>\n",
       "      <td>14.114074</td>\n",
       "      <td>13.776358</td>\n",
       "      <td>16.110117</td>\n",
       "      <td>12.667428</td>\n",
       "      <td>16.021372</td>\n",
       "      <td>...</td>\n",
       "      <td>12.477753</td>\n",
       "      <td>11.789382</td>\n",
       "      <td>NaN</td>\n",
       "      <td>NaN</td>\n",
       "      <td>11.628154</td>\n",
       "      <td>NaN</td>\n",
       "      <td>NaN</td>\n",
       "      <td>NaN</td>\n",
       "      <td>NaN</td>\n",
       "      <td>NaN</td>\n",
       "    </tr>\n",
       "    <tr>\n",
       "      <th>185</th>\n",
       "      <td>18.954904</td>\n",
       "      <td>NaN</td>\n",
       "      <td>20.005032</td>\n",
       "      <td>NaN</td>\n",
       "      <td>12.414258</td>\n",
       "      <td>NaN</td>\n",
       "      <td>NaN</td>\n",
       "      <td>15.432975</td>\n",
       "      <td>12.047361</td>\n",
       "      <td>15.443640</td>\n",
       "      <td>...</td>\n",
       "      <td>13.225899</td>\n",
       "      <td>12.978890</td>\n",
       "      <td>11.596877</td>\n",
       "      <td>NaN</td>\n",
       "      <td>NaN</td>\n",
       "      <td>NaN</td>\n",
       "      <td>NaN</td>\n",
       "      <td>12.158923</td>\n",
       "      <td>NaN</td>\n",
       "      <td>NaN</td>\n",
       "    </tr>\n",
       "  </tbody>\n",
       "</table>\n",
       "<p>186 rows × 557 columns</p>\n",
       "</div>"
      ],
      "text/plain": [
       "     variable_3  variable_5  variable_6  variable_7  variable_8  variable_10  \\\n",
       "0     19.761786   14.635833   22.185582   16.414744   12.615143    15.580604   \n",
       "1     19.735279   15.193396   20.831414   15.052533         NaN    15.145423   \n",
       "2     19.116076   15.446714   22.152604   16.410827         NaN    14.628890   \n",
       "3     19.376875   15.460525   22.169389   16.403964   12.720767    15.937169   \n",
       "4     19.555938   14.515536   22.150249   16.372219   12.314019    14.950203   \n",
       "..          ...         ...         ...         ...         ...          ...   \n",
       "181   19.664978   14.447858   20.808503   15.027154   12.648327    14.806952   \n",
       "182   19.301954   14.839941   21.085175   15.321075   12.510670    14.488147   \n",
       "183   19.170626   14.291711   21.381912   15.197205   12.499558    14.434959   \n",
       "184   18.869505   14.440576   20.961485   14.829978   12.312338    14.114074   \n",
       "185   18.954904         NaN   20.005032         NaN   12.414258          NaN   \n",
       "\n",
       "     variable_11  variable_14  variable_22  variable_23  ...  variable_2339  \\\n",
       "0      15.881437    17.500899    12.792893    16.805604  ...      12.052252   \n",
       "1      14.034654    17.953780          NaN    15.907714  ...      13.020365   \n",
       "2      15.316772    17.404715    12.786407    15.947176  ...            NaN   \n",
       "3      15.967749    15.836957          NaN    16.371211  ...            NaN   \n",
       "4      15.294906    16.610171    12.214057    16.171763  ...            NaN   \n",
       "..           ...          ...          ...          ...  ...            ...   \n",
       "181    14.244917    17.126579    12.080710    15.388376  ...      12.349299   \n",
       "182    15.163197    16.816591    12.452644    16.474456  ...      12.909283   \n",
       "183    14.520558    16.315887    12.808417    15.613263  ...      12.846355   \n",
       "184    13.776358    16.110117    12.667428    16.021372  ...      12.477753   \n",
       "185          NaN    15.432975    12.047361    15.443640  ...      13.225899   \n",
       "\n",
       "     variable_2340  variable_2350  variable_2353  variable_2364  \\\n",
       "0        12.568647      13.192848      13.230752      12.248590   \n",
       "1        12.928643      13.697314            NaN      12.604052   \n",
       "2              NaN            NaN      13.330175            NaN   \n",
       "3              NaN      13.086805      13.304171            NaN   \n",
       "4              NaN            NaN      13.306722      12.349830   \n",
       "..             ...            ...            ...            ...   \n",
       "181      11.505004      13.189121            NaN            NaN   \n",
       "182      12.642143            NaN            NaN      12.708850   \n",
       "183      13.243400            NaN            NaN      12.199647   \n",
       "184      11.789382            NaN            NaN      11.628154   \n",
       "185      12.978890      11.596877            NaN            NaN   \n",
       "\n",
       "     variable_2365  variable_2368  variable_2370  variable_2375  variable_2379  \n",
       "0        12.114328      14.269258      12.355017      13.114289      13.882526  \n",
       "1              NaN            NaN      12.208084            NaN            NaN  \n",
       "2              NaN      14.215988            NaN      12.955618      13.778398  \n",
       "3        11.605353      14.284148      12.319119      13.058285      13.812829  \n",
       "4        11.926237      14.192775            NaN      13.006556      13.841201  \n",
       "..             ...            ...            ...            ...            ...  \n",
       "181            NaN            NaN            NaN            NaN            NaN  \n",
       "182      12.462751      12.175110      12.635066            NaN            NaN  \n",
       "183            NaN            NaN      12.258149            NaN            NaN  \n",
       "184            NaN            NaN            NaN            NaN            NaN  \n",
       "185            NaN            NaN      12.158923            NaN            NaN  \n",
       "\n",
       "[186 rows x 557 columns]"
      ]
     },
     "execution_count": 8,
     "metadata": {},
     "output_type": "execute_result"
    }
   ],
   "source": [
    "X = peakTable_HILIC_POS.iloc[:, ['variable' in col for col in peakTable_HILIC_POS.columns]]\n",
    "X"
   ]
  },
  {
   "cell_type": "code",
   "execution_count": null,
   "id": "3bbfd374-74ba-4b5f-8a56-d1c491f869e1",
   "metadata": {},
   "outputs": [],
   "source": []
  },
  {
   "cell_type": "code",
   "execution_count": 9,
   "id": "7354f07e-662d-48ba-8c3c-3f0828332484",
   "metadata": {},
   "outputs": [
    {
     "data": {
      "image/png": "[encoded data removed]",
      "text/plain": [
       "<Figure size 1080x576 with 1 Axes>"
      ]
     },
     "metadata": {
      "needs_background": "light"
     },
     "output_type": "display_data"
    }
   ],
   "source": [
    "plt.figure(figsize=(15,8))\n",
    "sns.heatmap(X.notna(), cbar=False)\n",
    "plt.show()"
   ]
  },
  {
   "cell_type": "markdown",
   "id": "69904328-14e3-4e2a-8f16-fc401b84d9a7",
   "metadata": {},
   "source": [
    "The dark points indicate a missing value in the peak table"
   ]
  },
  {
   "cell_type": "code",
   "execution_count": null,
   "id": "6288a25e-97e0-4fd5-b896-b8528d33f323",
   "metadata": {},
   "outputs": [],
   "source": []
  },
  {
   "cell_type": "code",
   "execution_count": 10,
   "id": "9dea5e18-546b-4c5f-809a-7e745ef85d06",
   "metadata": {},
   "outputs": [
    {
     "data": {
      "image/png": "[encoded data removed]",
      "text/plain": [
       "<Figure size 1152x720 with 1 Axes>"
      ]
     },
     "metadata": {
      "needs_background": "light"
     },
     "output_type": "display_data"
    }
   ],
   "source": [
    "plt.figure(figsize=(16,10))\n",
    "plt.plot((X.isna().sum() / X.shape[0]).sort_values().values, color='b', linewidth=3)\n",
    "plt.xlabel('N° of the compound', fontsize=12)\n",
    "plt.ylabel('Part of samples missing the compound', fontsize=12)\n",
    "plt.title('The part of samples missing each compound', fontsize=18)\n",
    "plt.grid(linestyle='--', linewidth=1)\n",
    "plt.show()"
   ]
  },
  {
   "cell_type": "code",
   "execution_count": null,
   "id": "239b1c06-2959-40f1-b0bf-95dff7d5c543",
   "metadata": {},
   "outputs": [],
   "source": []
  },
  {
   "cell_type": "code",
   "execution_count": null,
   "id": "8a1f3807-6963-4451-9a44-0ddc0ed53181",
   "metadata": {},
   "outputs": [],
   "source": []
  },
  {
   "cell_type": "markdown",
   "id": "bf9902d7-9b34-4e8e-9a93-0fe5b0cccfe2",
   "metadata": {},
   "source": [
    "# Path to save imputed peak tables"
   ]
  },
  {
   "cell_type": "code",
   "execution_count": 8,
   "id": "baa81c3f-c109-4fa2-97e3-6d44d5aa82da",
   "metadata": {},
   "outputs": [],
   "source": [
    "# path_peakTable_imputed = input('Enter absolute path to save the imputed peak tables as csv files : ')\n",
    "# /home/vincentm/MLnotebooks/metabopipeline_notebooks/data/peakTable/original_peak_table/peakTable_HILIC_POS.csv\n",
    "path_peakTable_imputed = '/home/vincentm/MLnotebooks/metabopipeline_notebooks/data/peakTable/imputed_peak_tables/'"
   ]
  },
  {
   "cell_type": "code",
   "execution_count": null,
   "id": "cc40f983-c391-464a-b103-d8b0d672c54f",
   "metadata": {},
   "outputs": [],
   "source": []
  },
  {
   "cell_type": "markdown",
   "id": "0a0eb6b2-a7ba-4032-8f5c-8076e432b264",
   "metadata": {},
   "source": [
    "# Univariate feature imputation"
   ]
  },
  {
   "cell_type": "markdown",
   "id": "fbd53b9b-7540-4917-bf0f-0126fdf778ac",
   "metadata": {},
   "source": [
    "## Constant imputation (with whatever constant value passed as argument)\n",
    "\n",
    "All missing values in the peak table will be replaced by the constant value you pass as parameter."
   ]
  },
  {
   "cell_type": "code",
   "execution_count": 9,
   "id": "5a9c5509-fa7b-4005-9121-9ac9c8712aae",
   "metadata": {},
   "outputs": [],
   "source": [
    "X_const_0 = const_imputer(X)\n",
    "X_const_0\n",
    "X_const_0.to_csv(path_peakTable_imputed + 'X_const_0.csv', index = False, header=True)"
   ]
  },
  {
   "cell_type": "code",
   "execution_count": 10,
   "id": "267b7c69-d6d5-477e-b5fe-0b180a44dac8",
   "metadata": {},
   "outputs": [],
   "source": [
    "X_const_1 = const_imputer(X, 1)\n",
    "X_const_1\n",
    "X_const_1.to_csv(path_peakTable_imputed + 'X_const_1.csv', index = False, header=True)"
   ]
  },
  {
   "cell_type": "code",
   "execution_count": null,
   "id": "3e4c7476-f574-4352-92f9-c8a848213e2c",
   "metadata": {},
   "outputs": [],
   "source": []
  },
  {
   "cell_type": "code",
   "execution_count": null,
   "id": "a203b80b-5b9b-436b-89ad-36f87f6db9d7",
   "metadata": {},
   "outputs": [],
   "source": []
  },
  {
   "cell_type": "markdown",
   "id": "a8da7e3b-90a2-4dde-b020-361745cea2c7",
   "metadata": {},
   "source": [
    "## Mean imputation\n",
    "\n",
    "For each feature, the missing values are imputed by the mean value of the non-missing values in that feature."
   ]
  },
  {
   "cell_type": "code",
   "execution_count": 11,
   "id": "91abf159-7b65-492e-8ba7-f046eb4cf6c7",
   "metadata": {},
   "outputs": [],
   "source": [
    "X_mean = mean_imputer(X)\n",
    "X_mean\n",
    "X_mean.to_csv(path_peakTable_imputed + 'X_mean.csv', index = False, header=True)"
   ]
  },
  {
   "cell_type": "code",
   "execution_count": null,
   "id": "43a01ab4-2f77-4199-91ff-7f0e43ed46b7",
   "metadata": {},
   "outputs": [],
   "source": []
  },
  {
   "cell_type": "code",
   "execution_count": null,
   "id": "b7985ca2-7d29-4579-aa2b-eb9c0b284cd9",
   "metadata": {},
   "outputs": [],
   "source": []
  },
  {
   "cell_type": "markdown",
   "id": "f3ae69d1-6c2b-4401-9453-0bd7388968f0",
   "metadata": {},
   "source": [
    "## Median imputation\n",
    "\n",
    "For each feature, the missing values are imputed by the median value of the non-missing values in that feature."
   ]
  },
  {
   "cell_type": "code",
   "execution_count": 12,
   "id": "8fc20ab7-18a1-42f7-9e3f-2f5de97c2707",
   "metadata": {},
   "outputs": [],
   "source": [
    "X_median = median_imputer(X)\n",
    "X_median\n",
    "X_median.to_csv(path_peakTable_imputed + 'X_median.csv', index = False, header=True)"
   ]
  },
  {
   "cell_type": "code",
   "execution_count": null,
   "id": "3ef94ef0-106f-4d2b-8843-067b4764c513",
   "metadata": {},
   "outputs": [],
   "source": []
  },
  {
   "cell_type": "code",
   "execution_count": null,
   "id": "bef1c323-0c42-4b4f-8e9b-35b9ed682aee",
   "metadata": {},
   "outputs": [],
   "source": []
  },
  {
   "cell_type": "markdown",
   "id": "3cef2131-35f5-4104-8355-dd225e2d24ac",
   "metadata": {},
   "source": [
    "## Mode imputation (most frequent)\n",
    "\n",
    "For each feature, the missing values are imputed by the most frequent value (rounded at 1.e-2) of the non-missing values in that feature."
   ]
  },
  {
   "cell_type": "code",
   "execution_count": 13,
   "id": "f26f2665-5140-45a4-8c55-545d41560ac9",
   "metadata": {},
   "outputs": [],
   "source": [
    "X_most = mode_imputer(X)\n",
    "X_most\n",
    "X_most.to_csv(path_peakTable_imputed + 'X_most.csv', index = False, header=True)"
   ]
  },
  {
   "cell_type": "code",
   "execution_count": null,
   "id": "bfccd087-c501-4335-81e1-5446301d1a22",
   "metadata": {},
   "outputs": [],
   "source": []
  },
  {
   "cell_type": "code",
   "execution_count": null,
   "id": "d79cf2a7-70f3-43da-8d2e-004dc47b86e1",
   "metadata": {},
   "outputs": [],
   "source": []
  },
  {
   "cell_type": "markdown",
   "id": "f523e1c7-69c4-49cd-94ab-2f3706fc8f9f",
   "metadata": {},
   "source": [
    "## Imputation with minimum value of the feature\n",
    "\n",
    "For each feature, the missing values are imputed by the minimum value of the non-missing values in that feature."
   ]
  },
  {
   "cell_type": "code",
   "execution_count": 14,
   "id": "0b66f520-748b-4bac-ac15-d28165eac8bc",
   "metadata": {},
   "outputs": [],
   "source": [
    "X_min_f = min_imputer(X)\n",
    "X_min_f\n",
    "X_min_f.to_csv(path_peakTable_imputed + 'X_min_f.csv', index = False, header=True)"
   ]
  },
  {
   "cell_type": "code",
   "execution_count": null,
   "id": "00e9dadc-9b76-4a33-a64c-275d8bad4e8d",
   "metadata": {},
   "outputs": [],
   "source": []
  },
  {
   "cell_type": "markdown",
   "id": "88f26027-d79d-4c22-a7ea-dfad016b8a42",
   "metadata": {},
   "source": [
    "### imputation with half minimum value of the feature\n",
    "\n",
    "For each feature, the missing values are imputed by the half of the minimum value of the non-missing values in that feature."
   ]
  },
  {
   "cell_type": "code",
   "execution_count": 15,
   "id": "16cea11e-b662-476c-9d34-a37bb3f42815",
   "metadata": {},
   "outputs": [],
   "source": [
    "X_half_min_f = half_min_imputer(X)\n",
    "X_half_min_f\n",
    "X_half_min_f.to_csv(path_peakTable_imputed + 'X_half_min_f.csv', index = False, header=True)"
   ]
  },
  {
   "cell_type": "code",
   "execution_count": null,
   "id": "76d032ac-0ab6-4f06-a3f2-f1d2fa8a26b4",
   "metadata": {},
   "outputs": [],
   "source": []
  },
  {
   "cell_type": "code",
   "execution_count": null,
   "id": "224c64c6-9d9d-40ea-af74-bc732c7a4fc0",
   "metadata": {},
   "outputs": [],
   "source": []
  },
  {
   "cell_type": "markdown",
   "id": "72b15090-7b4b-4e44-b63e-b57f0f489b68",
   "metadata": {},
   "source": [
    "# Multivariate feature imputation\n",
    "\n",
    "[cf. doc scikitlearn IterativeImputer](https://scikit-learn.org/stable/modules/generated/sklearn.impute.IterativeImputer.html#sklearn.impute.IterativeImputer)\n",
    "\n",
    "<code>IterativeImputer</code> was inspired by the R MICE package (Multivariate Imputation by Chained Equations).\n",
    "\n",
    "On this page ([link](https://scikit-learn.org/stable/auto_examples/impute/plot_iterative_imputer_variants_comparison.html)) are presented the different possible estimators that can be applied with <code>IterativeImputer</code> :\n",
    "- <code>BayesianRidge</code> : regularized linear regression\n",
    "- <code>DecisionTreeRegressor</code> : non-linear regression\n",
    "- <code>ExtraTreesRegressor</code> : similar to missForest in R\n",
    "- <code>KNeighborsRegressor</code> : comparable to other KNN imputation approaches\n"
   ]
  },
  {
   "cell_type": "code",
   "execution_count": 16,
   "id": "80c50a6f-ae96-4948-a7f4-6671af2a3a80",
   "metadata": {},
   "outputs": [],
   "source": [
    "from sklearn.linear_model import BayesianRidge\n",
    "from sklearn.tree import DecisionTreeRegressor\n",
    "from sklearn.ensemble import ExtraTreesRegressor\n",
    "from sklearn.neighbors import KNeighborsRegressor"
   ]
  },
  {
   "cell_type": "code",
   "execution_count": 17,
   "id": "449b9975-b611-4a8e-beb2-78bf829cd18d",
   "metadata": {},
   "outputs": [],
   "source": [
    "estimators = [\n",
    "    BayesianRidge(),\n",
    "    DecisionTreeRegressor(max_features='sqrt', random_state=0),\n",
    "    ExtraTreesRegressor(n_estimators=10, random_state=0),\n",
    "    KNeighborsRegressor(n_neighbors=15)\n",
    "]"
   ]
  },
  {
   "cell_type": "code",
   "execution_count": 18,
   "id": "465d9ba6-4588-4e26-b034-4602decf5de4",
   "metadata": {},
   "outputs": [
    {
     "name": "stderr",
     "output_type": "stream",
     "text": [
      "/home/vincentm/.local/lib/python3.6/site-packages/sklearn/impute/_iterative.py:686: ConvergenceWarning: [IterativeImputer] Early stopping criterion not reached.\n",
      "  \" reached.\", ConvergenceWarning)\n"
     ]
    },
    {
     "name": "stdout",
     "output_type": "stream",
     "text": [
      "----- 7.8 seconds -----\n"
     ]
    },
    {
     "name": "stderr",
     "output_type": "stream",
     "text": [
      "/home/vincentm/.local/lib/python3.6/site-packages/sklearn/impute/_iterative.py:686: ConvergenceWarning: [IterativeImputer] Early stopping criterion not reached.\n",
      "  \" reached.\", ConvergenceWarning)\n"
     ]
    },
    {
     "name": "stdout",
     "output_type": "stream",
     "text": [
      "----- 7.0 seconds -----\n"
     ]
    },
    {
     "name": "stderr",
     "output_type": "stream",
     "text": [
      "/home/vincentm/.local/lib/python3.6/site-packages/sklearn/impute/_iterative.py:686: ConvergenceWarning: [IterativeImputer] Early stopping criterion not reached.\n",
      "  \" reached.\", ConvergenceWarning)\n"
     ]
    },
    {
     "name": "stdout",
     "output_type": "stream",
     "text": [
      "----- 64.1 seconds -----\n"
     ]
    },
    {
     "name": "stderr",
     "output_type": "stream",
     "text": [
      "/home/vincentm/.local/lib/python3.6/site-packages/sklearn/impute/_iterative.py:686: ConvergenceWarning: [IterativeImputer] Early stopping criterion not reached.\n",
      "  \" reached.\", ConvergenceWarning)\n"
     ]
    },
    {
     "name": "stdout",
     "output_type": "stream",
     "text": [
      "----- 8.4 seconds -----\n"
     ]
    }
   ],
   "source": [
    "for estimator in estimators:\n",
    "    \n",
    "    X_python_MICE = python_MICE_imputer(X, estimator)\n",
    "    \n",
    "    X_python_MICE.to_csv(path_peakTable_imputed + 'X_python_MICE_' + str(estimator).split('(')[0] + '.csv', index = False, header=True)"
   ]
  },
  {
   "cell_type": "code",
   "execution_count": null,
   "id": "3013151b-fd36-4a6d-b4db-9938f9c63fcf",
   "metadata": {},
   "outputs": [],
   "source": []
  },
  {
   "cell_type": "code",
   "execution_count": null,
   "id": "fc0e1e63-c36d-4f6e-8d3c-64eec77efcd1",
   "metadata": {},
   "outputs": [],
   "source": []
  },
  {
   "cell_type": "markdown",
   "id": "50ca1186-cc0f-4111-b5b4-4848927e2a16",
   "metadata": {},
   "source": [
    "## Nearest neighbors imputation\n",
    "\n",
    "According to scikit-learn documentation (https://scikit-learn.org/stable/modules/impute.html#nearest-neighbors-imputation), \"Each missing feature is imputed using values from n_neighbors nearest neighbors that have a value for the feature. The feature of the neighbors are averaged uniformly or weighted by distance to each neighbor. If a sample has more than one feature missing, then the neighbors for that sample can be different depending on the particular feature being imputed.\"\n",
    "\n",
    "We let the possibility for the user to impute the values along the two axis with the parameter 'by' :\n",
    "- by='samples' (default) : the missing value for a specific feature in a sample is imputed using the values of that feature in the n_neighbors samples which have a non-missing value for that feature\n",
    "- by='feature' : the missing value for a specific feature in a sample is imputed using the values of the n_neighbors features in that sample which have a non-missing value for that sample"
   ]
  },
  {
   "cell_type": "code",
   "execution_count": 19,
   "id": "f31831a7-100d-4f0d-8e32-35e6b9050b54",
   "metadata": {},
   "outputs": [],
   "source": [
    "X_KNN_features = KNN_imputer(X, by='features')\n",
    "X_KNN_features.columns = X.columns\n",
    "X_KNN_features.to_csv(path_peakTable_imputed + 'X_KNN_features.csv', index=False, header=True)"
   ]
  },
  {
   "cell_type": "code",
   "execution_count": 20,
   "id": "78dd3226-794e-4357-bedd-e19203b592b8",
   "metadata": {},
   "outputs": [],
   "source": [
    "X_KNN_samples = KNN_imputer(X, by='samples')\n",
    "X_KNN_samples.columns = X.columns\n",
    "X_KNN_samples.to_csv(path_peakTable_imputed + 'X_KNN_samples.csv', index=False, header=True)"
   ]
  },
  {
   "cell_type": "code",
   "execution_count": null,
   "id": "185541e9-67ef-4ead-9938-979caef81101",
   "metadata": {},
   "outputs": [],
   "source": []
  },
  {
   "cell_type": "code",
   "execution_count": null,
   "id": "a34f940a-162d-4675-86e4-f01518086b73",
   "metadata": {},
   "outputs": [],
   "source": []
  },
  {
   "cell_type": "code",
   "execution_count": null,
   "id": "b0088223-e3c8-477b-9840-7080aa5ad5f8",
   "metadata": {},
   "outputs": [],
   "source": []
  },
  {
   "cell_type": "code",
   "execution_count": null,
   "id": "d9d02906-cec8-4052-a5db-a0a575f8e858",
   "metadata": {},
   "outputs": [],
   "source": []
  },
  {
   "cell_type": "markdown",
   "id": "b609ab77-0f78-438b-86f1-cb51f90d9416",
   "metadata": {},
   "source": [
    "---\n",
    "# Missing value imputation using R MICE package\n",
    "\n",
    "Here is a link where the [MICE algorithm is explained](https://cran.r-project.org/web/packages/miceRanger/vignettes/miceAlgorithm.html).\n",
    "\n",
    "The MICE (Multivariate Imputation by Chained Equations) algorithm is a multivariate method to impute missing values. Each missing value is imputed using a separate model with the other variables in the dataset. Iterations should be run until it appears that convergence has been met. The computational time can be huge, thus we proceed in four steps :\n",
    "- using the <code>quickpred</code> function ([documentation](https://cran.r-project.org/web/packages/mice/mice.pdf#Rfn.quickpred.1)), we create a squared (column number of the peak table) binary matrix (<code>predictorMatrix</code>), in which $\\mathcal{M}_{i,j} = 1$ if we can use the variable $j$ to impute the missing values of the variable $i$, $\\mathcal{M}_{i,j} = 0$ otherwise. With this step, only the variables which have a given minimum correlation value can be used to impute the missing values, thus reducing the computational time.\n",
    "- using the <code>mice</code> function ([documentation](https://cran.r-project.org/web/packages/mice/mice.pdf#Rfn.mice.1)), we actually run the missing value imputation. The built-in imputation methods are listed in the documentation. As we have numerical values in our peak table, we will only implement the following methods in the R script :\n",
    "    - __Mean__ (method = 'mean')\n",
    "    - __Simple random sampling__ (method = 'sample')\n",
    "    - __Classification and regression trees__ (method = 'cart')\n",
    "    - __Regression imputation__ (classified into two different versions: deterministic and stochastic regression imputation) :\n",
    "        - __Bayesian linear regression__ (method = \"norm\")\n",
    "        - __Deterministic regression imputation__ (method = \"norm.predict\") :\n",
    "            - replaces missing values with the exact prediction of the regression model. Random variation (i.e. an error term) around the regression slope is not considered. Imputed values are therefore often too precise and lead to an overestimation of the correlation between X and Y.\n",
    "        - __Stochastic regression imputation__ (method = \"norm.nob\") :\n",
    "            - was developed in order to solve this issue of deterministic regression imputation. Stochastic regression imputation adds a random error term to the predicted value and is therefore able to reproduce the correlation of X and Y more appropriately.\n",
    "    - __Predictive mean matching__ (method = \"pmm\") :\n",
    "        - Overcome disadvantages of regression imputation, implausible values (e.g. negative incomes) and problems with heteroscedastic data\n",
    "\n",
    "- using the <code>merge_imputations</code> method, we merge the multiple imputed dataframes into one single dataframe (mean of the multiple dataframes)\n",
    "- using the <code>write.csv</code> method, we export the imputed data into a separate csv file\n",
    "---"
   ]
  },
  {
   "cell_type": "code",
   "execution_count": 21,
   "id": "0670732e-4a32-4a66-b1c7-b2a94ef3e01f",
   "metadata": {},
   "outputs": [],
   "source": [
    "# Set working directory\n",
    "pathWorkDir = '~/MLnotebooks/metabopipeline_notebooks/'\n",
    "\n",
    "# Set path to slurm script, R script, data and output\n",
    "path2sbatch = pathWorkDir + 'bin/missing_value_imputation/run_mv_imp_MICE.sb'\n",
    "path2Rscript = pathWorkDir + 'bin/missing_value_imputation/mv_imp_MICE.R'\n",
    "path2peakTable = pathWorkDir + 'data/peakTable/original_peak_table/peakTable_HILIC_POS.csv'\n",
    "path2output = pathWorkDir + 'data/peakTable/imputed_peak_tables'\n",
    "list_methods = 'c(\"mean\",\"sample\",\"pmm\",\"cart\",\"norm\",\"norm.nob\",\"norm.predict\")' # all these methods should work\n",
    "list_methods = \"'\".join(['', list_methods, ''])"
   ]
  },
  {
   "cell_type": "code",
   "execution_count": null,
   "id": "8408c152-f9d9-46f7-a47e-8aa0921b6140",
   "metadata": {},
   "outputs": [],
   "source": []
  },
  {
   "cell_type": "markdown",
   "id": "7d86b365-641a-4086-98c5-8102c5b437aa",
   "metadata": {},
   "source": [
    "# Launch missing value imputation with R"
   ]
  },
  {
   "cell_type": "markdown",
   "id": "fdadeac1-61ca-419e-8e1b-563e3a5865b3",
   "metadata": {},
   "source": [
    "## By launching a slurm job launching itself the R script"
   ]
  },
  {
   "cell_type": "code",
   "execution_count": 22,
   "id": "9992b935-e191-44be-b85c-d22976eb1451",
   "metadata": {},
   "outputs": [
    {
     "name": "stdout",
     "output_type": "stream",
     "text": [
      "/home/vincentm/MLnotebooks/metabopipeline_notebooks/bin/missing_value_imputation/run_mv_imp_MICE.sb\n",
      "/home/vincentm/MLnotebooks/metabopipeline_notebooks/bin/missing_value_imputation/mv_imp_MICE.R\n",
      "/home/vincentm/MLnotebooks/metabopipeline_notebooks/data/peakTable/original_peak_table/peakTable_HILIC_POS.csv\n",
      "/home/vincentm/MLnotebooks/metabopipeline_notebooks/data/peakTable/imputed_peak_tables\n",
      "c(\"mean\",\"sample\",\"pmm\",\"cart\",\"norm\",\"norm.nob\",\"norm.predict\")\n"
     ]
    }
   ],
   "source": [
    "! echo $path2sbatch\n",
    "! echo $path2Rscript\n",
    "! echo $path2peakTable\n",
    "! echo $path2output\n",
    "! echo $list_methods"
   ]
  },
  {
   "cell_type": "code",
   "execution_count": null,
   "id": "8360457b-2bc4-4d93-b85c-4c821ca03042",
   "metadata": {},
   "outputs": [],
   "source": []
  },
  {
   "cell_type": "code",
   "execution_count": 23,
   "id": "81c5cb9f-dc76-43ca-a6b0-22daf75fa688",
   "metadata": {},
   "outputs": [],
   "source": [
    "# ! sbatch $path2sbatch $path2Rscript $path2peakTable $path2output $list_methods"
   ]
  },
  {
   "cell_type": "code",
   "execution_count": 24,
   "id": "91e7e9a7-787b-413e-8774-7d3dc7bf008c",
   "metadata": {},
   "outputs": [],
   "source": [
    "# ! squeue -u vincentm"
   ]
  },
  {
   "cell_type": "code",
   "execution_count": 25,
   "id": "3a72ecee-5a18-4768-aa8a-3f888c4b8fd4",
   "metadata": {},
   "outputs": [],
   "source": [
    "# ! conda install r-mice"
   ]
  },
  {
   "cell_type": "code",
   "execution_count": 26,
   "id": "de9f8c07-6f97-488f-8764-f079914000c7",
   "metadata": {},
   "outputs": [],
   "source": [
    "# ! conda install r-mice"
   ]
  },
  {
   "cell_type": "code",
   "execution_count": null,
   "id": "963298a2-3bec-4f03-a89f-afa29a705901",
   "metadata": {},
   "outputs": [],
   "source": []
  },
  {
   "cell_type": "markdown",
   "id": "7c4e5ebb-3763-4266-99a3-99c3e93f4c56",
   "metadata": {},
   "source": [
    "## Or directly by launching the R script"
   ]
  },
  {
   "cell_type": "code",
   "execution_count": 27,
   "id": "3168e7e3-edba-4a49-ae6f-dcc8b3b52f2d",
   "metadata": {
    "tags": []
   },
   "outputs": [
    {
     "name": "stdout",
     "output_type": "stream",
     "text": [
      "[1] \".GlobalEnv\"        \"package:stats\"     \"package:graphics\" \n",
      "[4] \"package:grDevices\" \"package:utils\"     \"package:datasets\" \n",
      "[7] \"package:methods\"   \"Autoloads\"         \"package:base\"     \n",
      "[1] \"/opt/R/4.1.2/lib/R/library\"\n",
      "[1] \"/opt/R/4.1.2/lib/R/library\"                      \n",
      "[2] \"/home/vincentm/R/x86_64-pc-linux-gnu-library/4.0\"\n",
      "[3] \"/opt/R/4.0.4/lib/R/library\"                      \n",
      "[1] \"/home/vincentm/MLnotebooks/metabopipeline_notebooks/data/peakTable/original_peak_table/peakTable_HILIC_POS.csv\"\n",
      "[1] \"/home/vincentm/MLnotebooks/metabopipeline_notebooks/data/peakTable/imputed_peak_tables\"\n",
      "[1] \"c(\\\"mean\\\",\\\"sample\\\",\\\"pmm\\\",\\\"cart\\\",\\\"norm\\\",\\\"norm.nob\\\",\\\"norm.predict\\\")\"\n",
      "[1] \"mean\"         \"sample\"       \"pmm\"          \"cart\"         \"norm\"        \n",
      "[6] \"norm.nob\"     \"norm.predict\"\n",
      "Loading required package: mice\n",
      "\n",
      "Attaching package: ‘mice’\n",
      "\n",
      "The following object is masked from ‘package:stats’:\n",
      "\n",
      "    filter\n",
      "\n",
      "The following objects are masked from ‘package:base’:\n",
      "\n",
      "    cbind, rbind\n",
      "\n",
      "Loading required package: sjmisc\n",
      "----------------------------------------------------------------------------------------------------\n",
      "----------------------------------------------- mean -----------------------------------------------\n",
      "...Computing...\n",
      "...............\n",
      "Time difference of 1.811892 mins\n",
      "----------------------------------------------------------------------------------------------------\n",
      "\n",
      "\n",
      "\n",
      "----------------------------------------------------------------------------------------------------\n",
      "---------------------------------------------- sample ----------------------------------------------\n",
      "...Computing...\n",
      "...............\n",
      "Time difference of 1.80189 mins\n",
      "----------------------------------------------------------------------------------------------------\n",
      "\n",
      "\n",
      "\n",
      "----------------------------------------------------------------------------------------------------\n",
      "----------------------------------------------- pmm ------------------------------------------------\n",
      "...Computing...\n",
      "...............\n",
      "Time difference of 4.032261 mins\n",
      "----------------------------------------------------------------------------------------------------\n",
      "\n",
      "\n",
      "\n",
      "----------------------------------------------------------------------------------------------------\n",
      "----------------------------------------------- cart -----------------------------------------------\n",
      "...Computing...\n",
      "...............\n",
      "Time difference of 3.635405 mins\n",
      "----------------------------------------------------------------------------------------------------\n",
      "\n",
      "\n",
      "\n",
      "----------------------------------------------------------------------------------------------------\n",
      "----------------------------------------------- norm -----------------------------------------------\n",
      "...Computing...\n",
      "...............\n",
      "Time difference of 4.05833 mins\n",
      "----------------------------------------------------------------------------------------------------\n",
      "\n",
      "\n",
      "\n",
      "----------------------------------------------------------------------------------------------------\n",
      "--------------------------------------------- norm.nob ---------------------------------------------\n",
      "...Computing...\n",
      "...............\n",
      "Time difference of 3.993845 mins\n",
      "----------------------------------------------------------------------------------------------------\n",
      "\n",
      "\n",
      "\n",
      "----------------------------------------------------------------------------------------------------\n",
      "------------------------------------------- norm.predict -------------------------------------------\n",
      "...Computing...\n",
      "...............\n",
      "Time difference of 4.130704 mins\n",
      "----------------------------------------------------------------------------------------------------\n",
      "\n",
      "\n",
      "\n",
      "Warning messages:\n",
      "1: Number of logged events: 3940 \n",
      "2: Number of logged events: 3888 \n",
      "3: Number of logged events: 4040 \n",
      "4: Number of logged events: 4074 \n",
      "5: Number of logged events: 3993 \n",
      "6: Number of logged events: 4004 \n",
      "7: Number of logged events: 4045 \n"
     ]
    }
   ],
   "source": [
    "! Rscript $path2Rscript $path2peakTable $path2output $list_methods"
   ]
  },
  {
   "cell_type": "code",
   "execution_count": null,
   "id": "2bc7d03f-796a-4e4f-86c7-01b00d5749e0",
   "metadata": {},
   "outputs": [],
   "source": []
  },
  {
   "cell_type": "code",
   "execution_count": 28,
   "id": "44bb2dbe-6a64-4d20-8b09-accb9326fed3",
   "metadata": {},
   "outputs": [],
   "source": [
    "# We decided to take only the columns (metabolites) with no missing values to simulate missing values later.\n",
    "# The following function has the objective of validating the explored imputation methods. \n",
    "# To do so, the function applies the analysed methods to a dataframe with simulated missing values to calculate \n",
    "# and plot the root mean square errors with respect to the exact values. \n",
    "\n",
    "def methods_validation (iterations):\n",
    "    \n",
    "    pathWorkDir = '~/MLnotebooks/metabopipeline_notebooks/'\n",
    "    path_peakTable_imputed = pathWorkDir + 'data/peakTable/test_imputed_peak_tables/'\n",
    "    \n",
    "    def my_mean (sample):\n",
    "        return(sum(sample)/len(sample))\n",
    "    \n",
    "    const_0_val = []\n",
    "    const_1_val = []\n",
    "    mean_val = []\n",
    "    mode_val = []\n",
    "    median_val = []\n",
    "    min_val = []\n",
    "    half_min_val = []\n",
    "    bay_val = []\n",
    "    dec_tree_val = []\n",
    "    ex_tree_val = []\n",
    "    kneig_val = []\n",
    "    knn_feat_val = []\n",
    "    knn_samp_val = []\n",
    "    R_mean_val = []\n",
    "    R_sample_val = []\n",
    "    R_pmm_val = []\n",
    "    R_cart_val = []\n",
    "    R_norm_val = []\n",
    "    R_norm_nob_val = []\n",
    "    R_norm_pred_val = []\n",
    "    \n",
    "    for i in range (iterations):\n",
    "        \n",
    "        subset = X.dropna(axis=1)\n",
    "        subset_with_NaN = subset.copy() # copy subset that we will later fill with NaNs\n",
    "        \n",
    "        # Random substitution of 13% of the values in 'subset_with_NaN' with NaNs.\n",
    "        # We keep 13% as NaNs percentage because it was the original value of NaNs. That represents 3696 values out of 29202.\n",
    "        ix = [(row, col) for row in range(subset_with_NaN.shape[0]) for col in range(subset_with_NaN.shape[1])]\n",
    "        for row, col in random.sample(ix, int(round(.13*len(ix)))):\n",
    "            subset_with_NaN.iat[row, col] = np.nan\n",
    "\n",
    "\n",
    "        # constant imputation\n",
    "        subset_const_0 = const_imputer(subset_with_NaN)\n",
    "        subset_const_0.to_csv(path_peakTable_imputed + 'subset_const_0.csv', index = False, header=True)\n",
    "        mse_const_0 = sklearn.metrics.mean_squared_error(subset, subset_const_0)\n",
    "        const_0_val.append (math.sqrt(mse_const_0))\n",
    "        subset_const_1 = const_imputer(subset_with_NaN,1)\n",
    "        subset_const_1.to_csv(path_peakTable_imputed + 'subset_const_1.csv', index = False, header=True)\n",
    "        mse_const_1 = sklearn.metrics.mean_squared_error(subset, subset_const_1)\n",
    "        const_1_val.append (math.sqrt(mse_const_1))\n",
    "        \n",
    "        # mean imputation    \n",
    "        subset_mean = mean_imputer(subset_with_NaN)\n",
    "        subset_mean.to_csv(path_peakTable_imputed + 'subset_mean.csv', index = False, header=True)\n",
    "        mse_mean = sklearn.metrics.mean_squared_error(subset, subset_mean)\n",
    "        mean_val.append (math.sqrt(mse_mean))\n",
    "\n",
    "        # median imputation\n",
    "        subset_median = median_imputer(subset_with_NaN)\n",
    "        subset_median.to_csv(path_peakTable_imputed + 'subset_median.csv', index = False, header=True)\n",
    "        mse_med = sklearn.metrics.mean_squared_error(subset, subset_median)\n",
    "        median_val.append (math.sqrt(mse_med))\n",
    "\n",
    "        # mode imputation\n",
    "        subset_mode = mode_imputer(subset_with_NaN)\n",
    "        subset_mode.to_csv(path_peakTable_imputed + 'subset_mode.csv', index = False, header=True)\n",
    "        mse_mode = sklearn.metrics.mean_squared_error(subset, subset_mode)\n",
    "        mode_val.append (math.sqrt(mse_mode))\n",
    "\n",
    "        # minimum imputation\n",
    "        subset_min = min_imputer(subset_with_NaN)\n",
    "        subset_min.to_csv(path_peakTable_imputed + 'subset_min.csv', index = False, header=True)\n",
    "        mse_min = sklearn.metrics.mean_squared_error(subset, subset_min)\n",
    "        min_val.append(math.sqrt(mse_min))\n",
    "\n",
    "        # half minimum imputation\n",
    "        subset_half_min = half_min_imputer(subset_with_NaN)\n",
    "        subset_half_min.to_csv(path_peakTable_imputed + 'subset_half_min.csv', index = False, header=True)\n",
    "        mse_half_min = sklearn.metrics.mean_squared_error(subset, subset_half_min)\n",
    "        half_min_val.append(math.sqrt(mse_half_min))\n",
    "\n",
    "\n",
    "        # multivariate imputation\n",
    "        subset_multival = subset_with_NaN.copy()\n",
    "        for estimator in estimators:\n",
    "            subset_multival_MICE = python_MICE_imputer(subset_multival, estimator)\n",
    "            subset_multival_MICE.to_csv(path_peakTable_imputed + 'subset_multival_MICE_' + str(estimator).split('(')[0] + '.csv', index = False, header=True)\n",
    "\n",
    "        # Bayesian ridge imputation\n",
    "        Bayesian_NaN = pd.read_csv(path_peakTable_imputed+'subset_multival_MICE_BayesianRidge.csv')\n",
    "        mse_bay = sklearn.metrics.mean_squared_error(subset, Bayesian_NaN)\n",
    "        bay_val.append (math.sqrt(mse_bay))\n",
    "\n",
    "            # decision tree imputation\n",
    "        Decision_tree_NaN = pd.read_csv(path_peakTable_imputed+'subset_multival_MICE_DecisionTreeRegressor.csv')\n",
    "        mse_dec_tree = sklearn.metrics.mean_squared_error(subset, Decision_tree_NaN)\n",
    "        dec_tree_val.append (math.sqrt(mse_dec_tree))\n",
    "\n",
    "            #extra tree imputation\n",
    "        Extra_tree_NaN = pd.read_csv(path_peakTable_imputed+'subset_multival_MICE_ExtraTreesRegressor.csv')\n",
    "        mse_extra_tree = sklearn.metrics.mean_squared_error(subset, Extra_tree_NaN)\n",
    "        ex_tree_val.append(math.sqrt(mse_extra_tree))\n",
    "\n",
    "            #Kneighbor imputation\n",
    "        K_neighbors_NaN = pd.read_csv(path_peakTable_imputed+'subset_multival_MICE_KNeighborsRegressor.csv')\n",
    "        mse_kneig = sklearn.metrics.mean_squared_error(subset, K_neighbors_NaN)\n",
    "        kneig_val.append(math.sqrt(mse_kneig))\n",
    "\n",
    "        #nearest neighbor imputation\n",
    "        subset_KNN_features = KNN_imputer(subset_with_NaN, by='features')\n",
    "        subset_KNN_samples = KNN_imputer(subset_with_NaN, by='samples')\n",
    "        mse_knn_feat = sklearn.metrics.mean_squared_error(subset, subset_KNN_features)\n",
    "        knn_feat_val.append (math.sqrt(mse_knn_feat))\n",
    "        mse_knn_samp = sklearn.metrics.mean_squared_error(subset, subset_KNN_samples)\n",
    "        knn_samp_val.append(math.sqrt(mse_knn_samp))\n",
    "        \n",
    "        #R MICE imputation\n",
    "        subset_R_mice = subset_with_NaN.copy()\n",
    "        \n",
    "        path_Rscr = pathWorkDir + 'bin/missing_value_imputation/mv_imp_MICE.R'\n",
    "        path_test = pathWorkDir + 'data/peakTable/test_imputed_peak_tables/subset_R_mice.csv'\n",
    "        path_test_imp = pathWorkDir + 'data/peakTable/test_imputed_peak_tables/'\n",
    "        list_methods = 'c(\"mean\",\"sample\",\"pmm\",\"cart\",\"norm\",\"norm.nob\",\"norm.predict\")'\n",
    "        list_methods = \"'\".join(['', list_methods, ''])\n",
    "        \n",
    "        #subset_R_mice.to_csv(path_test + 'subset_R_mice.csv', index = False, header=True)\n",
    "        subset_R_mice.to_csv(path_test, index = False, header=True)\n",
    "        \n",
    "        ! Rscript $path_Rscr $path_test $path_test_imp $list_methods\n",
    "        \n",
    "        subset_mice_mean = pd.read_csv(path_test_imp+'X_R_MICE_mean.csv')\n",
    "        mse_mice_mean = sklearn.metrics.mean_squared_error(subset, subset_mice_mean)\n",
    "        R_mean_val.append (math.sqrt(mse_mice_mean))\n",
    "        \n",
    "        subset_mice_sample = pd.read_csv(path_test_imp+'X_R_MICE_sample.csv')\n",
    "        mse_mice_sample = sklearn.metrics.mean_squared_error(subset, subset_mice_sample)\n",
    "        R_sample_val.append (math.sqrt(mse_mice_sample))\n",
    "        \n",
    "        subset_mice_pmm = pd.read_csv(path_test_imp+'X_R_MICE_pmm.csv')\n",
    "        mse_mice_pmm = sklearn.metrics.mean_squared_error(subset, subset_mice_pmm)\n",
    "        R_pmm_val.append (math.sqrt(mse_mice_pmm))\n",
    "        \n",
    "        subset_mice_cart = pd.read_csv(path_test_imp+'X_R_MICE_cart.csv')\n",
    "        mse_mice_cart = sklearn.metrics.mean_squared_error(subset, subset_mice_cart)\n",
    "        R_cart_val.append (math.sqrt(mse_mice_cart))\n",
    "        \n",
    "        subset_mice_norm = pd.read_csv(path_test_imp+'X_R_MICE_norm.csv')\n",
    "        mse_mice_norm = sklearn.metrics.mean_squared_error(subset, subset_mice_norm)\n",
    "        R_norm_val.append (math.sqrt(mse_mice_norm))\n",
    "        \n",
    "        subset_mice_norm_nob = pd.read_csv(path_test_imp+'X_R_MICE_norm_nob.csv')\n",
    "        mse_mice_norm_nob = sklearn.metrics.mean_squared_error(subset, subset_mice_norm_nob)\n",
    "        R_norm_nob_val.append (math.sqrt(mse_mice_norm_nob))\n",
    "        \n",
    "        subset_mice_norm_pred = pd.read_csv(path_test_imp+'X_R_MICE_norm_predict.csv')\n",
    "        mse_mice_norm_pred = sklearn.metrics.mean_squared_error(subset, subset_mice_norm_pred)\n",
    "        R_norm_pred_val.append (math.sqrt(mse_mice_norm_pred))\n",
    "    \n",
    "    const_0_hist = my_mean (const_0_val)\n",
    "    const_1_hist = my_mean (const_1_val)\n",
    "    mean_hist = my_mean (mean_val)\n",
    "    median_hist = my_mean (median_val)\n",
    "    mode_hist = my_mean (mode_val)\n",
    "    min_hist = my_mean (min_val)\n",
    "    half_min_hist = my_mean (half_min_val)\n",
    "    bay_hist = my_mean (bay_val)\n",
    "    dec_tree_hist = my_mean (dec_tree_val)\n",
    "    ex_tree_hist = my_mean (ex_tree_val)\n",
    "    kneigh_hist = my_mean (kneig_val)\n",
    "    knn_feat_hist = my_mean (knn_feat_val)\n",
    "    knn_samp_hist = my_mean (knn_samp_val)\n",
    "    R_mean_hist = my_mean (R_mean_val)\n",
    "    R_sample_hist = my_mean (R_sample_val)\n",
    "    R_pmm_hist = my_mean (R_pmm_val)\n",
    "    R_cart_hist = my_mean (R_cart_val)\n",
    "    R_norm_hist = my_mean (R_norm_val)\n",
    "    R_norm_nob_hist = my_mean (R_norm_nob_val)\n",
    "    R_norm_pred_hist = my_mean (R_norm_pred_val)\n",
    "    \n",
    "    \n",
    "    #bar diagram\n",
    "    methods = ['Constant 0','Constant 1','Mean','Median','Mode','Minimum','Half Minimum','Bayesian Ridge','Decision Tree Regression','Extra Tree Regression','K-neighbor','N-neighbor by features','N-neighbor by samples','R-mice_mean','R-mice_sample','R-mice_pmm','R-mice_cart','R-mice_norm','R-mice_norm-nob','R-mice_norm-pred']\n",
    "    data = [const_0_hist,const_1_hist,mean_hist,median_hist,mode_hist,min_hist,half_min_hist,bay_hist, dec_tree_hist,ex_tree_hist,kneigh_hist,knn_feat_hist,knn_samp_hist,R_mean_hist,R_sample_hist,R_pmm_hist,R_cart_hist,R_norm_hist,R_norm_nob_hist,R_norm_pred_hist]\n",
    "    \n",
    "    fig, ax = plt.subplots(figsize = (24,10))\n",
    "\n",
    "    num = 20\n",
    "    ind = np.arange(num)\n",
    "    plt.figure(figsize=(24,10))\n",
    "    bars = ax.bar(ind, data, align='center')\n",
    "    ax.set_xticks(ind)\n",
    "    ax.set_xticklabels(labels=methods, rotation = 'vertical')\n",
    "    ax.set_ylabel('RMSE')\n",
    "    ax.set_title('Methods evaluation')\n",
    "\n",
    "    ax.bar_label(bars, fmt='%.3f') \n",
    "\n",
    "    return (plt.show())"
   ]
  },
  {
   "cell_type": "code",
   "execution_count": null,
   "id": "4879cd1a-383c-4e87-86bc-2662a32709f0",
   "metadata": {},
   "outputs": [],
   "source": []
  },
  {
   "cell_type": "code",
   "execution_count": 29,
   "id": "b84879c0-1a1f-479d-8453-c804c80dcc33",
   "metadata": {},
   "outputs": [
    {
     "name": "stderr",
     "output_type": "stream",
     "text": [
      "/home/vincentm/.local/lib/python3.6/site-packages/sklearn/impute/_iterative.py:686: ConvergenceWarning: [IterativeImputer] Early stopping criterion not reached.\n",
      "  \" reached.\", ConvergenceWarning)\n"
     ]
    },
    {
     "name": "stdout",
     "output_type": "stream",
     "text": [
      "----- 2.2 seconds -----\n"
     ]
    },
    {
     "name": "stderr",
     "output_type": "stream",
     "text": [
      "/home/vincentm/.local/lib/python3.6/site-packages/sklearn/impute/_iterative.py:686: ConvergenceWarning: [IterativeImputer] Early stopping criterion not reached.\n",
      "  \" reached.\", ConvergenceWarning)\n"
     ]
    },
    {
     "name": "stdout",
     "output_type": "stream",
     "text": [
      "----- 2.0 seconds -----\n"
     ]
    },
    {
     "name": "stderr",
     "output_type": "stream",
     "text": [
      "/home/vincentm/.local/lib/python3.6/site-packages/sklearn/impute/_iterative.py:686: ConvergenceWarning: [IterativeImputer] Early stopping criterion not reached.\n",
      "  \" reached.\", ConvergenceWarning)\n"
     ]
    },
    {
     "name": "stdout",
     "output_type": "stream",
     "text": [
      "----- 18.9 seconds -----\n"
     ]
    },
    {
     "name": "stderr",
     "output_type": "stream",
     "text": [
      "/home/vincentm/.local/lib/python3.6/site-packages/sklearn/impute/_iterative.py:686: ConvergenceWarning: [IterativeImputer] Early stopping criterion not reached.\n",
      "  \" reached.\", ConvergenceWarning)\n"
     ]
    },
    {
     "name": "stdout",
     "output_type": "stream",
     "text": [
      "----- 2.8 seconds -----\n",
      "[1] \".GlobalEnv\"        \"package:stats\"     \"package:graphics\" \n",
      "[4] \"package:grDevices\" \"package:utils\"     \"package:datasets\" \n",
      "[7] \"package:methods\"   \"Autoloads\"         \"package:base\"     \n",
      "[1] \"/opt/R/4.1.2/lib/R/library\"\n",
      "[1] \"/opt/R/4.1.2/lib/R/library\"                      \n",
      "[2] \"/home/vincentm/R/x86_64-pc-linux-gnu-library/4.0\"\n",
      "[3] \"/opt/R/4.0.4/lib/R/library\"                      \n",
      "[1] \"/home/vincentm/MLnotebooks/metabopipeline_notebooks/data/peakTable/test_imputed_peak_tables/subset_R_mice.csv\"\n",
      "[1] \"/home/vincentm/MLnotebooks/metabopipeline_notebooks/data/peakTable/test_imputed_peak_tables/\"\n",
      "[1] \"c(\\\"mean\\\",\\\"sample\\\",\\\"pmm\\\",\\\"cart\\\",\\\"norm\\\",\\\"norm.nob\\\",\\\"norm.predict\\\")\"\n",
      "[1] \"mean\"         \"sample\"       \"pmm\"          \"cart\"         \"norm\"        \n",
      "[6] \"norm.nob\"     \"norm.predict\"\n",
      "Loading required package: mice\n",
      "\n",
      "Attaching package: ‘mice’\n",
      "\n",
      "The following object is masked from ‘package:stats’:\n",
      "\n",
      "    filter\n",
      "\n",
      "The following objects are masked from ‘package:base’:\n",
      "\n",
      "    cbind, rbind\n",
      "\n",
      "Loading required package: sjmisc\n",
      "----------------------------------------------------------------------------------------------------\n",
      "----------------------------------------------- mean -----------------------------------------------\n",
      "...Computing...\n",
      "...............\n",
      "Time difference of 14.49963 secs\n",
      "----------------------------------------------------------------------------------------------------\n",
      "\n",
      "\n",
      "\n",
      "----------------------------------------------------------------------------------------------------\n",
      "---------------------------------------------- sample ----------------------------------------------\n",
      "...Computing...\n",
      "...............\n",
      "Time difference of 14.28548 secs\n",
      "----------------------------------------------------------------------------------------------------\n",
      "\n",
      "\n",
      "\n",
      "----------------------------------------------------------------------------------------------------\n",
      "----------------------------------------------- pmm ------------------------------------------------\n",
      "...Computing...\n",
      "...............\n",
      "Time difference of 29.55433 secs\n",
      "----------------------------------------------------------------------------------------------------\n",
      "\n",
      "\n",
      "\n",
      "----------------------------------------------------------------------------------------------------\n",
      "----------------------------------------------- cart -----------------------------------------------\n",
      "...Computing...\n",
      "...............\n",
      "Time difference of 40.50694 secs\n",
      "----------------------------------------------------------------------------------------------------\n",
      "\n",
      "\n",
      "\n",
      "----------------------------------------------------------------------------------------------------\n",
      "----------------------------------------------- norm -----------------------------------------------\n",
      "...Computing...\n",
      "...............\n",
      "Time difference of 28.6246 secs\n",
      "----------------------------------------------------------------------------------------------------\n",
      "\n",
      "\n",
      "\n",
      "----------------------------------------------------------------------------------------------------\n",
      "--------------------------------------------- norm.nob ---------------------------------------------\n",
      "...Computing...\n",
      "...............\n",
      "Time difference of 28.15853 secs\n",
      "----------------------------------------------------------------------------------------------------\n",
      "\n",
      "\n",
      "\n",
      "----------------------------------------------------------------------------------------------------\n",
      "------------------------------------------- norm.predict -------------------------------------------\n",
      "...Computing...\n",
      "...............\n",
      "Time difference of 28.85193 secs\n",
      "----------------------------------------------------------------------------------------------------\n",
      "\n",
      "\n",
      "\n",
      "Warning messages:\n",
      "1: Number of logged events: 1267 \n",
      "2: Number of logged events: 836 \n",
      "3: Number of logged events: 1398 \n",
      "4: Number of logged events: 1403 \n",
      "5: Number of logged events: 1587 \n"
     ]
    },
    {
     "name": "stderr",
     "output_type": "stream",
     "text": [
      "/home/vincentm/.local/lib/python3.6/site-packages/sklearn/impute/_iterative.py:686: ConvergenceWarning: [IterativeImputer] Early stopping criterion not reached.\n",
      "  \" reached.\", ConvergenceWarning)\n"
     ]
    },
    {
     "name": "stdout",
     "output_type": "stream",
     "text": [
      "----- 2.1 seconds -----\n"
     ]
    },
    {
     "name": "stderr",
     "output_type": "stream",
     "text": [
      "/home/vincentm/.local/lib/python3.6/site-packages/sklearn/impute/_iterative.py:686: ConvergenceWarning: [IterativeImputer] Early stopping criterion not reached.\n",
      "  \" reached.\", ConvergenceWarning)\n"
     ]
    },
    {
     "name": "stdout",
     "output_type": "stream",
     "text": [
      "----- 2.1 seconds -----\n"
     ]
    },
    {
     "name": "stderr",
     "output_type": "stream",
     "text": [
      "/home/vincentm/.local/lib/python3.6/site-packages/sklearn/impute/_iterative.py:686: ConvergenceWarning: [IterativeImputer] Early stopping criterion not reached.\n",
      "  \" reached.\", ConvergenceWarning)\n"
     ]
    },
    {
     "name": "stdout",
     "output_type": "stream",
     "text": [
      "----- 18.9 seconds -----\n"
     ]
    },
    {
     "name": "stderr",
     "output_type": "stream",
     "text": [
      "/home/vincentm/.local/lib/python3.6/site-packages/sklearn/impute/_iterative.py:686: ConvergenceWarning: [IterativeImputer] Early stopping criterion not reached.\n",
      "  \" reached.\", ConvergenceWarning)\n"
     ]
    },
    {
     "name": "stdout",
     "output_type": "stream",
     "text": [
      "----- 2.8 seconds -----\n",
      "[1] \".GlobalEnv\"        \"package:stats\"     \"package:graphics\" \n",
      "[4] \"package:grDevices\" \"package:utils\"     \"package:datasets\" \n",
      "[7] \"package:methods\"   \"Autoloads\"         \"package:base\"     \n",
      "[1] \"/opt/R/4.1.2/lib/R/library\"\n",
      "[1] \"/opt/R/4.1.2/lib/R/library\"                      \n",
      "[2] \"/home/vincentm/R/x86_64-pc-linux-gnu-library/4.0\"\n",
      "[3] \"/opt/R/4.0.4/lib/R/library\"                      \n",
      "[1] \"/home/vincentm/MLnotebooks/metabopipeline_notebooks/data/peakTable/test_imputed_peak_tables/subset_R_mice.csv\"\n",
      "[1] \"/home/vincentm/MLnotebooks/metabopipeline_notebooks/data/peakTable/test_imputed_peak_tables/\"\n",
      "[1] \"c(\\\"mean\\\",\\\"sample\\\",\\\"pmm\\\",\\\"cart\\\",\\\"norm\\\",\\\"norm.nob\\\",\\\"norm.predict\\\")\"\n",
      "[1] \"mean\"         \"sample\"       \"pmm\"          \"cart\"         \"norm\"        \n",
      "[6] \"norm.nob\"     \"norm.predict\"\n",
      "Loading required package: mice\n",
      "\n",
      "Attaching package: ‘mice’\n",
      "\n",
      "The following object is masked from ‘package:stats’:\n",
      "\n",
      "    filter\n",
      "\n",
      "The following objects are masked from ‘package:base’:\n",
      "\n",
      "    cbind, rbind\n",
      "\n",
      "Loading required package: sjmisc\n",
      "----------------------------------------------------------------------------------------------------\n",
      "----------------------------------------------- mean -----------------------------------------------\n",
      "...Computing...\n",
      "...............\n",
      "Time difference of 14.14742 secs\n",
      "----------------------------------------------------------------------------------------------------\n",
      "\n",
      "\n",
      "\n",
      "----------------------------------------------------------------------------------------------------\n",
      "---------------------------------------------- sample ----------------------------------------------\n",
      "...Computing...\n",
      "...............\n",
      "Time difference of 13.79906 secs\n",
      "----------------------------------------------------------------------------------------------------\n",
      "\n",
      "\n",
      "\n",
      "----------------------------------------------------------------------------------------------------\n",
      "----------------------------------------------- pmm ------------------------------------------------\n",
      "...Computing...\n",
      "...............\n",
      "Time difference of 28.44312 secs\n",
      "----------------------------------------------------------------------------------------------------\n",
      "\n",
      "\n",
      "\n",
      "----------------------------------------------------------------------------------------------------\n",
      "----------------------------------------------- cart -----------------------------------------------\n",
      "...Computing...\n",
      "...............\n",
      "Time difference of 40.24225 secs\n",
      "----------------------------------------------------------------------------------------------------\n",
      "\n",
      "\n",
      "\n",
      "----------------------------------------------------------------------------------------------------\n",
      "----------------------------------------------- norm -----------------------------------------------\n",
      "...Computing...\n",
      "...............\n",
      "Time difference of 28.62432 secs\n",
      "----------------------------------------------------------------------------------------------------\n",
      "\n",
      "\n",
      "\n",
      "----------------------------------------------------------------------------------------------------\n",
      "--------------------------------------------- norm.nob ---------------------------------------------\n",
      "...Computing...\n",
      "...............\n",
      "Time difference of 27.8414 secs\n",
      "----------------------------------------------------------------------------------------------------\n",
      "\n",
      "\n",
      "\n",
      "----------------------------------------------------------------------------------------------------\n",
      "------------------------------------------- norm.predict -------------------------------------------\n",
      "...Computing...\n",
      "...............\n",
      "Time difference of 26.53949 secs\n",
      "----------------------------------------------------------------------------------------------------\n",
      "\n",
      "\n",
      "\n",
      "Warning messages:\n",
      "1: Number of logged events: 1284 \n",
      "2: Number of logged events: 835 \n",
      "3: Number of logged events: 1383 \n",
      "4: Number of logged events: 1414 \n",
      "5: Number of logged events: 1579 \n"
     ]
    },
    {
     "name": "stderr",
     "output_type": "stream",
     "text": [
      "/home/vincentm/.local/lib/python3.6/site-packages/sklearn/impute/_iterative.py:686: ConvergenceWarning: [IterativeImputer] Early stopping criterion not reached.\n",
      "  \" reached.\", ConvergenceWarning)\n"
     ]
    },
    {
     "name": "stdout",
     "output_type": "stream",
     "text": [
      "----- 2.2 seconds -----\n"
     ]
    },
    {
     "name": "stderr",
     "output_type": "stream",
     "text": [
      "/home/vincentm/.local/lib/python3.6/site-packages/sklearn/impute/_iterative.py:686: ConvergenceWarning: [IterativeImputer] Early stopping criterion not reached.\n",
      "  \" reached.\", ConvergenceWarning)\n"
     ]
    },
    {
     "name": "stdout",
     "output_type": "stream",
     "text": [
      "----- 2.0 seconds -----\n"
     ]
    },
    {
     "name": "stderr",
     "output_type": "stream",
     "text": [
      "/home/vincentm/.local/lib/python3.6/site-packages/sklearn/impute/_iterative.py:686: ConvergenceWarning: [IterativeImputer] Early stopping criterion not reached.\n",
      "  \" reached.\", ConvergenceWarning)\n"
     ]
    },
    {
     "name": "stdout",
     "output_type": "stream",
     "text": [
      "----- 18.8 seconds -----\n"
     ]
    },
    {
     "name": "stderr",
     "output_type": "stream",
     "text": [
      "/home/vincentm/.local/lib/python3.6/site-packages/sklearn/impute/_iterative.py:686: ConvergenceWarning: [IterativeImputer] Early stopping criterion not reached.\n",
      "  \" reached.\", ConvergenceWarning)\n"
     ]
    },
    {
     "name": "stdout",
     "output_type": "stream",
     "text": [
      "----- 2.8 seconds -----\n",
      "[1] \".GlobalEnv\"        \"package:stats\"     \"package:graphics\" \n",
      "[4] \"package:grDevices\" \"package:utils\"     \"package:datasets\" \n",
      "[7] \"package:methods\"   \"Autoloads\"         \"package:base\"     \n",
      "[1] \"/opt/R/4.1.2/lib/R/library\"\n",
      "[1] \"/opt/R/4.1.2/lib/R/library\"                      \n",
      "[2] \"/home/vincentm/R/x86_64-pc-linux-gnu-library/4.0\"\n",
      "[3] \"/opt/R/4.0.4/lib/R/library\"                      \n",
      "[1] \"/home/vincentm/MLnotebooks/metabopipeline_notebooks/data/peakTable/test_imputed_peak_tables/subset_R_mice.csv\"\n",
      "[1] \"/home/vincentm/MLnotebooks/metabopipeline_notebooks/data/peakTable/test_imputed_peak_tables/\"\n",
      "[1] \"c(\\\"mean\\\",\\\"sample\\\",\\\"pmm\\\",\\\"cart\\\",\\\"norm\\\",\\\"norm.nob\\\",\\\"norm.predict\\\")\"\n",
      "[1] \"mean\"         \"sample\"       \"pmm\"          \"cart\"         \"norm\"        \n",
      "[6] \"norm.nob\"     \"norm.predict\"\n",
      "Loading required package: mice\n",
      "\n",
      "Attaching package: ‘mice’\n",
      "\n",
      "The following object is masked from ‘package:stats’:\n",
      "\n",
      "    filter\n",
      "\n",
      "The following objects are masked from ‘package:base’:\n",
      "\n",
      "    cbind, rbind\n",
      "\n",
      "Loading required package: sjmisc\n",
      "----------------------------------------------------------------------------------------------------\n",
      "----------------------------------------------- mean -----------------------------------------------\n",
      "...Computing...\n",
      "...............\n",
      "Time difference of 13.99284 secs\n",
      "----------------------------------------------------------------------------------------------------\n",
      "\n",
      "\n",
      "\n",
      "----------------------------------------------------------------------------------------------------\n",
      "---------------------------------------------- sample ----------------------------------------------\n",
      "...Computing...\n",
      "...............\n",
      "Time difference of 13.57875 secs\n",
      "----------------------------------------------------------------------------------------------------\n",
      "\n",
      "\n",
      "\n",
      "----------------------------------------------------------------------------------------------------\n",
      "----------------------------------------------- pmm ------------------------------------------------\n",
      "...Computing...\n",
      "...............\n",
      "Time difference of 30.78194 secs\n",
      "----------------------------------------------------------------------------------------------------\n",
      "\n",
      "\n",
      "\n",
      "----------------------------------------------------------------------------------------------------\n",
      "----------------------------------------------- cart -----------------------------------------------\n",
      "...Computing...\n",
      "...............\n",
      "Time difference of 41.43281 secs\n",
      "----------------------------------------------------------------------------------------------------\n",
      "\n",
      "\n",
      "\n",
      "----------------------------------------------------------------------------------------------------\n",
      "----------------------------------------------- norm -----------------------------------------------\n",
      "...Computing...\n",
      "...............\n",
      "Time difference of 29.30822 secs\n",
      "----------------------------------------------------------------------------------------------------\n",
      "\n",
      "\n",
      "\n",
      "----------------------------------------------------------------------------------------------------\n",
      "--------------------------------------------- norm.nob ---------------------------------------------\n",
      "...Computing...\n",
      "...............\n",
      "Time difference of 28.14941 secs\n",
      "----------------------------------------------------------------------------------------------------\n",
      "\n",
      "\n",
      "\n",
      "----------------------------------------------------------------------------------------------------\n",
      "------------------------------------------- norm.predict -------------------------------------------\n",
      "...Computing...\n",
      "...............\n",
      "Time difference of 28.90093 secs\n",
      "----------------------------------------------------------------------------------------------------\n",
      "\n",
      "\n",
      "\n",
      "Warning messages:\n",
      "1: Number of logged events: 1295 \n",
      "2: Number of logged events: 858 \n",
      "3: Number of logged events: 1411 \n",
      "4: Number of logged events: 1424 \n",
      "5: Number of logged events: 1578 \n"
     ]
    },
    {
     "name": "stderr",
     "output_type": "stream",
     "text": [
      "/home/vincentm/.local/lib/python3.6/site-packages/sklearn/impute/_iterative.py:686: ConvergenceWarning: [IterativeImputer] Early stopping criterion not reached.\n",
      "  \" reached.\", ConvergenceWarning)\n"
     ]
    },
    {
     "name": "stdout",
     "output_type": "stream",
     "text": [
      "----- 2.3 seconds -----\n"
     ]
    },
    {
     "name": "stderr",
     "output_type": "stream",
     "text": [
      "/home/vincentm/.local/lib/python3.6/site-packages/sklearn/impute/_iterative.py:686: ConvergenceWarning: [IterativeImputer] Early stopping criterion not reached.\n",
      "  \" reached.\", ConvergenceWarning)\n"
     ]
    },
    {
     "name": "stdout",
     "output_type": "stream",
     "text": [
      "----- 2.0 seconds -----\n"
     ]
    },
    {
     "name": "stderr",
     "output_type": "stream",
     "text": [
      "/home/vincentm/.local/lib/python3.6/site-packages/sklearn/impute/_iterative.py:686: ConvergenceWarning: [IterativeImputer] Early stopping criterion not reached.\n",
      "  \" reached.\", ConvergenceWarning)\n"
     ]
    },
    {
     "name": "stdout",
     "output_type": "stream",
     "text": [
      "----- 18.8 seconds -----\n"
     ]
    },
    {
     "name": "stderr",
     "output_type": "stream",
     "text": [
      "/home/vincentm/.local/lib/python3.6/site-packages/sklearn/impute/_iterative.py:686: ConvergenceWarning: [IterativeImputer] Early stopping criterion not reached.\n",
      "  \" reached.\", ConvergenceWarning)\n"
     ]
    },
    {
     "name": "stdout",
     "output_type": "stream",
     "text": [
      "----- 2.9 seconds -----\n",
      "[1] \".GlobalEnv\"        \"package:stats\"     \"package:graphics\" \n",
      "[4] \"package:grDevices\" \"package:utils\"     \"package:datasets\" \n",
      "[7] \"package:methods\"   \"Autoloads\"         \"package:base\"     \n",
      "[1] \"/opt/R/4.1.2/lib/R/library\"\n",
      "[1] \"/opt/R/4.1.2/lib/R/library\"                      \n",
      "[2] \"/home/vincentm/R/x86_64-pc-linux-gnu-library/4.0\"\n",
      "[3] \"/opt/R/4.0.4/lib/R/library\"                      \n",
      "[1] \"/home/vincentm/MLnotebooks/metabopipeline_notebooks/data/peakTable/test_imputed_peak_tables/subset_R_mice.csv\"\n",
      "[1] \"/home/vincentm/MLnotebooks/metabopipeline_notebooks/data/peakTable/test_imputed_peak_tables/\"\n",
      "[1] \"c(\\\"mean\\\",\\\"sample\\\",\\\"pmm\\\",\\\"cart\\\",\\\"norm\\\",\\\"norm.nob\\\",\\\"norm.predict\\\")\"\n",
      "[1] \"mean\"         \"sample\"       \"pmm\"          \"cart\"         \"norm\"        \n",
      "[6] \"norm.nob\"     \"norm.predict\"\n",
      "Loading required package: mice\n",
      "\n",
      "Attaching package: ‘mice’\n",
      "\n",
      "The following object is masked from ‘package:stats’:\n",
      "\n",
      "    filter\n",
      "\n",
      "The following objects are masked from ‘package:base’:\n",
      "\n",
      "    cbind, rbind\n",
      "\n",
      "Loading required package: sjmisc\n",
      "Install package \"strengejacke\" from GitHub (`devtools::install_github(\"strengejacke/strengejacke\")`) to load all sj-packages at once!\n",
      "----------------------------------------------------------------------------------------------------\n",
      "----------------------------------------------- mean -----------------------------------------------\n",
      "...Computing...\n",
      "...............\n",
      "Time difference of 14.72593 secs\n",
      "----------------------------------------------------------------------------------------------------\n",
      "\n",
      "\n",
      "\n",
      "----------------------------------------------------------------------------------------------------\n",
      "---------------------------------------------- sample ----------------------------------------------\n",
      "...Computing...\n",
      "...............\n",
      "Time difference of 14.38928 secs\n",
      "----------------------------------------------------------------------------------------------------\n",
      "\n",
      "\n",
      "\n",
      "----------------------------------------------------------------------------------------------------\n",
      "----------------------------------------------- pmm ------------------------------------------------\n",
      "...Computing...\n",
      "...............\n",
      "Time difference of 30.81658 secs\n",
      "----------------------------------------------------------------------------------------------------\n",
      "\n",
      "\n",
      "\n",
      "----------------------------------------------------------------------------------------------------\n",
      "----------------------------------------------- cart -----------------------------------------------\n",
      "...Computing...\n",
      "...............\n",
      "Time difference of 42.12274 secs\n",
      "----------------------------------------------------------------------------------------------------\n",
      "\n",
      "\n",
      "\n",
      "----------------------------------------------------------------------------------------------------\n",
      "----------------------------------------------- norm -----------------------------------------------\n",
      "...Computing...\n",
      "...............\n",
      "Time difference of 30.01389 secs\n",
      "----------------------------------------------------------------------------------------------------\n",
      "\n",
      "\n",
      "\n",
      "----------------------------------------------------------------------------------------------------\n",
      "--------------------------------------------- norm.nob ---------------------------------------------\n",
      "...Computing...\n",
      "...............\n",
      "Time difference of 28.5382 secs\n",
      "----------------------------------------------------------------------------------------------------\n",
      "\n",
      "\n",
      "\n",
      "----------------------------------------------------------------------------------------------------\n",
      "------------------------------------------- norm.predict -------------------------------------------\n",
      "...Computing...\n",
      "...............\n",
      "Time difference of 28.97263 secs\n",
      "----------------------------------------------------------------------------------------------------\n",
      "\n",
      "\n",
      "\n",
      "Warning messages:\n",
      "1: Number of logged events: 1312 \n",
      "2: Number of logged events: 801 \n",
      "3: Number of logged events: 1388 \n",
      "4: Number of logged events: 1403 \n",
      "5: Number of logged events: 1582 \n"
     ]
    },
    {
     "name": "stderr",
     "output_type": "stream",
     "text": [
      "/home/vincentm/.local/lib/python3.6/site-packages/sklearn/impute/_iterative.py:686: ConvergenceWarning: [IterativeImputer] Early stopping criterion not reached.\n",
      "  \" reached.\", ConvergenceWarning)\n"
     ]
    },
    {
     "name": "stdout",
     "output_type": "stream",
     "text": [
      "----- 2.2 seconds -----\n"
     ]
    },
    {
     "name": "stderr",
     "output_type": "stream",
     "text": [
      "/home/vincentm/.local/lib/python3.6/site-packages/sklearn/impute/_iterative.py:686: ConvergenceWarning: [IterativeImputer] Early stopping criterion not reached.\n",
      "  \" reached.\", ConvergenceWarning)\n"
     ]
    },
    {
     "name": "stdout",
     "output_type": "stream",
     "text": [
      "----- 2.0 seconds -----\n"
     ]
    },
    {
     "name": "stderr",
     "output_type": "stream",
     "text": [
      "/home/vincentm/.local/lib/python3.6/site-packages/sklearn/impute/_iterative.py:686: ConvergenceWarning: [IterativeImputer] Early stopping criterion not reached.\n",
      "  \" reached.\", ConvergenceWarning)\n"
     ]
    },
    {
     "name": "stdout",
     "output_type": "stream",
     "text": [
      "----- 18.9 seconds -----\n"
     ]
    },
    {
     "name": "stderr",
     "output_type": "stream",
     "text": [
      "/home/vincentm/.local/lib/python3.6/site-packages/sklearn/impute/_iterative.py:686: ConvergenceWarning: [IterativeImputer] Early stopping criterion not reached.\n",
      "  \" reached.\", ConvergenceWarning)\n"
     ]
    },
    {
     "name": "stdout",
     "output_type": "stream",
     "text": [
      "----- 2.9 seconds -----\n",
      "[1] \".GlobalEnv\"        \"package:stats\"     \"package:graphics\" \n",
      "[4] \"package:grDevices\" \"package:utils\"     \"package:datasets\" \n",
      "[7] \"package:methods\"   \"Autoloads\"         \"package:base\"     \n",
      "[1] \"/opt/R/4.1.2/lib/R/library\"\n",
      "[1] \"/opt/R/4.1.2/lib/R/library\"                      \n",
      "[2] \"/home/vincentm/R/x86_64-pc-linux-gnu-library/4.0\"\n",
      "[3] \"/opt/R/4.0.4/lib/R/library\"                      \n",
      "[1] \"/home/vincentm/MLnotebooks/metabopipeline_notebooks/data/peakTable/test_imputed_peak_tables/subset_R_mice.csv\"\n",
      "[1] \"/home/vincentm/MLnotebooks/metabopipeline_notebooks/data/peakTable/test_imputed_peak_tables/\"\n",
      "[1] \"c(\\\"mean\\\",\\\"sample\\\",\\\"pmm\\\",\\\"cart\\\",\\\"norm\\\",\\\"norm.nob\\\",\\\"norm.predict\\\")\"\n",
      "[1] \"mean\"         \"sample\"       \"pmm\"          \"cart\"         \"norm\"        \n",
      "[6] \"norm.nob\"     \"norm.predict\"\n",
      "Loading required package: mice\n",
      "\n",
      "Attaching package: ‘mice’\n",
      "\n",
      "The following object is masked from ‘package:stats’:\n",
      "\n",
      "    filter\n",
      "\n",
      "The following objects are masked from ‘package:base’:\n",
      "\n",
      "    cbind, rbind\n",
      "\n",
      "Loading required package: sjmisc\n",
      "----------------------------------------------------------------------------------------------------\n",
      "----------------------------------------------- mean -----------------------------------------------\n",
      "...Computing...\n",
      "...............\n",
      "Time difference of 14.27624 secs\n",
      "----------------------------------------------------------------------------------------------------\n",
      "\n",
      "\n",
      "\n",
      "----------------------------------------------------------------------------------------------------\n",
      "---------------------------------------------- sample ----------------------------------------------\n",
      "...Computing...\n",
      "...............\n",
      "Time difference of 13.91664 secs\n",
      "----------------------------------------------------------------------------------------------------\n",
      "\n",
      "\n",
      "\n",
      "----------------------------------------------------------------------------------------------------\n",
      "----------------------------------------------- pmm ------------------------------------------------\n",
      "...Computing...\n",
      "...............\n",
      "Time difference of 28.9579 secs\n",
      "----------------------------------------------------------------------------------------------------\n",
      "\n",
      "\n",
      "\n",
      "----------------------------------------------------------------------------------------------------\n",
      "----------------------------------------------- cart -----------------------------------------------\n",
      "...Computing...\n",
      "...............\n",
      "Time difference of 40.7234 secs\n",
      "----------------------------------------------------------------------------------------------------\n",
      "\n",
      "\n",
      "\n",
      "----------------------------------------------------------------------------------------------------\n",
      "----------------------------------------------- norm -----------------------------------------------\n",
      "...Computing...\n",
      "...............\n",
      "Time difference of 28.68673 secs\n",
      "----------------------------------------------------------------------------------------------------\n",
      "\n",
      "\n",
      "\n",
      "----------------------------------------------------------------------------------------------------\n",
      "--------------------------------------------- norm.nob ---------------------------------------------\n",
      "...Computing...\n",
      "...............\n",
      "Time difference of 27.08569 secs\n",
      "----------------------------------------------------------------------------------------------------\n",
      "\n",
      "\n",
      "\n",
      "----------------------------------------------------------------------------------------------------\n",
      "------------------------------------------- norm.predict -------------------------------------------\n",
      "...Computing...\n",
      "...............\n",
      "Time difference of 27.87992 secs\n",
      "----------------------------------------------------------------------------------------------------\n",
      "\n",
      "\n",
      "\n",
      "Warning messages:\n",
      "1: Number of logged events: 1255 \n",
      "2: Number of logged events: 755 \n",
      "3: Number of logged events: 1294 \n",
      "4: Number of logged events: 1327 \n",
      "5: Number of logged events: 1512 \n"
     ]
    },
    {
     "ename": "AttributeError",
     "evalue": "'AxesSubplot' object has no attribute 'bar_label'",
     "output_type": "error",
     "traceback": [
      "\u001b[0;31m---------------------------------------------------------------------------\u001b[0m",
      "\u001b[0;31mAttributeError\u001b[0m                            Traceback (most recent call last)",
      "\u001b[0;32m<ipython-input-29-bf9e399e0102>\u001b[0m in \u001b[0;36m<module>\u001b[0;34m\u001b[0m\n\u001b[0;32m----> 1\u001b[0;31m \u001b[0mmethods_validation\u001b[0m\u001b[0;34m(\u001b[0m\u001b[0;36m5\u001b[0m\u001b[0;34m)\u001b[0m\u001b[0;34m\u001b[0m\u001b[0;34m\u001b[0m\u001b[0m\n\u001b[0m",
      "\u001b[0;32m<ipython-input-28-342fe87359ac>\u001b[0m in \u001b[0;36mmethods_validation\u001b[0;34m(iterations)\u001b[0m\n\u001b[1;32m    199\u001b[0m     \u001b[0max\u001b[0m\u001b[0;34m.\u001b[0m\u001b[0mset_title\u001b[0m\u001b[0;34m(\u001b[0m\u001b[0;34m'Methods evaluation'\u001b[0m\u001b[0;34m)\u001b[0m\u001b[0;34m\u001b[0m\u001b[0;34m\u001b[0m\u001b[0m\n\u001b[1;32m    200\u001b[0m \u001b[0;34m\u001b[0m\u001b[0m\n\u001b[0;32m--> 201\u001b[0;31m     \u001b[0max\u001b[0m\u001b[0;34m.\u001b[0m\u001b[0mbar_label\u001b[0m\u001b[0;34m(\u001b[0m\u001b[0mbars\u001b[0m\u001b[0;34m,\u001b[0m \u001b[0mfmt\u001b[0m\u001b[0;34m=\u001b[0m\u001b[0;34m'%.3f'\u001b[0m\u001b[0;34m)\u001b[0m\u001b[0;34m\u001b[0m\u001b[0;34m\u001b[0m\u001b[0m\n\u001b[0m\u001b[1;32m    202\u001b[0m \u001b[0;34m\u001b[0m\u001b[0m\n\u001b[1;32m    203\u001b[0m     \u001b[0;32mreturn\u001b[0m \u001b[0;34m(\u001b[0m\u001b[0mplt\u001b[0m\u001b[0;34m.\u001b[0m\u001b[0mshow\u001b[0m\u001b[0;34m(\u001b[0m\u001b[0;34m)\u001b[0m\u001b[0;34m)\u001b[0m\u001b[0;34m\u001b[0m\u001b[0;34m\u001b[0m\u001b[0m\n",
      "\u001b[0;31mAttributeError\u001b[0m: 'AxesSubplot' object has no attribute 'bar_label'"
     ]
    },
    {
     "data": {
      "image/png": "[encoded data removed]",
      "text/plain": [
       "<Figure size 1728x720 with 1 Axes>"
      ]
     },
     "metadata": {
      "needs_background": "light"
     },
     "output_type": "display_data"
    },
    {
     "data": {
      "text/plain": [
       "<Figure size 1728x720 with 0 Axes>"
      ]
     },
     "metadata": {},
     "output_type": "display_data"
    }
   ],
   "source": [
    "methods_validation(5)"
   ]
  },
  {
   "cell_type": "code",
   "execution_count": null,
   "id": "052d5530-26b1-4111-808d-d52ebc375b3f",
   "metadata": {},
   "outputs": [],
   "source": []
  },
  {
   "cell_type": "code",
   "execution_count": null,
   "id": "36d283ae-49f5-4292-8558-343236f17257",
   "metadata": {},
   "outputs": [],
   "source": []
  },
  {
   "cell_type": "code",
   "execution_count": null,
   "id": "d91fc012-8762-4748-9399-df4da10b9838",
   "metadata": {},
   "outputs": [],
   "source": []
  },
  {
   "cell_type": "code",
   "execution_count": null,
   "id": "0d6b6fb9-909a-41c1-9cd2-37cc8f2fa27a",
   "metadata": {},
   "outputs": [],
   "source": []
  },
  {
   "cell_type": "code",
   "execution_count": null,
   "id": "7581be13-b5ad-4939-94d9-848125c400de",
   "metadata": {},
   "outputs": [],
   "source": []
  },
  {
   "cell_type": "code",
   "execution_count": null,
   "id": "adde6316-6fbc-4a84-a81a-ff262adedf51",
   "metadata": {},
   "outputs": [],
   "source": []
  },
  {
   "cell_type": "code",
   "execution_count": null,
   "id": "6c9a9985-56e4-4c70-b76d-96aa44a6007e",
   "metadata": {},
   "outputs": [],
   "source": []
  },
  {
   "cell_type": "code",
   "execution_count": null,
   "id": "62086b89-c1f5-4362-b7e4-ed399a907bb3",
   "metadata": {},
   "outputs": [],
   "source": []
  },
  {
   "cell_type": "code",
   "execution_count": null,
   "id": "bc816592-5814-427d-8a60-8f7098accf14",
   "metadata": {},
   "outputs": [],
   "source": []
  },
  {
   "cell_type": "code",
   "execution_count": 52,
   "id": "3996db8d-e685-4b3b-82a9-7fabc282dcae",
   "metadata": {},
   "outputs": [
    {
     "name": "stderr",
     "output_type": "stream",
     "text": [
      "/home/vincentm/.local/lib/python3.6/site-packages/sklearn/impute/_iterative.py:686: ConvergenceWarning: [IterativeImputer] Early stopping criterion not reached.\n",
      "  \" reached.\", ConvergenceWarning)\n"
     ]
    },
    {
     "name": "stdout",
     "output_type": "stream",
     "text": [
      "----- 2.2 seconds -----\n"
     ]
    },
    {
     "name": "stderr",
     "output_type": "stream",
     "text": [
      "/home/vincentm/.local/lib/python3.6/site-packages/sklearn/impute/_iterative.py:686: ConvergenceWarning: [IterativeImputer] Early stopping criterion not reached.\n",
      "  \" reached.\", ConvergenceWarning)\n"
     ]
    },
    {
     "name": "stdout",
     "output_type": "stream",
     "text": [
      "----- 2.1 seconds -----\n"
     ]
    },
    {
     "name": "stderr",
     "output_type": "stream",
     "text": [
      "/home/vincentm/.local/lib/python3.6/site-packages/sklearn/impute/_iterative.py:686: ConvergenceWarning: [IterativeImputer] Early stopping criterion not reached.\n",
      "  \" reached.\", ConvergenceWarning)\n"
     ]
    },
    {
     "name": "stdout",
     "output_type": "stream",
     "text": [
      "----- 18.8 seconds -----\n"
     ]
    },
    {
     "name": "stderr",
     "output_type": "stream",
     "text": [
      "/home/vincentm/.local/lib/python3.6/site-packages/sklearn/impute/_iterative.py:686: ConvergenceWarning: [IterativeImputer] Early stopping criterion not reached.\n",
      "  \" reached.\", ConvergenceWarning)\n"
     ]
    },
    {
     "name": "stdout",
     "output_type": "stream",
     "text": [
      "----- 2.9 seconds -----\n",
      "[1] \".GlobalEnv\"        \"package:stats\"     \"package:graphics\" \n",
      "[4] \"package:grDevices\" \"package:utils\"     \"package:datasets\" \n",
      "[7] \"package:methods\"   \"Autoloads\"         \"package:base\"     \n",
      "[1] \"/opt/R/4.1.2/lib/R/library\"\n",
      "[1] \"/opt/R/4.1.2/lib/R/library\"                      \n",
      "[2] \"/home/vincentm/R/x86_64-pc-linux-gnu-library/4.0\"\n",
      "[3] \"/opt/R/4.0.4/lib/R/library\"                      \n",
      "[1] \"/home/vincentm/MLnotebooks/metabopipeline_notebooks/data/peakTable/test_imputed_peak_tables/subset_R_mice.csv\"\n",
      "[1] \"/home/vincentm/MLnotebooks/metabopipeline_notebooks/data/peakTable/test_imputed_peak_tables/\"\n",
      "[1] \"c(\\\"mean\\\",\\\"sample\\\",\\\"pmm\\\",\\\"cart\\\",\\\"norm\\\",\\\"norm.nob\\\",\\\"norm.predict\\\")\"\n",
      "[1] \"mean\"         \"sample\"       \"pmm\"          \"cart\"         \"norm\"        \n",
      "[6] \"norm.nob\"     \"norm.predict\"\n",
      "Loading required package: mice\n",
      "\n",
      "Attaching package: ‘mice’\n",
      "\n",
      "The following object is masked from ‘package:stats’:\n",
      "\n",
      "    filter\n",
      "\n",
      "The following objects are masked from ‘package:base’:\n",
      "\n",
      "    cbind, rbind\n",
      "\n",
      "Loading required package: sjmisc\n",
      "----------------------------------------------------------------------------------------------------\n",
      "----------------------------------------------- mean -----------------------------------------------\n",
      "...Computing...\n",
      "...............\n",
      "Time difference of 13.58645 secs\n",
      "----------------------------------------------------------------------------------------------------\n",
      "\n",
      "\n",
      "\n",
      "----------------------------------------------------------------------------------------------------\n",
      "---------------------------------------------- sample ----------------------------------------------\n",
      "...Computing...\n",
      "...............\n",
      "Time difference of 13.25922 secs\n",
      "----------------------------------------------------------------------------------------------------\n",
      "\n",
      "\n",
      "\n",
      "----------------------------------------------------------------------------------------------------\n",
      "----------------------------------------------- pmm ------------------------------------------------\n",
      "...Computing...\n",
      "...............\n",
      "Time difference of 17.22649 secs\n",
      "----------------------------------------------------------------------------------------------------\n",
      "\n",
      "\n",
      "\n",
      "----------------------------------------------------------------------------------------------------\n",
      "----------------------------------------------- cart -----------------------------------------------\n",
      "...Computing...\n",
      "...............\n",
      "Time difference of 39.7046 secs\n",
      "----------------------------------------------------------------------------------------------------\n",
      "\n",
      "\n",
      "\n",
      "----------------------------------------------------------------------------------------------------\n",
      "----------------------------------------------- norm -----------------------------------------------\n",
      "...Computing...\n",
      "...............\n",
      "Time difference of 17.50024 secs\n",
      "----------------------------------------------------------------------------------------------------\n",
      "\n",
      "\n",
      "\n",
      "----------------------------------------------------------------------------------------------------\n",
      "--------------------------------------------- norm.nob ---------------------------------------------\n",
      "...Computing...\n",
      "...............\n",
      "Time difference of 16.53156 secs\n",
      "----------------------------------------------------------------------------------------------------\n",
      "\n",
      "\n",
      "\n",
      "----------------------------------------------------------------------------------------------------\n",
      "------------------------------------------- norm.predict -------------------------------------------\n",
      "...Computing...\n",
      "...............\n",
      "Time difference of 17.60705 secs\n",
      "----------------------------------------------------------------------------------------------------\n",
      "\n",
      "\n",
      "\n",
      "Warning messages:\n",
      "1: Number of logged events: 1253 \n",
      "2: Number of logged events: 857 \n",
      "3: Number of logged events: 1398 \n",
      "4: Number of logged events: 1412 \n",
      "5: Number of logged events: 1570 \n"
     ]
    },
    {
     "ename": "AttributeError",
     "evalue": "'AxesSubplot' object has no attribute 'bar_label'",
     "output_type": "error",
     "traceback": [
      "\u001b[0;31m---------------------------------------------------------------------------\u001b[0m",
      "\u001b[0;31mAttributeError\u001b[0m                            Traceback (most recent call last)",
      "\u001b[0;32m<ipython-input-52-47866ff4babe>\u001b[0m in \u001b[0;36m<module>\u001b[0;34m\u001b[0m\n\u001b[0;32m----> 1\u001b[0;31m \u001b[0mmethods_validation\u001b[0m\u001b[0;34m(\u001b[0m\u001b[0;36m1\u001b[0m\u001b[0;34m)\u001b[0m\u001b[0;34m\u001b[0m\u001b[0;34m\u001b[0m\u001b[0m\n\u001b[0m",
      "\u001b[0;32m<ipython-input-50-342fe87359ac>\u001b[0m in \u001b[0;36mmethods_validation\u001b[0;34m(iterations)\u001b[0m\n\u001b[1;32m    199\u001b[0m     \u001b[0max\u001b[0m\u001b[0;34m.\u001b[0m\u001b[0mset_title\u001b[0m\u001b[0;34m(\u001b[0m\u001b[0;34m'Methods evaluation'\u001b[0m\u001b[0;34m)\u001b[0m\u001b[0;34m\u001b[0m\u001b[0;34m\u001b[0m\u001b[0m\n\u001b[1;32m    200\u001b[0m \u001b[0;34m\u001b[0m\u001b[0m\n\u001b[0;32m--> 201\u001b[0;31m     \u001b[0max\u001b[0m\u001b[0;34m.\u001b[0m\u001b[0mbar_label\u001b[0m\u001b[0;34m(\u001b[0m\u001b[0mbars\u001b[0m\u001b[0;34m,\u001b[0m \u001b[0mfmt\u001b[0m\u001b[0;34m=\u001b[0m\u001b[0;34m'%.3f'\u001b[0m\u001b[0;34m)\u001b[0m\u001b[0;34m\u001b[0m\u001b[0;34m\u001b[0m\u001b[0m\n\u001b[0m\u001b[1;32m    202\u001b[0m \u001b[0;34m\u001b[0m\u001b[0m\n\u001b[1;32m    203\u001b[0m     \u001b[0;32mreturn\u001b[0m \u001b[0;34m(\u001b[0m\u001b[0mplt\u001b[0m\u001b[0;34m.\u001b[0m\u001b[0mshow\u001b[0m\u001b[0;34m(\u001b[0m\u001b[0;34m)\u001b[0m\u001b[0;34m)\u001b[0m\u001b[0;34m\u001b[0m\u001b[0;34m\u001b[0m\u001b[0m\n",
      "\u001b[0;31mAttributeError\u001b[0m: 'AxesSubplot' object has no attribute 'bar_label'"
     ]
    },
    {
     "data": {
      "image/png": "[encoded data removed]",
      "text/plain": [
       "<Figure size 1728x720 with 1 Axes>"
      ]
     },
     "metadata": {
      "needs_background": "light"
     },
     "output_type": "display_data"
    },
    {
     "data": {
      "text/plain": [
       "<Figure size 1728x720 with 0 Axes>"
      ]
     },
     "metadata": {},
     "output_type": "display_data"
    }
   ],
   "source": [
    "methods_validation(1)"
   ]
  },
  {
   "cell_type": "code",
   "execution_count": null,
   "id": "34acf5be-ec53-40f0-b004-1636356ff9e4",
   "metadata": {},
   "outputs": [],
   "source": []
  },
  {
   "cell_type": "code",
   "execution_count": 39,
   "id": "b51b2f30-2ad7-40ca-9238-8f160f84be2e",
   "metadata": {},
   "outputs": [
    {
     "name": "stderr",
     "output_type": "stream",
     "text": [
      "/home/vincentm/.local/lib/python3.6/site-packages/sklearn/impute/_iterative.py:686: ConvergenceWarning: [IterativeImputer] Early stopping criterion not reached.\n",
      "  \" reached.\", ConvergenceWarning)\n"
     ]
    },
    {
     "name": "stdout",
     "output_type": "stream",
     "text": [
      "----- 2.1 seconds -----\n"
     ]
    },
    {
     "name": "stderr",
     "output_type": "stream",
     "text": [
      "/home/vincentm/.local/lib/python3.6/site-packages/sklearn/impute/_iterative.py:686: ConvergenceWarning: [IterativeImputer] Early stopping criterion not reached.\n",
      "  \" reached.\", ConvergenceWarning)\n"
     ]
    },
    {
     "name": "stdout",
     "output_type": "stream",
     "text": [
      "----- 2.1 seconds -----\n"
     ]
    },
    {
     "name": "stderr",
     "output_type": "stream",
     "text": [
      "/home/vincentm/.local/lib/python3.6/site-packages/sklearn/impute/_iterative.py:686: ConvergenceWarning: [IterativeImputer] Early stopping criterion not reached.\n",
      "  \" reached.\", ConvergenceWarning)\n"
     ]
    },
    {
     "name": "stdout",
     "output_type": "stream",
     "text": [
      "----- 18.8 seconds -----\n"
     ]
    },
    {
     "name": "stderr",
     "output_type": "stream",
     "text": [
      "/home/vincentm/.local/lib/python3.6/site-packages/sklearn/impute/_iterative.py:686: ConvergenceWarning: [IterativeImputer] Early stopping criterion not reached.\n",
      "  \" reached.\", ConvergenceWarning)\n"
     ]
    },
    {
     "name": "stdout",
     "output_type": "stream",
     "text": [
      "----- 2.7 seconds -----\n",
      "[1] \".GlobalEnv\"        \"package:stats\"     \"package:graphics\" \n",
      "[4] \"package:grDevices\" \"package:utils\"     \"package:datasets\" \n",
      "[7] \"package:methods\"   \"Autoloads\"         \"package:base\"     \n",
      "[1] \"/opt/R/4.1.2/lib/R/library\"\n",
      "[1] \"/opt/R/4.1.2/lib/R/library\"                      \n",
      "[2] \"/home/vincentm/R/x86_64-pc-linux-gnu-library/4.0\"\n",
      "[3] \"/opt/R/4.0.4/lib/R/library\"                      \n",
      "[1] \"/home/vincentm/MLnotebooks/metabopipeline_notebooks/data/peakTable/test_imputed_peak_tables/subset_R_mice.csv\"\n",
      "[1] \"/home/vincentm/MLnotebooks/metabopipeline_notebooks/data/peakTable/test_imputed_peak_tables/\"\n",
      "[1] \"c(\\\"mean\\\",\\\"sample\\\",\\\"pmm\\\",\\\"cart\\\",\\\"norm\\\",\\\"norm.nob\\\",\\\"norm.predict\\\")\"\n",
      "[1] \"mean\"         \"sample\"       \"pmm\"          \"cart\"         \"norm\"        \n",
      "[6] \"norm.nob\"     \"norm.predict\"\n",
      "Loading required package: mice\n",
      "\n",
      "Attaching package: ‘mice’\n",
      "\n",
      "The following object is masked from ‘package:stats’:\n",
      "\n",
      "    filter\n",
      "\n",
      "The following objects are masked from ‘package:base’:\n",
      "\n",
      "    cbind, rbind\n",
      "\n",
      "Loading required package: sjmisc\n",
      "----------------------------------------------------------------------------------------------------\n",
      "----------------------------------------------- mean -----------------------------------------------\n",
      "...Computing...\n",
      "...............\n",
      "13 min 48 sec\n",
      "----------------------------------------------------------------------------------------------------\n",
      "\n",
      "\n",
      "\n",
      "----------------------------------------------------------------------------------------------------\n",
      "---------------------------------------------- sample ----------------------------------------------\n",
      "...Computing...\n",
      "...............\n",
      "13 min 27 sec\n",
      "----------------------------------------------------------------------------------------------------\n",
      "\n",
      "\n",
      "\n",
      "----------------------------------------------------------------------------------------------------\n",
      "----------------------------------------------- pmm ------------------------------------------------\n",
      "...Computing...\n",
      "...............\n",
      "35 min 34 sec\n",
      "----------------------------------------------------------------------------------------------------\n",
      "\n",
      "\n",
      "\n",
      "----------------------------------------------------------------------------------------------------\n",
      "----------------------------------------------- cart -----------------------------------------------\n",
      "...Computing...\n",
      "...............\n",
      "39 min 51 sec\n",
      "----------------------------------------------------------------------------------------------------\n",
      "\n",
      "\n",
      "\n",
      "----------------------------------------------------------------------------------------------------\n",
      "----------------------------------------------- norm -----------------------------------------------\n",
      "...Computing...\n",
      "...............\n",
      "35 min 16 sec\n",
      "----------------------------------------------------------------------------------------------------\n",
      "\n",
      "\n",
      "\n",
      "----------------------------------------------------------------------------------------------------\n",
      "--------------------------------------------- norm.nob ---------------------------------------------\n",
      "...Computing...\n",
      "...............\n",
      "35 min 2 sec\n",
      "----------------------------------------------------------------------------------------------------\n",
      "\n",
      "\n",
      "\n",
      "----------------------------------------------------------------------------------------------------\n",
      "------------------------------------------- norm.predict -------------------------------------------\n",
      "...Computing...\n",
      "...............\n",
      "37 min 25 sec\n",
      "----------------------------------------------------------------------------------------------------\n",
      "\n",
      "\n",
      "\n",
      "Warning messages:\n",
      "1: Number of logged events: 1236 \n",
      "2: Number of logged events: 766 \n",
      "3: Number of logged events: 1394 \n",
      "4: Number of logged events: 1409 \n",
      "5: Number of logged events: 1607 \n"
     ]
    },
    {
     "name": "stderr",
     "output_type": "stream",
     "text": [
      "/home/vincentm/.local/lib/python3.6/site-packages/sklearn/impute/_iterative.py:686: ConvergenceWarning: [IterativeImputer] Early stopping criterion not reached.\n",
      "  \" reached.\", ConvergenceWarning)\n"
     ]
    },
    {
     "name": "stdout",
     "output_type": "stream",
     "text": [
      "----- 2.1 seconds -----\n"
     ]
    },
    {
     "name": "stderr",
     "output_type": "stream",
     "text": [
      "/home/vincentm/.local/lib/python3.6/site-packages/sklearn/impute/_iterative.py:686: ConvergenceWarning: [IterativeImputer] Early stopping criterion not reached.\n",
      "  \" reached.\", ConvergenceWarning)\n"
     ]
    },
    {
     "name": "stdout",
     "output_type": "stream",
     "text": [
      "----- 2.0 seconds -----\n"
     ]
    },
    {
     "name": "stderr",
     "output_type": "stream",
     "text": [
      "/home/vincentm/.local/lib/python3.6/site-packages/sklearn/impute/_iterative.py:686: ConvergenceWarning: [IterativeImputer] Early stopping criterion not reached.\n",
      "  \" reached.\", ConvergenceWarning)\n"
     ]
    },
    {
     "name": "stdout",
     "output_type": "stream",
     "text": [
      "----- 18.7 seconds -----\n"
     ]
    },
    {
     "name": "stderr",
     "output_type": "stream",
     "text": [
      "/home/vincentm/.local/lib/python3.6/site-packages/sklearn/impute/_iterative.py:686: ConvergenceWarning: [IterativeImputer] Early stopping criterion not reached.\n",
      "  \" reached.\", ConvergenceWarning)\n"
     ]
    },
    {
     "name": "stdout",
     "output_type": "stream",
     "text": [
      "----- 2.7 seconds -----\n",
      "[1] \".GlobalEnv\"        \"package:stats\"     \"package:graphics\" \n",
      "[4] \"package:grDevices\" \"package:utils\"     \"package:datasets\" \n",
      "[7] \"package:methods\"   \"Autoloads\"         \"package:base\"     \n",
      "[1] \"/opt/R/4.1.2/lib/R/library\"\n",
      "[1] \"/opt/R/4.1.2/lib/R/library\"                      \n",
      "[2] \"/home/vincentm/R/x86_64-pc-linux-gnu-library/4.0\"\n",
      "[3] \"/opt/R/4.0.4/lib/R/library\"                      \n",
      "[1] \"/home/vincentm/MLnotebooks/metabopipeline_notebooks/data/peakTable/test_imputed_peak_tables/subset_R_mice.csv\"\n",
      "[1] \"/home/vincentm/MLnotebooks/metabopipeline_notebooks/data/peakTable/test_imputed_peak_tables/\"\n",
      "[1] \"c(\\\"mean\\\",\\\"sample\\\",\\\"pmm\\\",\\\"cart\\\",\\\"norm\\\",\\\"norm.nob\\\",\\\"norm.predict\\\")\"\n",
      "[1] \"mean\"         \"sample\"       \"pmm\"          \"cart\"         \"norm\"        \n",
      "[6] \"norm.nob\"     \"norm.predict\"\n",
      "Loading required package: mice\n",
      "\n",
      "Attaching package: ‘mice’\n",
      "\n",
      "The following object is masked from ‘package:stats’:\n",
      "\n",
      "    filter\n",
      "\n",
      "The following objects are masked from ‘package:base’:\n",
      "\n",
      "    cbind, rbind\n",
      "\n",
      "Loading required package: sjmisc\n",
      "----------------------------------------------------------------------------------------------------\n",
      "----------------------------------------------- mean -----------------------------------------------\n",
      "...Computing...\n",
      "...............\n",
      "13 min 43 sec\n",
      "----------------------------------------------------------------------------------------------------\n",
      "\n",
      "\n",
      "\n",
      "----------------------------------------------------------------------------------------------------\n",
      "---------------------------------------------- sample ----------------------------------------------\n",
      "...Computing...\n",
      "...............\n",
      "13 min 20 sec\n",
      "----------------------------------------------------------------------------------------------------\n",
      "\n",
      "\n",
      "\n",
      "----------------------------------------------------------------------------------------------------\n",
      "----------------------------------------------- pmm ------------------------------------------------\n",
      "...Computing...\n",
      "...............\n",
      "35 min 20 sec\n",
      "----------------------------------------------------------------------------------------------------\n",
      "\n",
      "\n",
      "\n",
      "----------------------------------------------------------------------------------------------------\n",
      "----------------------------------------------- cart -----------------------------------------------\n",
      "...Computing...\n",
      "...............\n",
      "39 min 22 sec\n",
      "----------------------------------------------------------------------------------------------------\n",
      "\n",
      "\n",
      "\n",
      "----------------------------------------------------------------------------------------------------\n",
      "----------------------------------------------- norm -----------------------------------------------\n",
      "...Computing...\n",
      "...............\n",
      "34 min 57 sec\n",
      "----------------------------------------------------------------------------------------------------\n",
      "\n",
      "\n",
      "\n",
      "----------------------------------------------------------------------------------------------------\n",
      "--------------------------------------------- norm.nob ---------------------------------------------\n",
      "...Computing...\n",
      "...............\n",
      "34 min 40 sec\n",
      "----------------------------------------------------------------------------------------------------\n",
      "\n",
      "\n",
      "\n",
      "----------------------------------------------------------------------------------------------------\n",
      "------------------------------------------- norm.predict -------------------------------------------\n",
      "...Computing...\n",
      "...............\n",
      "36 min 0 sec\n",
      "----------------------------------------------------------------------------------------------------\n",
      "\n",
      "\n",
      "\n",
      "Warning messages:\n",
      "1: Number of logged events: 1338 \n",
      "2: Number of logged events: 866 \n",
      "3: Number of logged events: 1423 \n",
      "4: Number of logged events: 1437 \n",
      "5: Number of logged events: 1602 \n"
     ]
    },
    {
     "name": "stderr",
     "output_type": "stream",
     "text": [
      "/home/vincentm/.local/lib/python3.6/site-packages/sklearn/impute/_iterative.py:686: ConvergenceWarning: [IterativeImputer] Early stopping criterion not reached.\n",
      "  \" reached.\", ConvergenceWarning)\n"
     ]
    },
    {
     "name": "stdout",
     "output_type": "stream",
     "text": [
      "----- 2.1 seconds -----\n"
     ]
    },
    {
     "name": "stderr",
     "output_type": "stream",
     "text": [
      "/home/vincentm/.local/lib/python3.6/site-packages/sklearn/impute/_iterative.py:686: ConvergenceWarning: [IterativeImputer] Early stopping criterion not reached.\n",
      "  \" reached.\", ConvergenceWarning)\n"
     ]
    },
    {
     "name": "stdout",
     "output_type": "stream",
     "text": [
      "----- 2.0 seconds -----\n"
     ]
    },
    {
     "name": "stderr",
     "output_type": "stream",
     "text": [
      "/home/vincentm/.local/lib/python3.6/site-packages/sklearn/impute/_iterative.py:686: ConvergenceWarning: [IterativeImputer] Early stopping criterion not reached.\n",
      "  \" reached.\", ConvergenceWarning)\n"
     ]
    },
    {
     "name": "stdout",
     "output_type": "stream",
     "text": [
      "----- 18.7 seconds -----\n"
     ]
    },
    {
     "name": "stderr",
     "output_type": "stream",
     "text": [
      "/home/vincentm/.local/lib/python3.6/site-packages/sklearn/impute/_iterative.py:686: ConvergenceWarning: [IterativeImputer] Early stopping criterion not reached.\n",
      "  \" reached.\", ConvergenceWarning)\n"
     ]
    },
    {
     "name": "stdout",
     "output_type": "stream",
     "text": [
      "----- 2.8 seconds -----\n",
      "[1] \".GlobalEnv\"        \"package:stats\"     \"package:graphics\" \n",
      "[4] \"package:grDevices\" \"package:utils\"     \"package:datasets\" \n",
      "[7] \"package:methods\"   \"Autoloads\"         \"package:base\"     \n",
      "[1] \"/opt/R/4.1.2/lib/R/library\"\n",
      "[1] \"/opt/R/4.1.2/lib/R/library\"                      \n",
      "[2] \"/home/vincentm/R/x86_64-pc-linux-gnu-library/4.0\"\n",
      "[3] \"/opt/R/4.0.4/lib/R/library\"                      \n",
      "[1] \"/home/vincentm/MLnotebooks/metabopipeline_notebooks/data/peakTable/test_imputed_peak_tables/subset_R_mice.csv\"\n",
      "[1] \"/home/vincentm/MLnotebooks/metabopipeline_notebooks/data/peakTable/test_imputed_peak_tables/\"\n",
      "[1] \"c(\\\"mean\\\",\\\"sample\\\",\\\"pmm\\\",\\\"cart\\\",\\\"norm\\\",\\\"norm.nob\\\",\\\"norm.predict\\\")\"\n",
      "[1] \"mean\"         \"sample\"       \"pmm\"          \"cart\"         \"norm\"        \n",
      "[6] \"norm.nob\"     \"norm.predict\"\n",
      "Loading required package: mice\n",
      "\n",
      "Attaching package: ‘mice’\n",
      "\n",
      "The following object is masked from ‘package:stats’:\n",
      "\n",
      "    filter\n",
      "\n",
      "The following objects are masked from ‘package:base’:\n",
      "\n",
      "    cbind, rbind\n",
      "\n",
      "Loading required package: sjmisc\n",
      "----------------------------------------------------------------------------------------------------\n",
      "----------------------------------------------- mean -----------------------------------------------\n",
      "...Computing...\n",
      "...............\n",
      "13 min 46 sec\n",
      "----------------------------------------------------------------------------------------------------\n",
      "\n",
      "\n",
      "\n",
      "----------------------------------------------------------------------------------------------------\n",
      "---------------------------------------------- sample ----------------------------------------------\n",
      "...Computing...\n",
      "...............\n",
      "13 min 32 sec\n",
      "----------------------------------------------------------------------------------------------------\n",
      "\n",
      "\n",
      "\n",
      "----------------------------------------------------------------------------------------------------\n",
      "----------------------------------------------- pmm ------------------------------------------------\n",
      "...Computing...\n",
      "...............\n",
      "17 min 40 sec\n",
      "----------------------------------------------------------------------------------------------------\n",
      "\n",
      "\n",
      "\n",
      "----------------------------------------------------------------------------------------------------\n",
      "----------------------------------------------- cart -----------------------------------------------\n",
      "...Computing...\n",
      "...............\n",
      "40 min 25 sec\n",
      "----------------------------------------------------------------------------------------------------\n",
      "\n",
      "\n",
      "\n",
      "----------------------------------------------------------------------------------------------------\n",
      "----------------------------------------------- norm -----------------------------------------------\n",
      "...Computing...\n",
      "...............\n",
      "17 min 15 sec\n",
      "----------------------------------------------------------------------------------------------------\n",
      "\n",
      "\n",
      "\n",
      "----------------------------------------------------------------------------------------------------\n",
      "--------------------------------------------- norm.nob ---------------------------------------------\n",
      "...Computing...\n",
      "...............\n",
      "17 min 58 sec\n",
      "----------------------------------------------------------------------------------------------------\n",
      "\n",
      "\n",
      "\n",
      "----------------------------------------------------------------------------------------------------\n",
      "------------------------------------------- norm.predict -------------------------------------------\n",
      "...Computing...\n",
      "...............\n",
      "17 min 33 sec\n",
      "----------------------------------------------------------------------------------------------------\n",
      "\n",
      "\n",
      "\n",
      "Warning messages:\n",
      "1: Number of logged events: 1036 \n",
      "2: Number of logged events: 849 \n",
      "3: Number of logged events: 1409 \n",
      "4: Number of logged events: 1429 \n",
      "5: Number of logged events: 1614 \n"
     ]
    },
    {
     "name": "stderr",
     "output_type": "stream",
     "text": [
      "/home/vincentm/.local/lib/python3.6/site-packages/sklearn/impute/_iterative.py:686: ConvergenceWarning: [IterativeImputer] Early stopping criterion not reached.\n",
      "  \" reached.\", ConvergenceWarning)\n"
     ]
    },
    {
     "name": "stdout",
     "output_type": "stream",
     "text": [
      "----- 2.2 seconds -----\n"
     ]
    },
    {
     "name": "stderr",
     "output_type": "stream",
     "text": [
      "/home/vincentm/.local/lib/python3.6/site-packages/sklearn/impute/_iterative.py:686: ConvergenceWarning: [IterativeImputer] Early stopping criterion not reached.\n",
      "  \" reached.\", ConvergenceWarning)\n"
     ]
    },
    {
     "name": "stdout",
     "output_type": "stream",
     "text": [
      "----- 2.0 seconds -----\n"
     ]
    },
    {
     "name": "stderr",
     "output_type": "stream",
     "text": [
      "/home/vincentm/.local/lib/python3.6/site-packages/sklearn/impute/_iterative.py:686: ConvergenceWarning: [IterativeImputer] Early stopping criterion not reached.\n",
      "  \" reached.\", ConvergenceWarning)\n"
     ]
    },
    {
     "name": "stdout",
     "output_type": "stream",
     "text": [
      "----- 18.7 seconds -----\n"
     ]
    },
    {
     "name": "stderr",
     "output_type": "stream",
     "text": [
      "/home/vincentm/.local/lib/python3.6/site-packages/sklearn/impute/_iterative.py:686: ConvergenceWarning: [IterativeImputer] Early stopping criterion not reached.\n",
      "  \" reached.\", ConvergenceWarning)\n"
     ]
    },
    {
     "name": "stdout",
     "output_type": "stream",
     "text": [
      "----- 2.8 seconds -----\n",
      "[1] \".GlobalEnv\"        \"package:stats\"     \"package:graphics\" \n",
      "[4] \"package:grDevices\" \"package:utils\"     \"package:datasets\" \n",
      "[7] \"package:methods\"   \"Autoloads\"         \"package:base\"     \n",
      "[1] \"/opt/R/4.1.2/lib/R/library\"\n",
      "[1] \"/opt/R/4.1.2/lib/R/library\"                      \n",
      "[2] \"/home/vincentm/R/x86_64-pc-linux-gnu-library/4.0\"\n",
      "[3] \"/opt/R/4.0.4/lib/R/library\"                      \n",
      "[1] \"/home/vincentm/MLnotebooks/metabopipeline_notebooks/data/peakTable/test_imputed_peak_tables/subset_R_mice.csv\"\n",
      "[1] \"/home/vincentm/MLnotebooks/metabopipeline_notebooks/data/peakTable/test_imputed_peak_tables/\"\n",
      "[1] \"c(\\\"mean\\\",\\\"sample\\\",\\\"pmm\\\",\\\"cart\\\",\\\"norm\\\",\\\"norm.nob\\\",\\\"norm.predict\\\")\"\n",
      "[1] \"mean\"         \"sample\"       \"pmm\"          \"cart\"         \"norm\"        \n",
      "[6] \"norm.nob\"     \"norm.predict\"\n",
      "Loading required package: mice\n",
      "\n",
      "Attaching package: ‘mice’\n",
      "\n",
      "The following object is masked from ‘package:stats’:\n",
      "\n",
      "    filter\n",
      "\n",
      "The following objects are masked from ‘package:base’:\n",
      "\n",
      "    cbind, rbind\n",
      "\n",
      "Loading required package: sjmisc\n",
      "Learn more about sjmisc with 'browseVignettes(\"sjmisc\")'.\n",
      "----------------------------------------------------------------------------------------------------\n",
      "----------------------------------------------- mean -----------------------------------------------\n",
      "...Computing...\n",
      "...............\n",
      "13 min 48 sec\n",
      "----------------------------------------------------------------------------------------------------\n",
      "\n",
      "\n",
      "\n",
      "----------------------------------------------------------------------------------------------------\n",
      "---------------------------------------------- sample ----------------------------------------------\n",
      "...Computing...\n",
      "...............\n",
      "13 min 29 sec\n",
      "----------------------------------------------------------------------------------------------------\n",
      "\n",
      "\n",
      "\n",
      "----------------------------------------------------------------------------------------------------\n",
      "----------------------------------------------- pmm ------------------------------------------------\n",
      "...Computing...\n",
      "...............\n",
      "35 min 14 sec\n",
      "----------------------------------------------------------------------------------------------------\n",
      "\n",
      "\n",
      "\n",
      "----------------------------------------------------------------------------------------------------\n",
      "----------------------------------------------- cart -----------------------------------------------\n",
      "...Computing...\n",
      "...............\n",
      "39 min 14 sec\n",
      "----------------------------------------------------------------------------------------------------\n",
      "\n",
      "\n",
      "\n",
      "----------------------------------------------------------------------------------------------------\n",
      "----------------------------------------------- norm -----------------------------------------------\n",
      "...Computing...\n",
      "...............\n",
      "34 min 40 sec\n",
      "----------------------------------------------------------------------------------------------------\n",
      "\n",
      "\n",
      "\n",
      "----------------------------------------------------------------------------------------------------\n",
      "--------------------------------------------- norm.nob ---------------------------------------------\n",
      "...Computing...\n",
      "...............\n",
      "34 min 31 sec\n",
      "----------------------------------------------------------------------------------------------------\n",
      "\n",
      "\n",
      "\n",
      "----------------------------------------------------------------------------------------------------\n",
      "------------------------------------------- norm.predict -------------------------------------------\n",
      "...Computing...\n",
      "...............\n",
      "36 min 23 sec\n",
      "----------------------------------------------------------------------------------------------------\n",
      "\n",
      "\n",
      "\n",
      "Warning messages:\n",
      "1: Number of logged events: 1184 \n",
      "2: Number of logged events: 741 \n",
      "3: Number of logged events: 1372 \n",
      "4: Number of logged events: 1409 \n",
      "5: Number of logged events: 1592 \n"
     ]
    },
    {
     "name": "stderr",
     "output_type": "stream",
     "text": [
      "/home/vincentm/.local/lib/python3.6/site-packages/sklearn/impute/_iterative.py:686: ConvergenceWarning: [IterativeImputer] Early stopping criterion not reached.\n",
      "  \" reached.\", ConvergenceWarning)\n"
     ]
    },
    {
     "name": "stdout",
     "output_type": "stream",
     "text": [
      "----- 2.1 seconds -----\n"
     ]
    },
    {
     "name": "stderr",
     "output_type": "stream",
     "text": [
      "/home/vincentm/.local/lib/python3.6/site-packages/sklearn/impute/_iterative.py:686: ConvergenceWarning: [IterativeImputer] Early stopping criterion not reached.\n",
      "  \" reached.\", ConvergenceWarning)\n"
     ]
    },
    {
     "name": "stdout",
     "output_type": "stream",
     "text": [
      "----- 2.0 seconds -----\n"
     ]
    },
    {
     "name": "stderr",
     "output_type": "stream",
     "text": [
      "/home/vincentm/.local/lib/python3.6/site-packages/sklearn/impute/_iterative.py:686: ConvergenceWarning: [IterativeImputer] Early stopping criterion not reached.\n",
      "  \" reached.\", ConvergenceWarning)\n"
     ]
    },
    {
     "name": "stdout",
     "output_type": "stream",
     "text": [
      "----- 18.5 seconds -----\n"
     ]
    },
    {
     "name": "stderr",
     "output_type": "stream",
     "text": [
      "/home/vincentm/.local/lib/python3.6/site-packages/sklearn/impute/_iterative.py:686: ConvergenceWarning: [IterativeImputer] Early stopping criterion not reached.\n",
      "  \" reached.\", ConvergenceWarning)\n"
     ]
    },
    {
     "name": "stdout",
     "output_type": "stream",
     "text": [
      "----- 2.9 seconds -----\n",
      "[1] \".GlobalEnv\"        \"package:stats\"     \"package:graphics\" \n",
      "[4] \"package:grDevices\" \"package:utils\"     \"package:datasets\" \n",
      "[7] \"package:methods\"   \"Autoloads\"         \"package:base\"     \n",
      "[1] \"/opt/R/4.1.2/lib/R/library\"\n",
      "[1] \"/opt/R/4.1.2/lib/R/library\"                      \n",
      "[2] \"/home/vincentm/R/x86_64-pc-linux-gnu-library/4.0\"\n",
      "[3] \"/opt/R/4.0.4/lib/R/library\"                      \n",
      "[1] \"/home/vincentm/MLnotebooks/metabopipeline_notebooks/data/peakTable/test_imputed_peak_tables/subset_R_mice.csv\"\n",
      "[1] \"/home/vincentm/MLnotebooks/metabopipeline_notebooks/data/peakTable/test_imputed_peak_tables/\"\n",
      "[1] \"c(\\\"mean\\\",\\\"sample\\\",\\\"pmm\\\",\\\"cart\\\",\\\"norm\\\",\\\"norm.nob\\\",\\\"norm.predict\\\")\"\n",
      "[1] \"mean\"         \"sample\"       \"pmm\"          \"cart\"         \"norm\"        \n",
      "[6] \"norm.nob\"     \"norm.predict\"\n",
      "Loading required package: mice\n",
      "\n",
      "Attaching package: ‘mice’\n",
      "\n",
      "The following object is masked from ‘package:stats’:\n",
      "\n",
      "    filter\n",
      "\n",
      "The following objects are masked from ‘package:base’:\n",
      "\n",
      "    cbind, rbind\n",
      "\n",
      "Loading required package: sjmisc\n",
      "Install package \"strengejacke\" from GitHub (`devtools::install_github(\"strengejacke/strengejacke\")`) to load all sj-packages at once!\n",
      "----------------------------------------------------------------------------------------------------\n",
      "----------------------------------------------- mean -----------------------------------------------\n",
      "...Computing...\n",
      "...............\n",
      "13 min 54 sec\n",
      "----------------------------------------------------------------------------------------------------\n",
      "\n",
      "\n",
      "\n",
      "----------------------------------------------------------------------------------------------------\n",
      "---------------------------------------------- sample ----------------------------------------------\n",
      "...Computing...\n",
      "...............\n",
      "13 min 35 sec\n",
      "----------------------------------------------------------------------------------------------------\n",
      "\n",
      "\n",
      "\n",
      "----------------------------------------------------------------------------------------------------\n",
      "----------------------------------------------- pmm ------------------------------------------------\n",
      "...Computing...\n",
      "...............\n",
      "36 min 10 sec\n",
      "----------------------------------------------------------------------------------------------------\n",
      "\n",
      "\n",
      "\n",
      "----------------------------------------------------------------------------------------------------\n",
      "----------------------------------------------- cart -----------------------------------------------\n",
      "...Computing...\n",
      "...............\n",
      "39 min 45 sec\n",
      "----------------------------------------------------------------------------------------------------\n",
      "\n",
      "\n",
      "\n",
      "----------------------------------------------------------------------------------------------------\n",
      "----------------------------------------------- norm -----------------------------------------------\n",
      "...Computing...\n",
      "...............\n",
      "35 min 42 sec\n",
      "----------------------------------------------------------------------------------------------------\n",
      "\n",
      "\n",
      "\n",
      "----------------------------------------------------------------------------------------------------\n",
      "--------------------------------------------- norm.nob ---------------------------------------------\n",
      "...Computing...\n",
      "...............\n",
      "35 min 30 sec\n",
      "----------------------------------------------------------------------------------------------------\n",
      "\n",
      "\n",
      "\n",
      "----------------------------------------------------------------------------------------------------\n",
      "------------------------------------------- norm.predict -------------------------------------------\n",
      "...Computing...\n",
      "...............\n",
      "37 min 9 sec\n",
      "----------------------------------------------------------------------------------------------------\n",
      "\n",
      "\n",
      "\n",
      "Warning messages:\n",
      "1: Number of logged events: 1267 \n",
      "2: Number of logged events: 810 \n",
      "3: Number of logged events: 1422 \n",
      "4: Number of logged events: 1446 \n",
      "5: Number of logged events: 1606 \n",
      "Error: unexpected '}' in \"}\"\n",
      "Execution halted\n"
     ]
    },
    {
     "ename": "TypeError",
     "evalue": "set_ticks() got an unexpected keyword argument 'labels'",
     "output_type": "error",
     "traceback": [
      "\u001b[0;31m---------------------------------------------------------------------------\u001b[0m",
      "\u001b[0;31mTypeError\u001b[0m                                 Traceback (most recent call last)",
      "\u001b[0;32m<ipython-input-39-bf9e399e0102>\u001b[0m in \u001b[0;36m<module>\u001b[0;34m\u001b[0m\n\u001b[0;32m----> 1\u001b[0;31m \u001b[0mmethods_validation\u001b[0m\u001b[0;34m(\u001b[0m\u001b[0;36m5\u001b[0m\u001b[0;34m)\u001b[0m\u001b[0;34m\u001b[0m\u001b[0;34m\u001b[0m\u001b[0m\n\u001b[0m",
      "\u001b[0;32m<ipython-input-38-aeee23c21c6d>\u001b[0m in \u001b[0;36mmethods_validation\u001b[0;34m(iterations)\u001b[0m\n\u001b[1;32m    194\u001b[0m     \u001b[0mplt\u001b[0m\u001b[0;34m.\u001b[0m\u001b[0mfigure\u001b[0m\u001b[0;34m(\u001b[0m\u001b[0mfigsize\u001b[0m\u001b[0;34m=\u001b[0m\u001b[0;34m(\u001b[0m\u001b[0;36m24\u001b[0m\u001b[0;34m,\u001b[0m\u001b[0;36m10\u001b[0m\u001b[0;34m)\u001b[0m\u001b[0;34m)\u001b[0m\u001b[0;34m\u001b[0m\u001b[0;34m\u001b[0m\u001b[0m\n\u001b[1;32m    195\u001b[0m     \u001b[0mbars\u001b[0m \u001b[0;34m=\u001b[0m \u001b[0max\u001b[0m\u001b[0;34m.\u001b[0m\u001b[0mbar\u001b[0m\u001b[0;34m(\u001b[0m\u001b[0mind\u001b[0m\u001b[0;34m,\u001b[0m \u001b[0mdata\u001b[0m\u001b[0;34m,\u001b[0m \u001b[0malign\u001b[0m\u001b[0;34m=\u001b[0m\u001b[0;34m'center'\u001b[0m\u001b[0;34m)\u001b[0m\u001b[0;34m\u001b[0m\u001b[0;34m\u001b[0m\u001b[0m\n\u001b[0;32m--> 196\u001b[0;31m     \u001b[0max\u001b[0m\u001b[0;34m.\u001b[0m\u001b[0mset_xticks\u001b[0m\u001b[0;34m(\u001b[0m\u001b[0mind\u001b[0m\u001b[0;34m,\u001b[0m \u001b[0mlabels\u001b[0m\u001b[0;34m=\u001b[0m\u001b[0mmethods\u001b[0m\u001b[0;34m,\u001b[0m \u001b[0mrotation\u001b[0m \u001b[0;34m=\u001b[0m \u001b[0;34m'vertical'\u001b[0m\u001b[0;34m)\u001b[0m\u001b[0;34m\u001b[0m\u001b[0;34m\u001b[0m\u001b[0m\n\u001b[0m\u001b[1;32m    197\u001b[0m     \u001b[0max\u001b[0m\u001b[0;34m.\u001b[0m\u001b[0mset_ylabel\u001b[0m\u001b[0;34m(\u001b[0m\u001b[0;34m'RMSE'\u001b[0m\u001b[0;34m)\u001b[0m\u001b[0;34m\u001b[0m\u001b[0;34m\u001b[0m\u001b[0m\n\u001b[1;32m    198\u001b[0m     \u001b[0max\u001b[0m\u001b[0;34m.\u001b[0m\u001b[0mset_title\u001b[0m\u001b[0;34m(\u001b[0m\u001b[0;34m'Methods evaluation'\u001b[0m\u001b[0;34m)\u001b[0m\u001b[0;34m\u001b[0m\u001b[0;34m\u001b[0m\u001b[0m\n",
      "\u001b[0;32m~/.local/lib/python3.6/site-packages/matplotlib/axes/_base.py\u001b[0m in \u001b[0;36mwrapper\u001b[0;34m(self, *args, **kwargs)\u001b[0m\n\u001b[1;32m     61\u001b[0m \u001b[0;34m\u001b[0m\u001b[0m\n\u001b[1;32m     62\u001b[0m         \u001b[0;32mdef\u001b[0m \u001b[0mwrapper\u001b[0m\u001b[0;34m(\u001b[0m\u001b[0mself\u001b[0m\u001b[0;34m,\u001b[0m \u001b[0;34m*\u001b[0m\u001b[0margs\u001b[0m\u001b[0;34m,\u001b[0m \u001b[0;34m**\u001b[0m\u001b[0mkwargs\u001b[0m\u001b[0;34m)\u001b[0m\u001b[0;34m:\u001b[0m\u001b[0;34m\u001b[0m\u001b[0;34m\u001b[0m\u001b[0m\n\u001b[0;32m---> 63\u001b[0;31m             \u001b[0;32mreturn\u001b[0m \u001b[0mget_method\u001b[0m\u001b[0;34m(\u001b[0m\u001b[0mself\u001b[0m\u001b[0;34m)\u001b[0m\u001b[0;34m(\u001b[0m\u001b[0;34m*\u001b[0m\u001b[0margs\u001b[0m\u001b[0;34m,\u001b[0m \u001b[0;34m**\u001b[0m\u001b[0mkwargs\u001b[0m\u001b[0;34m)\u001b[0m\u001b[0;34m\u001b[0m\u001b[0;34m\u001b[0m\u001b[0m\n\u001b[0m\u001b[1;32m     64\u001b[0m \u001b[0;34m\u001b[0m\u001b[0m\n\u001b[1;32m     65\u001b[0m         \u001b[0mwrapper\u001b[0m\u001b[0;34m.\u001b[0m\u001b[0m__module__\u001b[0m \u001b[0;34m=\u001b[0m \u001b[0mowner\u001b[0m\u001b[0;34m.\u001b[0m\u001b[0m__module__\u001b[0m\u001b[0;34m\u001b[0m\u001b[0;34m\u001b[0m\u001b[0m\n",
      "\u001b[0;32m~/.local/lib/python3.6/site-packages/matplotlib/cbook/deprecation.py\u001b[0m in \u001b[0;36mwrapper\u001b[0;34m(*args, **kwargs)\u001b[0m\n\u001b[1;32m    449\u001b[0m                 \u001b[0;34m\"parameter will become keyword-only %(removal)s.\"\u001b[0m\u001b[0;34m,\u001b[0m\u001b[0;34m\u001b[0m\u001b[0;34m\u001b[0m\u001b[0m\n\u001b[1;32m    450\u001b[0m                 name=name, obj_type=f\"parameter of {func.__name__}()\")\n\u001b[0;32m--> 451\u001b[0;31m         \u001b[0;32mreturn\u001b[0m \u001b[0mfunc\u001b[0m\u001b[0;34m(\u001b[0m\u001b[0;34m*\u001b[0m\u001b[0margs\u001b[0m\u001b[0;34m,\u001b[0m \u001b[0;34m**\u001b[0m\u001b[0mkwargs\u001b[0m\u001b[0;34m)\u001b[0m\u001b[0;34m\u001b[0m\u001b[0;34m\u001b[0m\u001b[0m\n\u001b[0m\u001b[1;32m    452\u001b[0m \u001b[0;34m\u001b[0m\u001b[0m\n\u001b[1;32m    453\u001b[0m     \u001b[0;32mreturn\u001b[0m \u001b[0mwrapper\u001b[0m\u001b[0;34m\u001b[0m\u001b[0;34m\u001b[0m\u001b[0m\n",
      "\u001b[0;31mTypeError\u001b[0m: set_ticks() got an unexpected keyword argument 'labels'"
     ]
    },
    {
     "data": {
      "image/png": "[encoded data removed]",
      "text/plain": [
       "<Figure size 1728x720 with 1 Axes>"
      ]
     },
     "metadata": {
      "needs_background": "light"
     },
     "output_type": "display_data"
    },
    {
     "data": {
      "text/plain": [
       "<Figure size 1728x720 with 0 Axes>"
      ]
     },
     "metadata": {},
     "output_type": "display_data"
    }
   ],
   "source": [
    "methods_validation(5)"
   ]
  },
  {
   "cell_type": "code",
   "execution_count": null,
   "id": "e74fcee7-60ee-4dc7-8482-503c2935151c",
   "metadata": {},
   "outputs": [],
   "source": []
  }
 ],
 "metadata": {
  "kernelspec": {
   "display_name": "Python 3",
   "language": "python",
   "name": "python3"
  },
  "language_info": {
   "codemirror_mode": {
    "name": "ipython",
    "version": 3
   },
   "file_extension": ".py",
   "mimetype": "text/x-python",
   "name": "python",
   "nbconvert_exporter": "python",
   "pygments_lexer": "ipython3",
   "version": "3.6.8"
  }
 },
 "nbformat": 4,
 "nbformat_minor": 5
}
