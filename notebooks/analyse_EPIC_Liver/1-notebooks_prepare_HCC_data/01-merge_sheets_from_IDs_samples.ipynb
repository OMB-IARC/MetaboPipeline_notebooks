{
 "cells": [
  {
   "cell_type": "markdown",
   "metadata": {},
   "source": [
    "# Import dependencies"
   ]
  },
  {
   "cell_type": "code",
   "execution_count": 1,
   "metadata": {},
   "outputs": [],
   "source": [
    "import numpy as np\n",
    "import matplotlib.pyplot as plt\n",
    "import pandas as pd\n",
    "import seaborn as sns"
   ]
  },
  {
   "cell_type": "code",
   "execution_count": 4,
   "metadata": {},
   "outputs": [
    {
     "data": {
      "text/plain": [
       "'/home/jovyan/work/'"
      ]
     },
     "execution_count": 4,
     "metadata": {},
     "output_type": "execute_result"
    }
   ],
   "source": [
    "import re\n",
    "pwd = ! pwd\n",
    "pwd = re.sub('notebooks/1-notebooks_prepare_HCC_data', '', pwd[0])\n",
    "pwd"
   ]
  },
  {
   "cell_type": "code",
   "execution_count": null,
   "metadata": {},
   "outputs": [],
   "source": []
  },
  {
   "cell_type": "markdown",
   "metadata": {},
   "source": [
    "# Import data"
   ]
  },
  {
   "cell_type": "markdown",
   "metadata": {},
   "source": [
    "### Sheet 1 of the Excel file with the filename information, we need to match the IDs in the sheet with the IDs in the other sheet, problem there don't have the same form !\n",
    "\n",
    "### We create a new column *ID_split_HCC* (suffix of *Id Aliquot*) to compare IDs in the other sheet"
   ]
  },
  {
   "cell_type": "code",
   "execution_count": 6,
   "metadata": {},
   "outputs": [
    {
     "data": {
      "text/html": [
       "<div>\n",
       "<style scoped>\n",
       "    .dataframe tbody tr th:only-of-type {\n",
       "        vertical-align: middle;\n",
       "    }\n",
       "\n",
       "    .dataframe tbody tr th {\n",
       "        vertical-align: top;\n",
       "    }\n",
       "\n",
       "    .dataframe thead th {\n",
       "        text-align: right;\n",
       "    }\n",
       "</style>\n",
       "<table border=\"1\" class=\"dataframe\">\n",
       "  <thead>\n",
       "    <tr style=\"text-align: right;\">\n",
       "      <th></th>\n",
       "      <th>Id Aliquot</th>\n",
       "      <th>CaseCtrl</th>\n",
       "      <th>Id Metabo</th>\n",
       "      <th>ID_split_HCC</th>\n",
       "    </tr>\n",
       "  </thead>\n",
       "  <tbody>\n",
       "    <tr>\n",
       "      <th>0</th>\n",
       "      <td>71219179-s2#C</td>\n",
       "      <td>Non-case</td>\n",
       "      <td>NaN</td>\n",
       "      <td>71219179</td>\n",
       "    </tr>\n",
       "    <tr>\n",
       "      <th>1</th>\n",
       "      <td>71220023-s2#C</td>\n",
       "      <td>Incident</td>\n",
       "      <td>NaN</td>\n",
       "      <td>71220023</td>\n",
       "    </tr>\n",
       "    <tr>\n",
       "      <th>2</th>\n",
       "      <td>81________7792-s1#C</td>\n",
       "      <td>Non-case</td>\n",
       "      <td>NaN</td>\n",
       "      <td>7792</td>\n",
       "    </tr>\n",
       "    <tr>\n",
       "      <th>3</th>\n",
       "      <td>81________8367-s1#C</td>\n",
       "      <td>Incident</td>\n",
       "      <td>NaN</td>\n",
       "      <td>8367</td>\n",
       "    </tr>\n",
       "    <tr>\n",
       "      <th>4</th>\n",
       "      <td>72479995-s2#C</td>\n",
       "      <td>Non-case</td>\n",
       "      <td>LivCan_001</td>\n",
       "      <td>72479995</td>\n",
       "    </tr>\n",
       "    <tr>\n",
       "      <th>...</th>\n",
       "      <td>...</td>\n",
       "      <td>...</td>\n",
       "      <td>...</td>\n",
       "      <td>...</td>\n",
       "    </tr>\n",
       "    <tr>\n",
       "      <th>689</th>\n",
       "      <td>81________6991-s1#C</td>\n",
       "      <td>Non-case</td>\n",
       "      <td>NaN</td>\n",
       "      <td>6991</td>\n",
       "    </tr>\n",
       "    <tr>\n",
       "      <th>690</th>\n",
       "      <td>52565741-s2#C</td>\n",
       "      <td>Non-case</td>\n",
       "      <td>LivCan_543</td>\n",
       "      <td>52565741</td>\n",
       "    </tr>\n",
       "    <tr>\n",
       "      <th>691</th>\n",
       "      <td>52568391-s2#C</td>\n",
       "      <td>Incident</td>\n",
       "      <td>LivCan_544</td>\n",
       "      <td>52568391</td>\n",
       "    </tr>\n",
       "    <tr>\n",
       "      <th>692</th>\n",
       "      <td>61077734-s2#C</td>\n",
       "      <td>Non-case</td>\n",
       "      <td>LivCan_545</td>\n",
       "      <td>61077734</td>\n",
       "    </tr>\n",
       "    <tr>\n",
       "      <th>693</th>\n",
       "      <td>61077869-s2#C</td>\n",
       "      <td>Incident</td>\n",
       "      <td>LivCan_546</td>\n",
       "      <td>61077869</td>\n",
       "    </tr>\n",
       "  </tbody>\n",
       "</table>\n",
       "<p>694 rows × 4 columns</p>\n",
       "</div>"
      ],
      "text/plain": [
       "              Id Aliquot  CaseCtrl   Id Metabo ID_split_HCC\n",
       "0          71219179-s2#C  Non-case         NaN     71219179\n",
       "1          71220023-s2#C  Incident         NaN     71220023\n",
       "2    81________7792-s1#C  Non-case         NaN         7792\n",
       "3    81________8367-s1#C  Incident         NaN         8367\n",
       "4          72479995-s2#C  Non-case  LivCan_001     72479995\n",
       "..                   ...       ...         ...          ...\n",
       "689  81________6991-s1#C  Non-case         NaN         6991\n",
       "690        52565741-s2#C  Non-case  LivCan_543     52565741\n",
       "691        52568391-s2#C  Incident  LivCan_544     52568391\n",
       "692        61077734-s2#C  Non-case  LivCan_545     61077734\n",
       "693        61077869-s2#C  Incident  LivCan_546     61077869\n",
       "\n",
       "[694 rows x 4 columns]"
      ]
     },
     "execution_count": 6,
     "metadata": {},
     "output_type": "execute_result"
    }
   ],
   "source": [
    "all_samples = pd.read_excel(pwd + 'data/prepare_HCC_data/IDs_samples.xlsx', sheet_name='Sheet1')\n",
    "all_samples['ID_split_HCC'] = [elt.split('-')[0].split('_')[-1] for elt in all_samples['Id Aliquot']]\n",
    "all_samples"
   ]
  },
  {
   "cell_type": "code",
   "execution_count": 7,
   "metadata": {},
   "outputs": [
    {
     "data": {
      "text/plain": [
       "object    4\n",
       "dtype: int64"
      ]
     },
     "execution_count": 7,
     "metadata": {},
     "output_type": "execute_result"
    }
   ],
   "source": [
    "all_samples.dtypes.value_counts()"
   ]
  },
  {
   "cell_type": "code",
   "execution_count": null,
   "metadata": {},
   "outputs": [],
   "source": []
  },
  {
   "cell_type": "markdown",
   "metadata": {},
   "source": [
    "### Sheet 2 of the Excel file with the information on paired samples, type of tumor and their IDs\n",
    "\n",
    "### We create a new column *ID_split_HCC* (suffix of *Idepic_Bio*) to compare IDs in the other sheet"
   ]
  },
  {
   "cell_type": "code",
   "execution_count": null,
   "metadata": {},
   "outputs": [],
   "source": [
    "HCC_samples = pd.read_excel(pwd + 'data/prepare_HCC_data/IDs_samples.xlsx', sheet_name='Sheet2')\n",
    "HCC_samples['ID_split_HCC'] = [elt.split('_')[-1] for elt in HCC_samples['Idepic_Bio']]\n",
    "HCC_samples"
   ]
  },
  {
   "cell_type": "code",
   "execution_count": null,
   "metadata": {},
   "outputs": [],
   "source": [
    "HCC_samples.dtypes.value_counts()"
   ]
  },
  {
   "cell_type": "code",
   "execution_count": null,
   "metadata": {},
   "outputs": [],
   "source": []
  },
  {
   "cell_type": "markdown",
   "metadata": {},
   "source": [
    "### Pandas merge function (that we will use below) converts int values to floats if NaNs are introduced in the column (because of outer join for example). So we keep trace of initial int columns to re-convert them after the merging"
   ]
  },
  {
   "cell_type": "code",
   "execution_count": 7,
   "metadata": {},
   "outputs": [
    {
     "data": {
      "text/plain": [
       "Match_Caseset    int64\n",
       "dtype: object"
      ]
     },
     "execution_count": 7,
     "metadata": {},
     "output_type": "execute_result"
    }
   ],
   "source": [
    "HCC_samples.dtypes[HCC_samples.dtypes == 'int64']"
   ]
  },
  {
   "cell_type": "code",
   "execution_count": 8,
   "metadata": {},
   "outputs": [
    {
     "data": {
      "text/plain": [
       "['Match_Caseset']"
      ]
     },
     "execution_count": 8,
     "metadata": {},
     "output_type": "execute_result"
    }
   ],
   "source": [
    "int_col = list(HCC_samples.dtypes[HCC_samples.dtypes == 'int64'].index)\n",
    "int_col"
   ]
  },
  {
   "cell_type": "code",
   "execution_count": null,
   "metadata": {},
   "outputs": [],
   "source": []
  },
  {
   "cell_type": "markdown",
   "metadata": {},
   "source": [
    "## Merge both sheets based on splited IDs (columns *ID_split_HCC*)"
   ]
  },
  {
   "cell_type": "code",
   "execution_count": 9,
   "metadata": {},
   "outputs": [
    {
     "data": {
      "text/html": [
       "<div>\n",
       "<style scoped>\n",
       "    .dataframe tbody tr th:only-of-type {\n",
       "        vertical-align: middle;\n",
       "    }\n",
       "\n",
       "    .dataframe tbody tr th {\n",
       "        vertical-align: top;\n",
       "    }\n",
       "\n",
       "    .dataframe thead th {\n",
       "        text-align: right;\n",
       "    }\n",
       "</style>\n",
       "<table border=\"1\" class=\"dataframe\">\n",
       "  <thead>\n",
       "    <tr style=\"text-align: right;\">\n",
       "      <th></th>\n",
       "      <th>Id Aliquot</th>\n",
       "      <th>CaseCtrl</th>\n",
       "      <th>Id Metabo</th>\n",
       "      <th>ID_split_HCC</th>\n",
       "      <th>Idepic</th>\n",
       "      <th>Match_Caseset</th>\n",
       "      <th>Case_HCC_Wide</th>\n",
       "      <th>Idepic_Bio</th>\n",
       "      <th>Typ_Tumo</th>\n",
       "    </tr>\n",
       "  </thead>\n",
       "  <tbody>\n",
       "    <tr>\n",
       "      <th>0</th>\n",
       "      <td>71219179-s2#C</td>\n",
       "      <td>Non-case</td>\n",
       "      <td>NaN</td>\n",
       "      <td>71219179</td>\n",
       "      <td>NaN</td>\n",
       "      <td>NaN</td>\n",
       "      <td>NaN</td>\n",
       "      <td>NaN</td>\n",
       "      <td>NaN</td>\n",
       "    </tr>\n",
       "    <tr>\n",
       "      <th>1</th>\n",
       "      <td>71220023-s2#C</td>\n",
       "      <td>Incident</td>\n",
       "      <td>NaN</td>\n",
       "      <td>71220023</td>\n",
       "      <td>NaN</td>\n",
       "      <td>NaN</td>\n",
       "      <td>NaN</td>\n",
       "      <td>NaN</td>\n",
       "      <td>NaN</td>\n",
       "    </tr>\n",
       "    <tr>\n",
       "      <th>2</th>\n",
       "      <td>81________7792-s1#C</td>\n",
       "      <td>Non-case</td>\n",
       "      <td>NaN</td>\n",
       "      <td>7792</td>\n",
       "      <td>NaN</td>\n",
       "      <td>NaN</td>\n",
       "      <td>NaN</td>\n",
       "      <td>NaN</td>\n",
       "      <td>NaN</td>\n",
       "    </tr>\n",
       "    <tr>\n",
       "      <th>3</th>\n",
       "      <td>81________8367-s1#C</td>\n",
       "      <td>Incident</td>\n",
       "      <td>NaN</td>\n",
       "      <td>8367</td>\n",
       "      <td>NaN</td>\n",
       "      <td>NaN</td>\n",
       "      <td>NaN</td>\n",
       "      <td>NaN</td>\n",
       "      <td>NaN</td>\n",
       "    </tr>\n",
       "    <tr>\n",
       "      <th>4</th>\n",
       "      <td>72479995-s2#C</td>\n",
       "      <td>Non-case</td>\n",
       "      <td>LivCan_001</td>\n",
       "      <td>72479995</td>\n",
       "      <td>NaN</td>\n",
       "      <td>NaN</td>\n",
       "      <td>NaN</td>\n",
       "      <td>NaN</td>\n",
       "      <td>NaN</td>\n",
       "    </tr>\n",
       "    <tr>\n",
       "      <th>...</th>\n",
       "      <td>...</td>\n",
       "      <td>...</td>\n",
       "      <td>...</td>\n",
       "      <td>...</td>\n",
       "      <td>...</td>\n",
       "      <td>...</td>\n",
       "      <td>...</td>\n",
       "      <td>...</td>\n",
       "      <td>...</td>\n",
       "    </tr>\n",
       "    <tr>\n",
       "      <th>889</th>\n",
       "      <td>NaN</td>\n",
       "      <td>NaN</td>\n",
       "      <td>NaN</td>\n",
       "      <td>2481930386</td>\n",
       "      <td>82__2481930386</td>\n",
       "      <td>273.0</td>\n",
       "      <td>No</td>\n",
       "      <td>82__2481930386</td>\n",
       "      <td>NaN</td>\n",
       "    </tr>\n",
       "    <tr>\n",
       "      <th>890</th>\n",
       "      <td>NaN</td>\n",
       "      <td>NaN</td>\n",
       "      <td>NaN</td>\n",
       "      <td>2481930390</td>\n",
       "      <td>82__2481930390</td>\n",
       "      <td>273.0</td>\n",
       "      <td>Yes</td>\n",
       "      <td>82__2481930390</td>\n",
       "      <td>HCC/</td>\n",
       "    </tr>\n",
       "    <tr>\n",
       "      <th>891</th>\n",
       "      <td>NaN</td>\n",
       "      <td>NaN</td>\n",
       "      <td>NaN</td>\n",
       "      <td>2481960134</td>\n",
       "      <td>82__2481960134</td>\n",
       "      <td>267.0</td>\n",
       "      <td>No</td>\n",
       "      <td>82__2481960134</td>\n",
       "      <td>NaN</td>\n",
       "    </tr>\n",
       "    <tr>\n",
       "      <th>892</th>\n",
       "      <td>NaN</td>\n",
       "      <td>NaN</td>\n",
       "      <td>NaN</td>\n",
       "      <td>2481960343</td>\n",
       "      <td>82__2481960343</td>\n",
       "      <td>532.0</td>\n",
       "      <td>Yes</td>\n",
       "      <td>82__2481960343</td>\n",
       "      <td>HCC/</td>\n",
       "    </tr>\n",
       "    <tr>\n",
       "      <th>893</th>\n",
       "      <td>NaN</td>\n",
       "      <td>NaN</td>\n",
       "      <td>NaN</td>\n",
       "      <td>01911</td>\n",
       "      <td>92_______01911</td>\n",
       "      <td>744.0</td>\n",
       "      <td>No</td>\n",
       "      <td>92_______01911</td>\n",
       "      <td>NaN</td>\n",
       "    </tr>\n",
       "  </tbody>\n",
       "</table>\n",
       "<p>894 rows × 9 columns</p>\n",
       "</div>"
      ],
      "text/plain": [
       "              Id Aliquot  CaseCtrl   Id Metabo ID_split_HCC          Idepic  \\\n",
       "0          71219179-s2#C  Non-case         NaN     71219179             NaN   \n",
       "1          71220023-s2#C  Incident         NaN     71220023             NaN   \n",
       "2    81________7792-s1#C  Non-case         NaN         7792             NaN   \n",
       "3    81________8367-s1#C  Incident         NaN         8367             NaN   \n",
       "4          72479995-s2#C  Non-case  LivCan_001     72479995             NaN   \n",
       "..                   ...       ...         ...          ...             ...   \n",
       "889                  NaN       NaN         NaN   2481930386  82__2481930386   \n",
       "890                  NaN       NaN         NaN   2481930390  82__2481930390   \n",
       "891                  NaN       NaN         NaN   2481960134  82__2481960134   \n",
       "892                  NaN       NaN         NaN   2481960343  82__2481960343   \n",
       "893                  NaN       NaN         NaN        01911  92_______01911   \n",
       "\n",
       "     Match_Caseset Case_HCC_Wide      Idepic_Bio Typ_Tumo  \n",
       "0              NaN           NaN             NaN      NaN  \n",
       "1              NaN           NaN             NaN      NaN  \n",
       "2              NaN           NaN             NaN      NaN  \n",
       "3              NaN           NaN             NaN      NaN  \n",
       "4              NaN           NaN             NaN      NaN  \n",
       "..             ...           ...             ...      ...  \n",
       "889          273.0            No  82__2481930386      NaN  \n",
       "890          273.0           Yes  82__2481930390     HCC/  \n",
       "891          267.0            No  82__2481960134      NaN  \n",
       "892          532.0           Yes  82__2481960343     HCC/  \n",
       "893          744.0            No  92_______01911      NaN  \n",
       "\n",
       "[894 rows x 9 columns]"
      ]
     },
     "execution_count": 9,
     "metadata": {},
     "output_type": "execute_result"
    }
   ],
   "source": [
    "merge = pd.merge(all_samples, HCC_samples, how='outer', on='ID_split_HCC')\n",
    "merge"
   ]
  },
  {
   "cell_type": "code",
   "execution_count": 10,
   "metadata": {},
   "outputs": [
    {
     "data": {
      "text/plain": [
       "object     8\n",
       "float64    1\n",
       "dtype: int64"
      ]
     },
     "execution_count": 10,
     "metadata": {},
     "output_type": "execute_result"
    }
   ],
   "source": [
    "merge.dtypes.value_counts()"
   ]
  },
  {
   "cell_type": "markdown",
   "metadata": {},
   "source": [
    "### We can see that Match_Caseset column has been converted from int to float"
   ]
  },
  {
   "cell_type": "code",
   "execution_count": 11,
   "metadata": {},
   "outputs": [
    {
     "name": "stdout",
     "output_type": "stream",
     "text": [
      "Column Match_Caseset is type float64\n",
      "Conversion...\n",
      "Column Match_Caseset is type Int64\n",
      "\n"
     ]
    }
   ],
   "source": [
    "for col in int_col:\n",
    "    \n",
    "    print(f'Column {col} is type {merge[col].dtype}')\n",
    "    print(f'Conversion...')\n",
    "    merge[col] = pd.to_numeric(merge[col],errors='coerce').astype(pd.Int64Dtype())\n",
    "    print(f'Column {col} is type {merge[col].dtype}')\n",
    "    print()"
   ]
  },
  {
   "cell_type": "code",
   "execution_count": 12,
   "metadata": {},
   "outputs": [
    {
     "data": {
      "text/plain": [
       "object    8\n",
       "Int64     1\n",
       "dtype: int64"
      ]
     },
     "execution_count": 12,
     "metadata": {},
     "output_type": "execute_result"
    }
   ],
   "source": [
    "merge.dtypes.value_counts()"
   ]
  },
  {
   "cell_type": "code",
   "execution_count": null,
   "metadata": {},
   "outputs": [],
   "source": []
  },
  {
   "cell_type": "code",
   "execution_count": null,
   "metadata": {},
   "outputs": [],
   "source": []
  },
  {
   "cell_type": "markdown",
   "metadata": {},
   "source": [
    "### We can see that the NaNs don't have the same type in original column (*Idepic*) and in column we re-converted to int (*Match_Caseset*)..."
   ]
  },
  {
   "cell_type": "code",
   "execution_count": 13,
   "metadata": {},
   "outputs": [
    {
     "data": {
      "text/html": [
       "<div>\n",
       "<style scoped>\n",
       "    .dataframe tbody tr th:only-of-type {\n",
       "        vertical-align: middle;\n",
       "    }\n",
       "\n",
       "    .dataframe tbody tr th {\n",
       "        vertical-align: top;\n",
       "    }\n",
       "\n",
       "    .dataframe thead th {\n",
       "        text-align: right;\n",
       "    }\n",
       "</style>\n",
       "<table border=\"1\" class=\"dataframe\">\n",
       "  <thead>\n",
       "    <tr style=\"text-align: right;\">\n",
       "      <th></th>\n",
       "      <th>Idepic</th>\n",
       "      <th>Match_Caseset</th>\n",
       "    </tr>\n",
       "  </thead>\n",
       "  <tbody>\n",
       "    <tr>\n",
       "      <th>0</th>\n",
       "      <td>NaN</td>\n",
       "      <td>&lt;NA&gt;</td>\n",
       "    </tr>\n",
       "    <tr>\n",
       "      <th>1</th>\n",
       "      <td>NaN</td>\n",
       "      <td>&lt;NA&gt;</td>\n",
       "    </tr>\n",
       "    <tr>\n",
       "      <th>2</th>\n",
       "      <td>NaN</td>\n",
       "      <td>&lt;NA&gt;</td>\n",
       "    </tr>\n",
       "    <tr>\n",
       "      <th>3</th>\n",
       "      <td>NaN</td>\n",
       "      <td>&lt;NA&gt;</td>\n",
       "    </tr>\n",
       "    <tr>\n",
       "      <th>4</th>\n",
       "      <td>NaN</td>\n",
       "      <td>&lt;NA&gt;</td>\n",
       "    </tr>\n",
       "    <tr>\n",
       "      <th>...</th>\n",
       "      <td>...</td>\n",
       "      <td>...</td>\n",
       "    </tr>\n",
       "    <tr>\n",
       "      <th>889</th>\n",
       "      <td>82__2481930386</td>\n",
       "      <td>273</td>\n",
       "    </tr>\n",
       "    <tr>\n",
       "      <th>890</th>\n",
       "      <td>82__2481930390</td>\n",
       "      <td>273</td>\n",
       "    </tr>\n",
       "    <tr>\n",
       "      <th>891</th>\n",
       "      <td>82__2481960134</td>\n",
       "      <td>267</td>\n",
       "    </tr>\n",
       "    <tr>\n",
       "      <th>892</th>\n",
       "      <td>82__2481960343</td>\n",
       "      <td>532</td>\n",
       "    </tr>\n",
       "    <tr>\n",
       "      <th>893</th>\n",
       "      <td>92_______01911</td>\n",
       "      <td>744</td>\n",
       "    </tr>\n",
       "  </tbody>\n",
       "</table>\n",
       "<p>894 rows × 2 columns</p>\n",
       "</div>"
      ],
      "text/plain": [
       "             Idepic  Match_Caseset\n",
       "0               NaN           <NA>\n",
       "1               NaN           <NA>\n",
       "2               NaN           <NA>\n",
       "3               NaN           <NA>\n",
       "4               NaN           <NA>\n",
       "..              ...            ...\n",
       "889  82__2481930386            273\n",
       "890  82__2481930390            273\n",
       "891  82__2481960134            267\n",
       "892  82__2481960343            532\n",
       "893  92_______01911            744\n",
       "\n",
       "[894 rows x 2 columns]"
      ]
     },
     "execution_count": 13,
     "metadata": {},
     "output_type": "execute_result"
    }
   ],
   "source": [
    "merge[['Idepic', 'Match_Caseset']]"
   ]
  },
  {
   "cell_type": "markdown",
   "metadata": {},
   "source": [
    "## ...but are still both considered as NaNs"
   ]
  },
  {
   "cell_type": "code",
   "execution_count": 14,
   "metadata": {},
   "outputs": [
    {
     "data": {
      "text/html": [
       "<div>\n",
       "<style scoped>\n",
       "    .dataframe tbody tr th:only-of-type {\n",
       "        vertical-align: middle;\n",
       "    }\n",
       "\n",
       "    .dataframe tbody tr th {\n",
       "        vertical-align: top;\n",
       "    }\n",
       "\n",
       "    .dataframe thead th {\n",
       "        text-align: right;\n",
       "    }\n",
       "</style>\n",
       "<table border=\"1\" class=\"dataframe\">\n",
       "  <thead>\n",
       "    <tr style=\"text-align: right;\">\n",
       "      <th></th>\n",
       "      <th>Idepic</th>\n",
       "      <th>Match_Caseset</th>\n",
       "    </tr>\n",
       "  </thead>\n",
       "  <tbody>\n",
       "    <tr>\n",
       "      <th>0</th>\n",
       "      <td>True</td>\n",
       "      <td>True</td>\n",
       "    </tr>\n",
       "    <tr>\n",
       "      <th>1</th>\n",
       "      <td>True</td>\n",
       "      <td>True</td>\n",
       "    </tr>\n",
       "    <tr>\n",
       "      <th>2</th>\n",
       "      <td>True</td>\n",
       "      <td>True</td>\n",
       "    </tr>\n",
       "    <tr>\n",
       "      <th>3</th>\n",
       "      <td>True</td>\n",
       "      <td>True</td>\n",
       "    </tr>\n",
       "    <tr>\n",
       "      <th>4</th>\n",
       "      <td>True</td>\n",
       "      <td>True</td>\n",
       "    </tr>\n",
       "    <tr>\n",
       "      <th>...</th>\n",
       "      <td>...</td>\n",
       "      <td>...</td>\n",
       "    </tr>\n",
       "    <tr>\n",
       "      <th>889</th>\n",
       "      <td>False</td>\n",
       "      <td>False</td>\n",
       "    </tr>\n",
       "    <tr>\n",
       "      <th>890</th>\n",
       "      <td>False</td>\n",
       "      <td>False</td>\n",
       "    </tr>\n",
       "    <tr>\n",
       "      <th>891</th>\n",
       "      <td>False</td>\n",
       "      <td>False</td>\n",
       "    </tr>\n",
       "    <tr>\n",
       "      <th>892</th>\n",
       "      <td>False</td>\n",
       "      <td>False</td>\n",
       "    </tr>\n",
       "    <tr>\n",
       "      <th>893</th>\n",
       "      <td>False</td>\n",
       "      <td>False</td>\n",
       "    </tr>\n",
       "  </tbody>\n",
       "</table>\n",
       "<p>894 rows × 2 columns</p>\n",
       "</div>"
      ],
      "text/plain": [
       "     Idepic  Match_Caseset\n",
       "0      True           True\n",
       "1      True           True\n",
       "2      True           True\n",
       "3      True           True\n",
       "4      True           True\n",
       "..      ...            ...\n",
       "889   False          False\n",
       "890   False          False\n",
       "891   False          False\n",
       "892   False          False\n",
       "893   False          False\n",
       "\n",
       "[894 rows x 2 columns]"
      ]
     },
     "execution_count": 14,
     "metadata": {},
     "output_type": "execute_result"
    }
   ],
   "source": [
    "merge[['Idepic', 'Match_Caseset']].isna()"
   ]
  },
  {
   "cell_type": "code",
   "execution_count": 15,
   "metadata": {},
   "outputs": [
    {
     "name": "stdout",
     "output_type": "stream",
     "text": [
      "nan is type <class 'float'>\n",
      "<NA> is type <class 'pandas._libs.missing.NAType'>\n"
     ]
    }
   ],
   "source": [
    "print(f\"{merge.loc[0, 'Idepic']} is type {type(merge.loc[0, 'Idepic'])}\")\n",
    "print(f\"{merge.loc[0, 'Match_Caseset']} is type {type(merge.loc[0, 'Match_Caseset'])}\")"
   ]
  },
  {
   "cell_type": "code",
   "execution_count": null,
   "metadata": {},
   "outputs": [],
   "source": []
  },
  {
   "cell_type": "code",
   "execution_count": 16,
   "metadata": {},
   "outputs": [
    {
     "data": {
      "text/html": [
       "<div>\n",
       "<style scoped>\n",
       "    .dataframe tbody tr th:only-of-type {\n",
       "        vertical-align: middle;\n",
       "    }\n",
       "\n",
       "    .dataframe tbody tr th {\n",
       "        vertical-align: top;\n",
       "    }\n",
       "\n",
       "    .dataframe thead th {\n",
       "        text-align: right;\n",
       "    }\n",
       "</style>\n",
       "<table border=\"1\" class=\"dataframe\">\n",
       "  <thead>\n",
       "    <tr style=\"text-align: right;\">\n",
       "      <th></th>\n",
       "      <th>Id Aliquot</th>\n",
       "      <th>CaseCtrl</th>\n",
       "      <th>Id Metabo</th>\n",
       "      <th>ID_split_HCC</th>\n",
       "      <th>Idepic</th>\n",
       "      <th>Match_Caseset</th>\n",
       "      <th>Case_HCC_Wide</th>\n",
       "      <th>Idepic_Bio</th>\n",
       "      <th>Typ_Tumo</th>\n",
       "    </tr>\n",
       "  </thead>\n",
       "  <tbody>\n",
       "    <tr>\n",
       "      <th>0</th>\n",
       "      <td>71219179-s2#C</td>\n",
       "      <td>Non-case</td>\n",
       "      <td>NaN</td>\n",
       "      <td>71219179</td>\n",
       "      <td>NaN</td>\n",
       "      <td>&lt;NA&gt;</td>\n",
       "      <td>NaN</td>\n",
       "      <td>NaN</td>\n",
       "      <td>NaN</td>\n",
       "    </tr>\n",
       "    <tr>\n",
       "      <th>1</th>\n",
       "      <td>71220023-s2#C</td>\n",
       "      <td>Incident</td>\n",
       "      <td>NaN</td>\n",
       "      <td>71220023</td>\n",
       "      <td>NaN</td>\n",
       "      <td>&lt;NA&gt;</td>\n",
       "      <td>NaN</td>\n",
       "      <td>NaN</td>\n",
       "      <td>NaN</td>\n",
       "    </tr>\n",
       "    <tr>\n",
       "      <th>2</th>\n",
       "      <td>81________7792-s1#C</td>\n",
       "      <td>Non-case</td>\n",
       "      <td>NaN</td>\n",
       "      <td>7792</td>\n",
       "      <td>NaN</td>\n",
       "      <td>&lt;NA&gt;</td>\n",
       "      <td>NaN</td>\n",
       "      <td>NaN</td>\n",
       "      <td>NaN</td>\n",
       "    </tr>\n",
       "    <tr>\n",
       "      <th>3</th>\n",
       "      <td>81________8367-s1#C</td>\n",
       "      <td>Incident</td>\n",
       "      <td>NaN</td>\n",
       "      <td>8367</td>\n",
       "      <td>NaN</td>\n",
       "      <td>&lt;NA&gt;</td>\n",
       "      <td>NaN</td>\n",
       "      <td>NaN</td>\n",
       "      <td>NaN</td>\n",
       "    </tr>\n",
       "    <tr>\n",
       "      <th>4</th>\n",
       "      <td>72479995-s2#C</td>\n",
       "      <td>Non-case</td>\n",
       "      <td>LivCan_001</td>\n",
       "      <td>72479995</td>\n",
       "      <td>NaN</td>\n",
       "      <td>&lt;NA&gt;</td>\n",
       "      <td>NaN</td>\n",
       "      <td>NaN</td>\n",
       "      <td>NaN</td>\n",
       "    </tr>\n",
       "    <tr>\n",
       "      <th>...</th>\n",
       "      <td>...</td>\n",
       "      <td>...</td>\n",
       "      <td>...</td>\n",
       "      <td>...</td>\n",
       "      <td>...</td>\n",
       "      <td>...</td>\n",
       "      <td>...</td>\n",
       "      <td>...</td>\n",
       "      <td>...</td>\n",
       "    </tr>\n",
       "    <tr>\n",
       "      <th>889</th>\n",
       "      <td>NaN</td>\n",
       "      <td>NaN</td>\n",
       "      <td>NaN</td>\n",
       "      <td>2481930386</td>\n",
       "      <td>82__2481930386</td>\n",
       "      <td>273</td>\n",
       "      <td>No</td>\n",
       "      <td>82__2481930386</td>\n",
       "      <td>NaN</td>\n",
       "    </tr>\n",
       "    <tr>\n",
       "      <th>890</th>\n",
       "      <td>NaN</td>\n",
       "      <td>NaN</td>\n",
       "      <td>NaN</td>\n",
       "      <td>2481930390</td>\n",
       "      <td>82__2481930390</td>\n",
       "      <td>273</td>\n",
       "      <td>Yes</td>\n",
       "      <td>82__2481930390</td>\n",
       "      <td>HCC/</td>\n",
       "    </tr>\n",
       "    <tr>\n",
       "      <th>891</th>\n",
       "      <td>NaN</td>\n",
       "      <td>NaN</td>\n",
       "      <td>NaN</td>\n",
       "      <td>2481960134</td>\n",
       "      <td>82__2481960134</td>\n",
       "      <td>267</td>\n",
       "      <td>No</td>\n",
       "      <td>82__2481960134</td>\n",
       "      <td>NaN</td>\n",
       "    </tr>\n",
       "    <tr>\n",
       "      <th>892</th>\n",
       "      <td>NaN</td>\n",
       "      <td>NaN</td>\n",
       "      <td>NaN</td>\n",
       "      <td>2481960343</td>\n",
       "      <td>82__2481960343</td>\n",
       "      <td>532</td>\n",
       "      <td>Yes</td>\n",
       "      <td>82__2481960343</td>\n",
       "      <td>HCC/</td>\n",
       "    </tr>\n",
       "    <tr>\n",
       "      <th>893</th>\n",
       "      <td>NaN</td>\n",
       "      <td>NaN</td>\n",
       "      <td>NaN</td>\n",
       "      <td>01911</td>\n",
       "      <td>92_______01911</td>\n",
       "      <td>744</td>\n",
       "      <td>No</td>\n",
       "      <td>92_______01911</td>\n",
       "      <td>NaN</td>\n",
       "    </tr>\n",
       "  </tbody>\n",
       "</table>\n",
       "<p>894 rows × 9 columns</p>\n",
       "</div>"
      ],
      "text/plain": [
       "              Id Aliquot  CaseCtrl   Id Metabo ID_split_HCC          Idepic  \\\n",
       "0          71219179-s2#C  Non-case         NaN     71219179             NaN   \n",
       "1          71220023-s2#C  Incident         NaN     71220023             NaN   \n",
       "2    81________7792-s1#C  Non-case         NaN         7792             NaN   \n",
       "3    81________8367-s1#C  Incident         NaN         8367             NaN   \n",
       "4          72479995-s2#C  Non-case  LivCan_001     72479995             NaN   \n",
       "..                   ...       ...         ...          ...             ...   \n",
       "889                  NaN       NaN         NaN   2481930386  82__2481930386   \n",
       "890                  NaN       NaN         NaN   2481930390  82__2481930390   \n",
       "891                  NaN       NaN         NaN   2481960134  82__2481960134   \n",
       "892                  NaN       NaN         NaN   2481960343  82__2481960343   \n",
       "893                  NaN       NaN         NaN        01911  92_______01911   \n",
       "\n",
       "     Match_Caseset Case_HCC_Wide      Idepic_Bio Typ_Tumo  \n",
       "0             <NA>           NaN             NaN      NaN  \n",
       "1             <NA>           NaN             NaN      NaN  \n",
       "2             <NA>           NaN             NaN      NaN  \n",
       "3             <NA>           NaN             NaN      NaN  \n",
       "4             <NA>           NaN             NaN      NaN  \n",
       "..             ...           ...             ...      ...  \n",
       "889            273            No  82__2481930386      NaN  \n",
       "890            273           Yes  82__2481930390     HCC/  \n",
       "891            267            No  82__2481960134      NaN  \n",
       "892            532           Yes  82__2481960343     HCC/  \n",
       "893            744            No  92_______01911      NaN  \n",
       "\n",
       "[894 rows x 9 columns]"
      ]
     },
     "execution_count": 16,
     "metadata": {},
     "output_type": "execute_result"
    }
   ],
   "source": [
    "merge"
   ]
  },
  {
   "cell_type": "code",
   "execution_count": null,
   "metadata": {},
   "outputs": [],
   "source": []
  },
  {
   "cell_type": "code",
   "execution_count": 17,
   "metadata": {},
   "outputs": [
    {
     "data": {
      "text/plain": [
       "Id Aliquot       694\n",
       "CaseCtrl         694\n",
       "Id Metabo        546\n",
       "ID_split_HCC     894\n",
       "Idepic           426\n",
       "Match_Caseset    426\n",
       "Case_HCC_Wide    426\n",
       "Idepic_Bio       426\n",
       "Typ_Tumo         213\n",
       "dtype: int64"
      ]
     },
     "execution_count": 17,
     "metadata": {},
     "output_type": "execute_result"
    }
   ],
   "source": [
    "merge.notna().sum()"
   ]
  },
  {
   "cell_type": "code",
   "execution_count": null,
   "metadata": {},
   "outputs": [],
   "source": []
  },
  {
   "cell_type": "code",
   "execution_count": 18,
   "metadata": {},
   "outputs": [
    {
     "data": {
      "image/png": "[encoded data removed]",
      "text/plain": [
       "<Figure size 720x720 with 1 Axes>"
      ]
     },
     "metadata": {
      "needs_background": "light"
     },
     "output_type": "display_data"
    }
   ],
   "source": [
    "plt.figure(figsize=(10,10))\n",
    "sns.heatmap(merge.notna(), cbar=False);"
   ]
  },
  {
   "cell_type": "code",
   "execution_count": 19,
   "metadata": {},
   "outputs": [],
   "source": [
    "merge.to_csv(pwd + 'data/prepare_HCC_data/IDs_samples_merged.csv', index = False, header=True)"
   ]
  },
  {
   "cell_type": "code",
   "execution_count": null,
   "metadata": {},
   "outputs": [],
   "source": []
  },
  {
   "cell_type": "code",
   "execution_count": null,
   "metadata": {},
   "outputs": [],
   "source": []
  },
  {
   "cell_type": "code",
   "execution_count": null,
   "metadata": {},
   "outputs": [],
   "source": []
  },
  {
   "cell_type": "code",
   "execution_count": null,
   "metadata": {},
   "outputs": [],
   "source": []
  }
 ],
 "metadata": {
  "kernelspec": {
   "display_name": "Python 3 (ipykernel)",
   "language": "python",
   "name": "python3"
  },
  "language_info": {
   "codemirror_mode": {
    "name": "ipython",
    "version": 3
   },
   "file_extension": ".py",
   "mimetype": "text/x-python",
   "name": "python",
   "nbconvert_exporter": "python",
   "pygments_lexer": "ipython3",
   "version": "3.9.10"
  },
  "toc": {
   "base_numbering": 1,
   "nav_menu": {},
   "number_sections": false,
   "sideBar": false,
   "skip_h1_title": false,
   "title_cell": "Table of Contents",
   "title_sidebar": "Contents",
   "toc_cell": false,
   "toc_position": {},
   "toc_section_display": false,
   "toc_window_display": false
  }
 },
 "nbformat": 4,
 "nbformat_minor": 4
}
